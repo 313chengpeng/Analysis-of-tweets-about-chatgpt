{
  "nbformat": 4,
  "nbformat_minor": 0,
  "metadata": {
    "colab": {
      "provenance": [],
      "authorship_tag": "ABX9TyOUibhKRMnzNviSqg0UYkDs",
      "include_colab_link": true
    },
    "kernelspec": {
      "name": "python3",
      "display_name": "Python 3"
    },
    "language_info": {
      "name": "python"
    },
    "widgets": {
      "application/vnd.jupyter.widget-state+json": {
        "418173eb11fb454e8886b959b5276bd9": {
          "model_module": "@jupyter-widgets/controls",
          "model_name": "HBoxModel",
          "model_module_version": "1.5.0",
          "state": {
            "_dom_classes": [],
            "_model_module": "@jupyter-widgets/controls",
            "_model_module_version": "1.5.0",
            "_model_name": "HBoxModel",
            "_view_count": null,
            "_view_module": "@jupyter-widgets/controls",
            "_view_module_version": "1.5.0",
            "_view_name": "HBoxView",
            "box_style": "",
            "children": [
              "IPY_MODEL_2d93c8cd242f48ceab7a267aa3e295d8",
              "IPY_MODEL_fc88be582c6148cbaee6a71ad8a0fe78",
              "IPY_MODEL_8f60fcc7eeaf4615a7265ad51628806d"
            ],
            "layout": "IPY_MODEL_b5c739d1389b401291288e50f6fac29e"
          }
        },
        "2d93c8cd242f48ceab7a267aa3e295d8": {
          "model_module": "@jupyter-widgets/controls",
          "model_name": "HTMLModel",
          "model_module_version": "1.5.0",
          "state": {
            "_dom_classes": [],
            "_model_module": "@jupyter-widgets/controls",
            "_model_module_version": "1.5.0",
            "_model_name": "HTMLModel",
            "_view_count": null,
            "_view_module": "@jupyter-widgets/controls",
            "_view_module_version": "1.5.0",
            "_view_name": "HTMLView",
            "description": "",
            "description_tooltip": null,
            "layout": "IPY_MODEL_a752ae0fb4d64de2ac32b3aad11e94c0",
            "placeholder": "​",
            "style": "IPY_MODEL_fbd37ed140384f679dbc15b32c502a69",
            "value": "100%"
          }
        },
        "fc88be582c6148cbaee6a71ad8a0fe78": {
          "model_module": "@jupyter-widgets/controls",
          "model_name": "FloatProgressModel",
          "model_module_version": "1.5.0",
          "state": {
            "_dom_classes": [],
            "_model_module": "@jupyter-widgets/controls",
            "_model_module_version": "1.5.0",
            "_model_name": "FloatProgressModel",
            "_view_count": null,
            "_view_module": "@jupyter-widgets/controls",
            "_view_module_version": "1.5.0",
            "_view_name": "ProgressView",
            "bar_style": "success",
            "description": "",
            "description_tooltip": null,
            "layout": "IPY_MODEL_2d15ea546e1e447aa4f2eaa965013802",
            "max": 117021,
            "min": 0,
            "orientation": "horizontal",
            "style": "IPY_MODEL_8ee4126bf9d64d3ebe6f698a8392fd95",
            "value": 117021
          }
        },
        "8f60fcc7eeaf4615a7265ad51628806d": {
          "model_module": "@jupyter-widgets/controls",
          "model_name": "HTMLModel",
          "model_module_version": "1.5.0",
          "state": {
            "_dom_classes": [],
            "_model_module": "@jupyter-widgets/controls",
            "_model_module_version": "1.5.0",
            "_model_name": "HTMLModel",
            "_view_count": null,
            "_view_module": "@jupyter-widgets/controls",
            "_view_module_version": "1.5.0",
            "_view_name": "HTMLView",
            "description": "",
            "description_tooltip": null,
            "layout": "IPY_MODEL_698ff4307d5642fb8e74971e763ccb40",
            "placeholder": "​",
            "style": "IPY_MODEL_20049ae87c324d9082515d32a378e642",
            "value": " 117021/117021 [01:43&lt;00:00, 904.37it/s]"
          }
        },
        "b5c739d1389b401291288e50f6fac29e": {
          "model_module": "@jupyter-widgets/base",
          "model_name": "LayoutModel",
          "model_module_version": "1.2.0",
          "state": {
            "_model_module": "@jupyter-widgets/base",
            "_model_module_version": "1.2.0",
            "_model_name": "LayoutModel",
            "_view_count": null,
            "_view_module": "@jupyter-widgets/base",
            "_view_module_version": "1.2.0",
            "_view_name": "LayoutView",
            "align_content": null,
            "align_items": null,
            "align_self": null,
            "border": null,
            "bottom": null,
            "display": null,
            "flex": null,
            "flex_flow": null,
            "grid_area": null,
            "grid_auto_columns": null,
            "grid_auto_flow": null,
            "grid_auto_rows": null,
            "grid_column": null,
            "grid_gap": null,
            "grid_row": null,
            "grid_template_areas": null,
            "grid_template_columns": null,
            "grid_template_rows": null,
            "height": null,
            "justify_content": null,
            "justify_items": null,
            "left": null,
            "margin": null,
            "max_height": null,
            "max_width": null,
            "min_height": null,
            "min_width": null,
            "object_fit": null,
            "object_position": null,
            "order": null,
            "overflow": null,
            "overflow_x": null,
            "overflow_y": null,
            "padding": null,
            "right": null,
            "top": null,
            "visibility": null,
            "width": null
          }
        },
        "a752ae0fb4d64de2ac32b3aad11e94c0": {
          "model_module": "@jupyter-widgets/base",
          "model_name": "LayoutModel",
          "model_module_version": "1.2.0",
          "state": {
            "_model_module": "@jupyter-widgets/base",
            "_model_module_version": "1.2.0",
            "_model_name": "LayoutModel",
            "_view_count": null,
            "_view_module": "@jupyter-widgets/base",
            "_view_module_version": "1.2.0",
            "_view_name": "LayoutView",
            "align_content": null,
            "align_items": null,
            "align_self": null,
            "border": null,
            "bottom": null,
            "display": null,
            "flex": null,
            "flex_flow": null,
            "grid_area": null,
            "grid_auto_columns": null,
            "grid_auto_flow": null,
            "grid_auto_rows": null,
            "grid_column": null,
            "grid_gap": null,
            "grid_row": null,
            "grid_template_areas": null,
            "grid_template_columns": null,
            "grid_template_rows": null,
            "height": null,
            "justify_content": null,
            "justify_items": null,
            "left": null,
            "margin": null,
            "max_height": null,
            "max_width": null,
            "min_height": null,
            "min_width": null,
            "object_fit": null,
            "object_position": null,
            "order": null,
            "overflow": null,
            "overflow_x": null,
            "overflow_y": null,
            "padding": null,
            "right": null,
            "top": null,
            "visibility": null,
            "width": null
          }
        },
        "fbd37ed140384f679dbc15b32c502a69": {
          "model_module": "@jupyter-widgets/controls",
          "model_name": "DescriptionStyleModel",
          "model_module_version": "1.5.0",
          "state": {
            "_model_module": "@jupyter-widgets/controls",
            "_model_module_version": "1.5.0",
            "_model_name": "DescriptionStyleModel",
            "_view_count": null,
            "_view_module": "@jupyter-widgets/base",
            "_view_module_version": "1.2.0",
            "_view_name": "StyleView",
            "description_width": ""
          }
        },
        "2d15ea546e1e447aa4f2eaa965013802": {
          "model_module": "@jupyter-widgets/base",
          "model_name": "LayoutModel",
          "model_module_version": "1.2.0",
          "state": {
            "_model_module": "@jupyter-widgets/base",
            "_model_module_version": "1.2.0",
            "_model_name": "LayoutModel",
            "_view_count": null,
            "_view_module": "@jupyter-widgets/base",
            "_view_module_version": "1.2.0",
            "_view_name": "LayoutView",
            "align_content": null,
            "align_items": null,
            "align_self": null,
            "border": null,
            "bottom": null,
            "display": null,
            "flex": null,
            "flex_flow": null,
            "grid_area": null,
            "grid_auto_columns": null,
            "grid_auto_flow": null,
            "grid_auto_rows": null,
            "grid_column": null,
            "grid_gap": null,
            "grid_row": null,
            "grid_template_areas": null,
            "grid_template_columns": null,
            "grid_template_rows": null,
            "height": null,
            "justify_content": null,
            "justify_items": null,
            "left": null,
            "margin": null,
            "max_height": null,
            "max_width": null,
            "min_height": null,
            "min_width": null,
            "object_fit": null,
            "object_position": null,
            "order": null,
            "overflow": null,
            "overflow_x": null,
            "overflow_y": null,
            "padding": null,
            "right": null,
            "top": null,
            "visibility": null,
            "width": null
          }
        },
        "8ee4126bf9d64d3ebe6f698a8392fd95": {
          "model_module": "@jupyter-widgets/controls",
          "model_name": "ProgressStyleModel",
          "model_module_version": "1.5.0",
          "state": {
            "_model_module": "@jupyter-widgets/controls",
            "_model_module_version": "1.5.0",
            "_model_name": "ProgressStyleModel",
            "_view_count": null,
            "_view_module": "@jupyter-widgets/base",
            "_view_module_version": "1.2.0",
            "_view_name": "StyleView",
            "bar_color": null,
            "description_width": ""
          }
        },
        "698ff4307d5642fb8e74971e763ccb40": {
          "model_module": "@jupyter-widgets/base",
          "model_name": "LayoutModel",
          "model_module_version": "1.2.0",
          "state": {
            "_model_module": "@jupyter-widgets/base",
            "_model_module_version": "1.2.0",
            "_model_name": "LayoutModel",
            "_view_count": null,
            "_view_module": "@jupyter-widgets/base",
            "_view_module_version": "1.2.0",
            "_view_name": "LayoutView",
            "align_content": null,
            "align_items": null,
            "align_self": null,
            "border": null,
            "bottom": null,
            "display": null,
            "flex": null,
            "flex_flow": null,
            "grid_area": null,
            "grid_auto_columns": null,
            "grid_auto_flow": null,
            "grid_auto_rows": null,
            "grid_column": null,
            "grid_gap": null,
            "grid_row": null,
            "grid_template_areas": null,
            "grid_template_columns": null,
            "grid_template_rows": null,
            "height": null,
            "justify_content": null,
            "justify_items": null,
            "left": null,
            "margin": null,
            "max_height": null,
            "max_width": null,
            "min_height": null,
            "min_width": null,
            "object_fit": null,
            "object_position": null,
            "order": null,
            "overflow": null,
            "overflow_x": null,
            "overflow_y": null,
            "padding": null,
            "right": null,
            "top": null,
            "visibility": null,
            "width": null
          }
        },
        "20049ae87c324d9082515d32a378e642": {
          "model_module": "@jupyter-widgets/controls",
          "model_name": "DescriptionStyleModel",
          "model_module_version": "1.5.0",
          "state": {
            "_model_module": "@jupyter-widgets/controls",
            "_model_module_version": "1.5.0",
            "_model_name": "DescriptionStyleModel",
            "_view_count": null,
            "_view_module": "@jupyter-widgets/base",
            "_view_module_version": "1.2.0",
            "_view_name": "StyleView",
            "description_width": ""
          }
        },
        "dde1865685ce44869dc7c9ed50881445": {
          "model_module": "@jupyter-widgets/controls",
          "model_name": "HBoxModel",
          "model_module_version": "1.5.0",
          "state": {
            "_dom_classes": [],
            "_model_module": "@jupyter-widgets/controls",
            "_model_module_version": "1.5.0",
            "_model_name": "HBoxModel",
            "_view_count": null,
            "_view_module": "@jupyter-widgets/controls",
            "_view_module_version": "1.5.0",
            "_view_name": "HBoxView",
            "box_style": "",
            "children": [
              "IPY_MODEL_c845a9b577d644adb07101c006a04923",
              "IPY_MODEL_d243a82296c2440cac274a7ed7e6941c",
              "IPY_MODEL_8b59f5431dbb418bbb82485cd8cc5f79"
            ],
            "layout": "IPY_MODEL_dc478b3773e94116b64539f934f5b4fd"
          }
        },
        "c845a9b577d644adb07101c006a04923": {
          "model_module": "@jupyter-widgets/controls",
          "model_name": "HTMLModel",
          "model_module_version": "1.5.0",
          "state": {
            "_dom_classes": [],
            "_model_module": "@jupyter-widgets/controls",
            "_model_module_version": "1.5.0",
            "_model_name": "HTMLModel",
            "_view_count": null,
            "_view_module": "@jupyter-widgets/controls",
            "_view_module_version": "1.5.0",
            "_view_name": "HTMLView",
            "description": "",
            "description_tooltip": null,
            "layout": "IPY_MODEL_26c8f5061db8488aa318d58dae6957e7",
            "placeholder": "​",
            "style": "IPY_MODEL_6388d9cf8cdc483b8c5a47883ce08920",
            "value": "100%"
          }
        },
        "d243a82296c2440cac274a7ed7e6941c": {
          "model_module": "@jupyter-widgets/controls",
          "model_name": "FloatProgressModel",
          "model_module_version": "1.5.0",
          "state": {
            "_dom_classes": [],
            "_model_module": "@jupyter-widgets/controls",
            "_model_module_version": "1.5.0",
            "_model_name": "FloatProgressModel",
            "_view_count": null,
            "_view_module": "@jupyter-widgets/controls",
            "_view_module_version": "1.5.0",
            "_view_name": "ProgressView",
            "bar_style": "success",
            "description": "",
            "description_tooltip": null,
            "layout": "IPY_MODEL_99e2c200af484055a1d7507f43feabbb",
            "max": 117021,
            "min": 0,
            "orientation": "horizontal",
            "style": "IPY_MODEL_69cf43aec0f64cd09f5c80eba9e8f42a",
            "value": 117021
          }
        },
        "8b59f5431dbb418bbb82485cd8cc5f79": {
          "model_module": "@jupyter-widgets/controls",
          "model_name": "HTMLModel",
          "model_module_version": "1.5.0",
          "state": {
            "_dom_classes": [],
            "_model_module": "@jupyter-widgets/controls",
            "_model_module_version": "1.5.0",
            "_model_name": "HTMLModel",
            "_view_count": null,
            "_view_module": "@jupyter-widgets/controls",
            "_view_module_version": "1.5.0",
            "_view_name": "HTMLView",
            "description": "",
            "description_tooltip": null,
            "layout": "IPY_MODEL_fdd326784e5447e2a00da773982e87cf",
            "placeholder": "​",
            "style": "IPY_MODEL_0ea5876b1fd44341a6704d9ffa3b81b2",
            "value": " 117021/117021 [02:35&lt;00:00, 820.15it/s]"
          }
        },
        "dc478b3773e94116b64539f934f5b4fd": {
          "model_module": "@jupyter-widgets/base",
          "model_name": "LayoutModel",
          "model_module_version": "1.2.0",
          "state": {
            "_model_module": "@jupyter-widgets/base",
            "_model_module_version": "1.2.0",
            "_model_name": "LayoutModel",
            "_view_count": null,
            "_view_module": "@jupyter-widgets/base",
            "_view_module_version": "1.2.0",
            "_view_name": "LayoutView",
            "align_content": null,
            "align_items": null,
            "align_self": null,
            "border": null,
            "bottom": null,
            "display": null,
            "flex": null,
            "flex_flow": null,
            "grid_area": null,
            "grid_auto_columns": null,
            "grid_auto_flow": null,
            "grid_auto_rows": null,
            "grid_column": null,
            "grid_gap": null,
            "grid_row": null,
            "grid_template_areas": null,
            "grid_template_columns": null,
            "grid_template_rows": null,
            "height": null,
            "justify_content": null,
            "justify_items": null,
            "left": null,
            "margin": null,
            "max_height": null,
            "max_width": null,
            "min_height": null,
            "min_width": null,
            "object_fit": null,
            "object_position": null,
            "order": null,
            "overflow": null,
            "overflow_x": null,
            "overflow_y": null,
            "padding": null,
            "right": null,
            "top": null,
            "visibility": null,
            "width": null
          }
        },
        "26c8f5061db8488aa318d58dae6957e7": {
          "model_module": "@jupyter-widgets/base",
          "model_name": "LayoutModel",
          "model_module_version": "1.2.0",
          "state": {
            "_model_module": "@jupyter-widgets/base",
            "_model_module_version": "1.2.0",
            "_model_name": "LayoutModel",
            "_view_count": null,
            "_view_module": "@jupyter-widgets/base",
            "_view_module_version": "1.2.0",
            "_view_name": "LayoutView",
            "align_content": null,
            "align_items": null,
            "align_self": null,
            "border": null,
            "bottom": null,
            "display": null,
            "flex": null,
            "flex_flow": null,
            "grid_area": null,
            "grid_auto_columns": null,
            "grid_auto_flow": null,
            "grid_auto_rows": null,
            "grid_column": null,
            "grid_gap": null,
            "grid_row": null,
            "grid_template_areas": null,
            "grid_template_columns": null,
            "grid_template_rows": null,
            "height": null,
            "justify_content": null,
            "justify_items": null,
            "left": null,
            "margin": null,
            "max_height": null,
            "max_width": null,
            "min_height": null,
            "min_width": null,
            "object_fit": null,
            "object_position": null,
            "order": null,
            "overflow": null,
            "overflow_x": null,
            "overflow_y": null,
            "padding": null,
            "right": null,
            "top": null,
            "visibility": null,
            "width": null
          }
        },
        "6388d9cf8cdc483b8c5a47883ce08920": {
          "model_module": "@jupyter-widgets/controls",
          "model_name": "DescriptionStyleModel",
          "model_module_version": "1.5.0",
          "state": {
            "_model_module": "@jupyter-widgets/controls",
            "_model_module_version": "1.5.0",
            "_model_name": "DescriptionStyleModel",
            "_view_count": null,
            "_view_module": "@jupyter-widgets/base",
            "_view_module_version": "1.2.0",
            "_view_name": "StyleView",
            "description_width": ""
          }
        },
        "99e2c200af484055a1d7507f43feabbb": {
          "model_module": "@jupyter-widgets/base",
          "model_name": "LayoutModel",
          "model_module_version": "1.2.0",
          "state": {
            "_model_module": "@jupyter-widgets/base",
            "_model_module_version": "1.2.0",
            "_model_name": "LayoutModel",
            "_view_count": null,
            "_view_module": "@jupyter-widgets/base",
            "_view_module_version": "1.2.0",
            "_view_name": "LayoutView",
            "align_content": null,
            "align_items": null,
            "align_self": null,
            "border": null,
            "bottom": null,
            "display": null,
            "flex": null,
            "flex_flow": null,
            "grid_area": null,
            "grid_auto_columns": null,
            "grid_auto_flow": null,
            "grid_auto_rows": null,
            "grid_column": null,
            "grid_gap": null,
            "grid_row": null,
            "grid_template_areas": null,
            "grid_template_columns": null,
            "grid_template_rows": null,
            "height": null,
            "justify_content": null,
            "justify_items": null,
            "left": null,
            "margin": null,
            "max_height": null,
            "max_width": null,
            "min_height": null,
            "min_width": null,
            "object_fit": null,
            "object_position": null,
            "order": null,
            "overflow": null,
            "overflow_x": null,
            "overflow_y": null,
            "padding": null,
            "right": null,
            "top": null,
            "visibility": null,
            "width": null
          }
        },
        "69cf43aec0f64cd09f5c80eba9e8f42a": {
          "model_module": "@jupyter-widgets/controls",
          "model_name": "ProgressStyleModel",
          "model_module_version": "1.5.0",
          "state": {
            "_model_module": "@jupyter-widgets/controls",
            "_model_module_version": "1.5.0",
            "_model_name": "ProgressStyleModel",
            "_view_count": null,
            "_view_module": "@jupyter-widgets/base",
            "_view_module_version": "1.2.0",
            "_view_name": "StyleView",
            "bar_color": null,
            "description_width": ""
          }
        },
        "fdd326784e5447e2a00da773982e87cf": {
          "model_module": "@jupyter-widgets/base",
          "model_name": "LayoutModel",
          "model_module_version": "1.2.0",
          "state": {
            "_model_module": "@jupyter-widgets/base",
            "_model_module_version": "1.2.0",
            "_model_name": "LayoutModel",
            "_view_count": null,
            "_view_module": "@jupyter-widgets/base",
            "_view_module_version": "1.2.0",
            "_view_name": "LayoutView",
            "align_content": null,
            "align_items": null,
            "align_self": null,
            "border": null,
            "bottom": null,
            "display": null,
            "flex": null,
            "flex_flow": null,
            "grid_area": null,
            "grid_auto_columns": null,
            "grid_auto_flow": null,
            "grid_auto_rows": null,
            "grid_column": null,
            "grid_gap": null,
            "grid_row": null,
            "grid_template_areas": null,
            "grid_template_columns": null,
            "grid_template_rows": null,
            "height": null,
            "justify_content": null,
            "justify_items": null,
            "left": null,
            "margin": null,
            "max_height": null,
            "max_width": null,
            "min_height": null,
            "min_width": null,
            "object_fit": null,
            "object_position": null,
            "order": null,
            "overflow": null,
            "overflow_x": null,
            "overflow_y": null,
            "padding": null,
            "right": null,
            "top": null,
            "visibility": null,
            "width": null
          }
        },
        "0ea5876b1fd44341a6704d9ffa3b81b2": {
          "model_module": "@jupyter-widgets/controls",
          "model_name": "DescriptionStyleModel",
          "model_module_version": "1.5.0",
          "state": {
            "_model_module": "@jupyter-widgets/controls",
            "_model_module_version": "1.5.0",
            "_model_name": "DescriptionStyleModel",
            "_view_count": null,
            "_view_module": "@jupyter-widgets/base",
            "_view_module_version": "1.2.0",
            "_view_name": "StyleView",
            "description_width": ""
          }
        }
      }
    }
  },
  "cells": [
    {
      "cell_type": "markdown",
      "metadata": {
        "id": "view-in-github",
        "colab_type": "text"
      },
      "source": [
        "<a href=\"https://colab.research.google.com/github/313chengpeng/Analysis-of-tweets-about-chatgpt/blob/main/%E4%B8%BB%E9%A2%98%E5%BB%BA%E6%A8%A1.ipynb\" target=\"_parent\"><img src=\"https://colab.research.google.com/assets/colab-badge.svg\" alt=\"Open In Colab\"/></a>"
      ]
    },
    {
      "cell_type": "markdown",
      "source": [
        "# 使用LDA进行主题建模"
      ],
      "metadata": {
        "id": "TtDIBWQmtrxn"
      }
    },
    {
      "cell_type": "code",
      "execution_count": 2,
      "metadata": {
        "colab": {
          "base_uri": "https://localhost:8080/"
        },
        "id": "7HosyFwstjls",
        "outputId": "cbcc3cf9-e669-49fb-d10e-0e489747ab7f"
      },
      "outputs": [
        {
          "output_type": "stream",
          "name": "stdout",
          "text": [
            "Mounted at /content/drive\n"
          ]
        }
      ],
      "source": [
        "# 加载云端硬盘\n",
        "\n",
        "from google.colab import drive\n",
        "drive.mount('/content/drive')"
      ]
    },
    {
      "cell_type": "code",
      "source": [
        "import pandas as pd\n",
        "import re\n",
        "from tqdm.auto import tqdm\n",
        "from sklearn.decomposition import LatentDirichletAllocation\n",
        "from sklearn.feature_extraction.text import CountVectorizer"
      ],
      "metadata": {
        "id": "Z8nDG2S3ujWl"
      },
      "execution_count": 34,
      "outputs": []
    },
    {
      "cell_type": "code",
      "source": [
        "# 导入数据\n",
        "\n",
        "df = pd.read_csv('/content/drive/MyDrive/Colab Notebooks/bigdata/data_precess.csv', encoding='utf8')\n",
        "# df.head(10)"
      ],
      "metadata": {
        "id": "bCRyk2ZNtn-v"
      },
      "execution_count": 4,
      "outputs": []
    },
    {
      "cell_type": "markdown",
      "source": [
        "# 数据清洗函数"
      ],
      "metadata": {
        "id": "bZnjMn572vih"
      }
    },
    {
      "cell_type": "code",
      "source": [
        "#Code by Leon Wolber https://www.kaggle.com/leonwolber/reddit-nlp-topic-modeling-prediction\n",
        "import nltk\n",
        "nltk.download('punkt')\n",
        "nltk.download('stopwords')\n",
        "nltk.download('wordnet')\n",
        "from nltk.corpus import stopwords\n",
        "from nltk.stem import WordNetLemmatizer\n",
        "\n",
        "def remove_line_breaks(text):\n",
        "    text = text.replace('\\r', ' ').replace('\\n', ' ')\n",
        "    return text\n",
        "\n",
        "#remove punctuation\n",
        "def remove_punctuation(text):\n",
        "    re_replacements = re.compile(\"__[A-Z]+__\")  # such as __NAME__, __LINK__\n",
        "    re_punctuation = re.compile(\"[%s]\" % re.escape(string.punctuation))\n",
        "    '''Escape all the characters in pattern except ASCII letters and numbers'''\n",
        "    tokens = word_tokenize(text)\n",
        "    tokens_zero_punctuation = []\n",
        "    for token in tokens:\n",
        "        if not re_replacements.match(token):\n",
        "            token = re_punctuation.sub(\" \", token)\n",
        "        tokens_zero_punctuation.append(token)\n",
        "    return ' '.join(tokens_zero_punctuation)\n",
        "\n",
        "def remove_special_characters(text):\n",
        "    text = re.sub('[^a-zA-z0-9\\s]', ' ', text)\n",
        "    return text\n",
        "\n",
        "def lowercase(text):\n",
        "    text_low = [token.lower() for token in word_tokenize(text)]\n",
        "    return ' '.join(text_low)\n",
        "\n",
        "def remove_stopwords(text):\n",
        "    custom_stopwords = ['i', 'amp','chang','artificalintellig' ,'tcogfhukqnqz','chatgpt', 'ai', 'https', 'openai' ,'thing' , 'small', 'start' ,'one', 'artifical', 'intellig' ,'you', 'he', 'she', 'it', 'we', 'they', 'am', 'is', 'are', 'was', 'were', 'been', 'have', 'has', 'had', 'do', 'does', 'did', 'can', 'could', 'would', 'should', 'will', 'shall', 'may', 'might', 'must']\n",
        "    stop = set(custom_stopwords)\n",
        "    word_tokens = nltk.word_tokenize(text)\n",
        "    text = \" \".join([word for word in word_tokens if word not in stop])\n",
        "    return text\n",
        "\n",
        "#remobe one character words\n",
        "def remove_one_character_words(text):\n",
        "    '''Remove words from dataset that contain only 1 character'''\n",
        "    text_high_use = [token for token in word_tokenize(text) if len(token)>1]      \n",
        "    return ' '.join(text_high_use)   \n",
        "    \n",
        "#%%\n",
        "# Stemming with 'Snowball stemmer\" package\n",
        "def stem(text):\n",
        "    stemmer = nltk.stem.snowball.SnowballStemmer('english')\n",
        "    text_stemmed = [stemmer.stem(token) for token in word_tokenize(text)]        \n",
        "    return ' '.join(text_stemmed)\n",
        "\n",
        "def lemma(text):\n",
        "    wordnet_lemmatizer = WordNetLemmatizer()\n",
        "    word_tokens = nltk.word_tokenize(text)\n",
        "    text_lemma = \" \".join([wordnet_lemmatizer.lemmatize(word) for word in word_tokens])       \n",
        "    return ' '.join(text_lemma)\n",
        "\n",
        "\n",
        "#break sentences to individual word list\n",
        "def sentence_word(text):\n",
        "    word_tokens = nltk.word_tokenize(text)\n",
        "    return word_tokens\n",
        "#break paragraphs to sentence token \n",
        "def paragraph_sentence(text):\n",
        "    sent_token = nltk.sent_tokenize(text)\n",
        "    return sent_token    \n",
        "\n",
        "\n",
        "def tokenize(text):\n",
        "    \"\"\"Return a list of words in a text.\"\"\"\n",
        "    return re.findall(r'\\w+', text)\n",
        "\n",
        "def remove_numbers(text):\n",
        "    no_nums = re.sub(r'\\d+', '', text)\n",
        "    return ''.join(no_nums)\n",
        "\n",
        "\n",
        "\n",
        "def clean_text(text):\n",
        "    _steps = [\n",
        "    remove_line_breaks,\n",
        "    remove_one_character_words,\n",
        "    remove_special_characters,\n",
        "    lowercase,\n",
        "    remove_punctuation,\n",
        "    remove_stopwords,\n",
        "    stem,\n",
        "    remove_numbers\n",
        "]\n",
        "    for step in _steps:\n",
        "        text=step(text)\n",
        "    return text   \n",
        "#%%\n",
        "\n",
        "#https://stackoverflow.com/questions/55557004/getting-attributeerror-float-object-has-no-attribute-replace-error-while\n",
        "#To avoid with tqdm AttributeError: 'float' object has no attribute\n",
        "\n",
        "df[\"text\"] = df[\"text\"].astype(str)\n",
        "df[\"text\"] = [x.replace(':',' ') for x in df[\"text\"]]"
      ],
      "metadata": {
        "colab": {
          "base_uri": "https://localhost:8080/"
        },
        "id": "tBSOPZUm2tjP",
        "outputId": "47b5259a-679a-40b4-a61f-73c6ec0c1f39"
      },
      "execution_count": 50,
      "outputs": [
        {
          "output_type": "stream",
          "name": "stderr",
          "text": [
            "<>:27: DeprecationWarning: invalid escape sequence \\s\n",
            "<>:27: DeprecationWarning: invalid escape sequence \\s\n",
            "<ipython-input-50-07a4f8a6a64e>:27: DeprecationWarning: invalid escape sequence \\s\n",
            "  text = re.sub('[^a-zA-z0-9\\s]', ' ', text)\n",
            "[nltk_data] Downloading package punkt to /root/nltk_data...\n",
            "[nltk_data]   Package punkt is already up-to-date!\n",
            "[nltk_data] Downloading package stopwords to /root/nltk_data...\n",
            "[nltk_data]   Package stopwords is already up-to-date!\n",
            "[nltk_data] Downloading package wordnet to /root/nltk_data...\n",
            "[nltk_data]   Package wordnet is already up-to-date!\n"
          ]
        }
      ]
    },
    {
      "cell_type": "code",
      "source": [
        "df['clean_text'] = pd.Series([clean_text(i) for i in tqdm(df['text'])])\n",
        "\n",
        "df['clean_text'][0]"
      ],
      "metadata": {
        "colab": {
          "base_uri": "https://localhost:8080/",
          "height": 84,
          "referenced_widgets": [
            "418173eb11fb454e8886b959b5276bd9",
            "2d93c8cd242f48ceab7a267aa3e295d8",
            "fc88be582c6148cbaee6a71ad8a0fe78",
            "8f60fcc7eeaf4615a7265ad51628806d",
            "b5c739d1389b401291288e50f6fac29e",
            "a752ae0fb4d64de2ac32b3aad11e94c0",
            "fbd37ed140384f679dbc15b32c502a69",
            "2d15ea546e1e447aa4f2eaa965013802",
            "8ee4126bf9d64d3ebe6f698a8392fd95",
            "698ff4307d5642fb8e74971e763ccb40",
            "20049ae87c324d9082515d32a378e642"
          ]
        },
        "id": "BTRzSkpB_Dvv",
        "outputId": "3b5a2a7b-6add-4560-a6e8-da331f506882"
      },
      "execution_count": 51,
      "outputs": [
        {
          "output_type": "display_data",
          "data": {
            "text/plain": [
              "  0%|          | 0/117021 [00:00<?, ?it/s]"
            ],
            "application/vnd.jupyter.widget-view+json": {
              "version_major": 2,
              "version_minor": 0,
              "model_id": "418173eb11fb454e8886b959b5276bd9"
            }
          },
          "metadata": {}
        },
        {
          "output_type": "execute_result",
          "data": {
            "text/plain": [
              "'bardaigoogl cannabiscommun developerstudentclub domain domainnam domainfor web nft dao mmembervil crypto cryptocur cryptolov cryptonew cryptoinvestor great name sale tcoofkpbryj tcocuwrptkntq'"
            ],
            "application/vnd.google.colaboratory.intrinsic+json": {
              "type": "string"
            }
          },
          "metadata": {},
          "execution_count": 51
        }
      ]
    },
    {
      "cell_type": "code",
      "source": [
        "type(df['clean_text'])"
      ],
      "metadata": {
        "colab": {
          "base_uri": "https://localhost:8080/"
        },
        "id": "hijxyPmegTzR",
        "outputId": "35f2ce10-2e45-4aae-fdea-6b134ef43d86"
      },
      "execution_count": 53,
      "outputs": [
        {
          "output_type": "execute_result",
          "data": {
            "text/plain": [
              "pandas.core.series.Series"
            ]
          },
          "metadata": {},
          "execution_count": 53
        }
      ]
    },
    {
      "cell_type": "code",
      "source": [
        "from sklearn.decomposition import LatentDirichletAllocation\n",
        "from sklearn.feature_extraction.text import CountVectorizer\n",
        "\n",
        "# df['clean_text'] = pd.Series([clean_text(i) for i in tqdm(df['text'])])\n",
        "\n",
        "# 将'text'列转换为列表格式\n",
        "text_list = df['clean_text'].tolist()\n",
        "\n",
        "# 将文本列表转换为文本矩阵\n",
        "vectorizer = CountVectorizer()\n",
        "text_matrix = vectorizer.fit_transform(text_list)\n",
        "\n",
        "# # 定义主题数和主题建模模型\n",
        "# num_topics = 5\n",
        "# lda_model = LatentDirichletAllocation(n_components=num_topics, random_state=0)\n",
        "\n",
        "# # 对文本矩阵进行主题建模\n",
        "# lda_model.fit(text_matrix)\n",
        "\n",
        "# # 将主题分配到每个文本中\n",
        "# topic_assignments = lda_model.transform(text_matrix)\n",
        "\n",
        "# # 将主题分配添加到DataFrame中\n",
        "# df['topic'] = topic_assignments.argmax(axis=1)\n",
        "\n",
        "# # 循环遍历每个主题\n",
        "# for i in range(num_topics):\n",
        "#     # 获取分配给主题i的所有文本\n",
        "#     topic_texts = df[df['topic'] == i]['text']\n",
        "    \n",
        "#     # 将文本保存到同一文件中\n",
        "#     with open('topic_{}.txt'.format(i), 'w') as f:\n",
        "#         for text in topic_texts:\n",
        "#             f.write(text + '\\n')\n"
      ],
      "metadata": {
        "colab": {
          "base_uri": "https://localhost:8080/",
          "height": 49,
          "referenced_widgets": [
            "dde1865685ce44869dc7c9ed50881445",
            "c845a9b577d644adb07101c006a04923",
            "d243a82296c2440cac274a7ed7e6941c",
            "8b59f5431dbb418bbb82485cd8cc5f79",
            "dc478b3773e94116b64539f934f5b4fd",
            "26c8f5061db8488aa318d58dae6957e7",
            "6388d9cf8cdc483b8c5a47883ce08920",
            "99e2c200af484055a1d7507f43feabbb",
            "69cf43aec0f64cd09f5c80eba9e8f42a",
            "fdd326784e5447e2a00da773982e87cf",
            "0ea5876b1fd44341a6704d9ffa3b81b2"
          ]
        },
        "id": "K9afHjk99dWp",
        "outputId": "b40955fe-fe22-43d4-f797-962fd2c56297"
      },
      "execution_count": 11,
      "outputs": [
        {
          "output_type": "display_data",
          "data": {
            "text/plain": [
              "  0%|          | 0/117021 [00:00<?, ?it/s]"
            ],
            "application/vnd.jupyter.widget-view+json": {
              "version_major": 2,
              "version_minor": 0,
              "model_id": "dde1865685ce44869dc7c9ed50881445"
            }
          },
          "metadata": {}
        }
      ]
    },
    {
      "cell_type": "code",
      "source": [
        "import gensim\n",
        "from gensim.utils import simple_preprocess\n",
        "from gensim.models import LdaModel\n",
        "from gensim.corpora import Dictionary"
      ],
      "metadata": {
        "colab": {
          "base_uri": "https://localhost:8080/",
          "height": 106
        },
        "id": "1p3YqzW1KFlj",
        "outputId": "814a7505-8e4f-47ce-d8b6-ea7c7195e77c"
      },
      "execution_count": 15,
      "outputs": [
        {
          "output_type": "stream",
          "name": "stderr",
          "text": [
            "/usr/local/lib/python3.9/dist-packages/gensim/matutils.py:23: DeprecationWarning: Please use `triu` from the `scipy.linalg` namespace, the `scipy.linalg.special_matrices` namespace is deprecated.\n",
            "  from scipy.linalg.special_matrices import triu\n",
            "/usr/local/lib/python3.9/dist-packages/gensim/corpora/dictionary.py:11: DeprecationWarning: Using or importing the ABCs from 'collections' instead of from 'collections.abc' is deprecated since Python 3.3, and in 3.10 it will stop working\n",
            "  from collections import Mapping, defaultdict\n"
          ]
        }
      ]
    },
    {
      "cell_type": "code",
      "source": [
        "df['clean_text'][0]"
      ],
      "metadata": {
        "colab": {
          "base_uri": "https://localhost:8080/",
          "height": 52
        },
        "id": "v16rjIiGLeXa",
        "outputId": "2be400cd-0d43-426e-f00e-c3a22bb457ed"
      },
      "execution_count": 32,
      "outputs": [
        {
          "output_type": "execute_result",
          "data": {
            "text/plain": [
              "'bardaigoogl cannabiscommun developerstudentclub domain domainnam domain chatgpt domain domainnam domainforsal web nft ai dao mmembervill crypto cryptocur cryptolov cryptonew cryptoinvestor great name sale https tcoofkpbryj https tcocuwrptkntq'"
            ],
            "application/vnd.google.colaboratory.intrinsic+json": {
              "type": "string"
            }
          },
          "metadata": {},
          "execution_count": 32
        }
      ]
    },
    {
      "cell_type": "code",
      "source": [],
      "metadata": {
        "colab": {
          "base_uri": "https://localhost:8080/",
          "height": 384
        },
        "id": "vUDW1_PQJuYJ",
        "outputId": "0811e5b7-4e7b-4b2c-cef5-67c7940146b4"
      },
      "execution_count": 28,
      "outputs": [
        {
          "output_type": "error",
          "ename": "TypeError",
          "evalue": "ignored",
          "traceback": [
            "\u001b[0;31m---------------------------------------------------------------------------\u001b[0m",
            "\u001b[0;31mTypeError\u001b[0m                                 Traceback (most recent call last)",
            "\u001b[0;32m<ipython-input-28-5b36e421996d>\u001b[0m in \u001b[0;36m<module>\u001b[0;34m\u001b[0m\n\u001b[1;32m      4\u001b[0m \u001b[0;34m\u001b[0m\u001b[0m\n\u001b[1;32m      5\u001b[0m \u001b[0;31m# 将清洗后的文本转换为词典\u001b[0m\u001b[0;34m\u001b[0m\u001b[0;34m\u001b[0m\u001b[0m\n\u001b[0;32m----> 6\u001b[0;31m \u001b[0mdictionary\u001b[0m \u001b[0;34m=\u001b[0m \u001b[0mDictionary\u001b[0m\u001b[0;34m(\u001b[0m\u001b[0mdocuments\u001b[0m\u001b[0;34m)\u001b[0m\u001b[0;34m\u001b[0m\u001b[0;34m\u001b[0m\u001b[0m\n\u001b[0m\u001b[1;32m      7\u001b[0m \u001b[0;34m\u001b[0m\u001b[0m\n\u001b[1;32m      8\u001b[0m \u001b[0;31m# 将每个文档转换为词袋向量\u001b[0m\u001b[0;34m\u001b[0m\u001b[0;34m\u001b[0m\u001b[0m\n",
            "\u001b[0;32m/usr/local/lib/python3.9/dist-packages/gensim/corpora/dictionary.py\u001b[0m in \u001b[0;36m__init__\u001b[0;34m(self, documents, prune_at)\u001b[0m\n\u001b[1;32m     81\u001b[0m \u001b[0;34m\u001b[0m\u001b[0m\n\u001b[1;32m     82\u001b[0m         \u001b[0;32mif\u001b[0m \u001b[0mdocuments\u001b[0m \u001b[0;32mis\u001b[0m \u001b[0;32mnot\u001b[0m \u001b[0;32mNone\u001b[0m\u001b[0;34m:\u001b[0m\u001b[0;34m\u001b[0m\u001b[0;34m\u001b[0m\u001b[0m\n\u001b[0;32m---> 83\u001b[0;31m             \u001b[0mself\u001b[0m\u001b[0;34m.\u001b[0m\u001b[0madd_documents\u001b[0m\u001b[0;34m(\u001b[0m\u001b[0mdocuments\u001b[0m\u001b[0;34m,\u001b[0m \u001b[0mprune_at\u001b[0m\u001b[0;34m=\u001b[0m\u001b[0mprune_at\u001b[0m\u001b[0;34m)\u001b[0m\u001b[0;34m\u001b[0m\u001b[0;34m\u001b[0m\u001b[0m\n\u001b[0m\u001b[1;32m     84\u001b[0m \u001b[0;34m\u001b[0m\u001b[0m\n\u001b[1;32m     85\u001b[0m     \u001b[0;32mdef\u001b[0m \u001b[0m__getitem__\u001b[0m\u001b[0;34m(\u001b[0m\u001b[0mself\u001b[0m\u001b[0;34m,\u001b[0m \u001b[0mtokenid\u001b[0m\u001b[0;34m)\u001b[0m\u001b[0;34m:\u001b[0m\u001b[0;34m\u001b[0m\u001b[0;34m\u001b[0m\u001b[0m\n",
            "\u001b[0;32m/usr/local/lib/python3.9/dist-packages/gensim/corpora/dictionary.py\u001b[0m in \u001b[0;36madd_documents\u001b[0;34m(self, documents, prune_at)\u001b[0m\n\u001b[1;32m    200\u001b[0m \u001b[0;34m\u001b[0m\u001b[0m\n\u001b[1;32m    201\u001b[0m             \u001b[0;31m# update Dictionary with the document\u001b[0m\u001b[0;34m\u001b[0m\u001b[0;34m\u001b[0m\u001b[0m\n\u001b[0;32m--> 202\u001b[0;31m             \u001b[0mself\u001b[0m\u001b[0;34m.\u001b[0m\u001b[0mdoc2bow\u001b[0m\u001b[0;34m(\u001b[0m\u001b[0mdocument\u001b[0m\u001b[0;34m,\u001b[0m \u001b[0mallow_update\u001b[0m\u001b[0;34m=\u001b[0m\u001b[0;32mTrue\u001b[0m\u001b[0;34m)\u001b[0m  \u001b[0;31m# ignore the result, here we only care about updating token ids\u001b[0m\u001b[0;34m\u001b[0m\u001b[0;34m\u001b[0m\u001b[0m\n\u001b[0m\u001b[1;32m    203\u001b[0m \u001b[0;34m\u001b[0m\u001b[0m\n\u001b[1;32m    204\u001b[0m         logger.info(\n",
            "\u001b[0;32m/usr/local/lib/python3.9/dist-packages/gensim/corpora/dictionary.py\u001b[0m in \u001b[0;36mdoc2bow\u001b[0;34m(self, document, allow_update, return_missing)\u001b[0m\n\u001b[1;32m    238\u001b[0m         \"\"\"\n\u001b[1;32m    239\u001b[0m         \u001b[0;32mif\u001b[0m \u001b[0misinstance\u001b[0m\u001b[0;34m(\u001b[0m\u001b[0mdocument\u001b[0m\u001b[0;34m,\u001b[0m \u001b[0mstring_types\u001b[0m\u001b[0;34m)\u001b[0m\u001b[0;34m:\u001b[0m\u001b[0;34m\u001b[0m\u001b[0;34m\u001b[0m\u001b[0m\n\u001b[0;32m--> 240\u001b[0;31m             \u001b[0;32mraise\u001b[0m \u001b[0mTypeError\u001b[0m\u001b[0;34m(\u001b[0m\u001b[0;34m\"doc2bow expects an array of unicode tokens on input, not a single string\"\u001b[0m\u001b[0;34m)\u001b[0m\u001b[0;34m\u001b[0m\u001b[0;34m\u001b[0m\u001b[0m\n\u001b[0m\u001b[1;32m    241\u001b[0m \u001b[0;34m\u001b[0m\u001b[0m\n\u001b[1;32m    242\u001b[0m         \u001b[0;31m# Construct (word, frequency) mapping.\u001b[0m\u001b[0;34m\u001b[0m\u001b[0;34m\u001b[0m\u001b[0m\n",
            "\u001b[0;31mTypeError\u001b[0m: doc2bow expects an array of unicode tokens on input, not a single string"
          ]
        }
      ]
    },
    {
      "cell_type": "markdown",
      "source": [
        "# 实验新的数据处理方法"
      ],
      "metadata": {
        "id": "FuNlDHAAhUhW"
      }
    },
    {
      "cell_type": "code",
      "source": [
        "import re\n",
        "import numpy as np\n",
        "import pandas as pd\n",
        "from pprint import pprint \n",
        "# Gensim \n",
        "import gensim\n",
        "import gensim.corpora as corpora\n",
        "from gensim.utils import simple_preprocess\n",
        "from gensim.models import CoherenceModel\n",
        "# spacy for lemmatization\n",
        "import spacy\n",
        "# Plotting tools\n",
        "import pyLDAvis\n",
        "import pyLDAvis.gensim  # don't skip this\n",
        "import matplotlib.pyplot as plt\n",
        "%matplotlib inline\n",
        "\n",
        "# Enable logging for gensim - optional\n",
        "import logging\n",
        "logging.basicConfig(format='%(asctime)s : %(levelname)s : %(message)s', level=logging.ERROR)\n",
        "import warnings\n",
        "warnings.filterwarnings(\"ignore\",category=DeprecationWarning)\n",
        "# NLTK Stop words\n",
        "from nltk.corpus import stopwords\n",
        "stop_words = stopwords.words('english')\n",
        "stop_words.extend(['amp','chang','artificalintellig' ,'tcogfhukqnqz','chatgpt', 'ai', 'https', 'openai' ,'thing' , 'small', 'start' ,'one', 'artifical', 'intellig'])\n"
      ],
      "metadata": {
        "id": "RTrJl5PhhZ47"
      },
      "execution_count": 55,
      "outputs": []
    },
    {
      "cell_type": "code",
      "source": [
        "# Import Dataset\n",
        "df = pd.read_csv('/content/drive/MyDrive/Colab Notebooks/bigdata/data_precess.csv', encoding='utf8')\n"
      ],
      "metadata": {
        "id": "umbAgO12iRUU"
      },
      "execution_count": 56,
      "outputs": []
    },
    {
      "cell_type": "code",
      "source": [
        "from nltk.stem import PorterStemmer, WordNetLemmatizer\n",
        "# Convert to list\n",
        "data = df['text'].tolist()\n",
        "# Remove Emails\n",
        "data = [re.sub('\\S*@\\S*\\s?', '', sent) for sent in data]\n",
        "# Remove new line characters\n",
        "data = [re.sub('\\s+', ' ', sent) for sent in data]\n",
        "# Remove distracting single quotes\n",
        "data = [re.sub(\"\\'\", \"\", sent) for sent in data]\n",
        "# 去除链接和网址\n",
        "data =  [re.sub(r\"http\\S+|www\\S+\", \"\",sent) for sent in data]\n",
        "# 去除特殊字符和标点符号\n",
        "data = [re.sub(r\"\\S+@\\S+\", \"\",sent) for sent in data]\n",
        "data =  [re.sub(r\"[^a-zA-Z0-9\\s]+\", \"\", sent) for sent in data]\n",
        "\n",
        "\n",
        "\n",
        "print(data[:1])"
      ],
      "metadata": {
        "colab": {
          "base_uri": "https://localhost:8080/"
        },
        "id": "E_cq-RdKifn2",
        "outputId": "cc7fd97e-4a31-4088-ef12-941b628b0d7e"
      },
      "execution_count": 65,
      "outputs": [
        {
          "output_type": "stream",
          "name": "stdout",
          "text": [
            "['CannabisCommunity DeveloperStudentClubs domains domainnames domain ChatGPT DOMAINS domainnames domainforsale web3 nft ai dao Mmemberville Crypto Cryptocurency CryptoLover CryptoNews CryptoInvestor Great name for sale at  ']\n"
          ]
        }
      ]
    },
    {
      "cell_type": "code",
      "source": [
        "def sent_to_words(sentences):\n",
        "    for sentence in sentences:\n",
        "        yield(gensim.utils.simple_preprocess(str(sentence), deacc=True))  # deacc=True removes punctuations\n",
        "data_words = list(sent_to_words(data))\n",
        "print(data_words[:1])"
      ],
      "metadata": {
        "colab": {
          "base_uri": "https://localhost:8080/"
        },
        "id": "BkZ9xFyYo2aB",
        "outputId": "c42ece3f-8915-4d87-da6c-933d05d4f990"
      },
      "execution_count": 67,
      "outputs": [
        {
          "output_type": "stream",
          "name": "stdout",
          "text": [
            "[['domains', 'domainnames', 'domain', 'chatgpt', 'domains', 'domainnames', 'domainforsale', 'web', 'nft', 'ai', 'dao', 'mmemberville', 'crypto', 'cryptocurency', 'cryptolover', 'cryptonews', 'cryptoinvestor', 'great', 'name', 'for', 'sale', 'at']]\n"
          ]
        }
      ]
    },
    {
      "cell_type": "code",
      "source": [
        "# 创建二元（Bigram）模型和三元（Trigram）模型\n",
        "# Build the bigram and trigram models\n",
        "bigram = gensim.models.Phrases(data_words, min_count=5, threshold=100) # higher threshold fewer phrases.\n",
        "trigram = gensim.models.Phrases(bigram[data_words], threshold=100)  \n",
        "# Faster way to get a sentence clubbed as a trigram/bigram\n",
        "bigram_mod = gensim.models.phrases.Phraser(bigram)\n",
        "trigram_mod = gensim.models.phrases.Phraser(trigram)\n",
        "# See trigram example\n",
        "print(trigram_mod[bigram_mod[data_words[0]]])\n"
      ],
      "metadata": {
        "colab": {
          "base_uri": "https://localhost:8080/"
        },
        "id": "TgFPqC69oebh",
        "outputId": "abfa316f-55cb-4f41-81dc-5122d5facf3f"
      },
      "execution_count": 69,
      "outputs": [
        {
          "output_type": "stream",
          "name": "stderr",
          "text": [
            "/usr/local/lib/python3.9/dist-packages/gensim/models/phrases.py:598: UserWarning: For a faster implementation, use the gensim.models.phrases.Phraser class\n",
            "  warnings.warn(\"For a faster implementation, use the gensim.models.phrases.Phraser class\")\n"
          ]
        },
        {
          "output_type": "stream",
          "name": "stdout",
          "text": [
            "['domains_domainnames', 'domain', 'chatgpt', 'domains_domainnames_domainforsale', 'web', 'nft', 'ai', 'dao', 'mmemberville', 'crypto', 'cryptocurency', 'cryptolover', 'cryptonews', 'cryptoinvestor', 'great', 'name', 'for', 'sale', 'at']\n"
          ]
        }
      ]
    },
    {
      "cell_type": "code",
      "source": [
        " # Define functions for stopwords, bigrams, trigrams and lemmatization\n",
        "def remove_stopwords(texts):\n",
        "    return [[word for word in simple_preprocess(str(doc)) if word not in stop_words] for doc in texts]\n",
        "def make_bigrams(texts):\n",
        "    return [bigram_mod[doc] for doc in texts]\n",
        "def make_trigrams(texts):\n",
        "    return [trigram_mod[bigram_mod[doc]] for doc in texts]\n",
        "def lemmatization(texts, allowed_postags=['NOUN', 'ADJ', 'VERB', 'ADV']):\n",
        "     \"\"\"https://spacy.io/api/annotation\"\"\"\n",
        "     texts_out = []\n",
        "     for sent in texts:\n",
        "        doc = nlp(\" \".join(sent)) \n",
        "        texts_out.append([token.lemma_ for token in doc if token.pos_ in allowed_postags])\n",
        "     return texts_out\n",
        " \n",
        " \n",
        " # Remove Stop Words\n",
        "data_words_nostops = remove_stopwords(data_words)\n",
        "# Form Bigrams\n",
        "data_words_bigrams = make_bigrams(data_words_nostops)\n",
        "# Initialize spacy 'en' model, keeping only tagger component (for efficiency)\n",
        "# python3 -m spacy download en\n",
        "nlp = spacy.load('en_core_web_sm', disable=['parser', 'ner'])\n",
        "# Do lemmatization keeping only noun, adj, vb, adv\n",
        "data_lemmatized = lemmatization(data_words_bigrams, allowed_postags=['NOUN', 'ADJ', 'VERB', 'ADV'])\n",
        "print(data_lemmatized[:1])"
      ],
      "metadata": {
        "colab": {
          "base_uri": "https://localhost:8080/"
        },
        "id": "I4yvuQJxpE49",
        "outputId": "f8060e9e-0224-4cf5-ebb9-ba459bb222c8"
      },
      "execution_count": 71,
      "outputs": [
        {
          "output_type": "stream",
          "name": "stdout",
          "text": [
            "[['domains_domainname', 'domain', 'domains_domainname', 'web', 'cryptoinvestor', 'great', 'name', 'sale']]\n"
          ]
        }
      ]
    },
    {
      "cell_type": "code",
      "source": [
        " # Create Dictionary\n",
        "id2word = corpora.Dictionary(data_lemmatized)\n",
        "# Create Corpus\n",
        "texts = data_lemmatized\n",
        " # Term Document Frequency\n",
        "corpus = [id2word.doc2bow(text) for text in texts]\n",
        " # View\n",
        "print(corpus[:1])"
      ],
      "metadata": {
        "colab": {
          "base_uri": "https://localhost:8080/"
        },
        "id": "xJIPEgjuquIX",
        "outputId": "828da50a-1717-4175-dc69-474a1549dca0"
      },
      "execution_count": 72,
      "outputs": [
        {
          "output_type": "stream",
          "name": "stdout",
          "text": [
            "[[(0, 1), (1, 1), (2, 2), (3, 1), (4, 1), (5, 1), (6, 1)]]\n"
          ]
        }
      ]
    },
    {
      "cell_type": "code",
      "source": [
        "# Build LDA model\n",
        "lda_model = gensim.models.ldamodel.LdaModel(corpus=corpus,\n",
        "                                           id2word=id2word,\n",
        "                                            num_topics=8, \n",
        "                                           random_state=100,\n",
        "                                           update_every=1,\n",
        "                                           chunksize=1000,\n",
        "                                           passes=10,\n",
        "                                          alpha='auto',\n",
        "                                           per_word_topics=True)"
      ],
      "metadata": {
        "id": "BhkVMugSrGhS"
      },
      "execution_count": 77,
      "outputs": []
    },
    {
      "cell_type": "code",
      "source": [
        "# Print the Keyword in the 10 topics\n",
        "print(lda_model.print_topics())\n",
        "doc_lda = lda_model[corpus]"
      ],
      "metadata": {
        "colab": {
          "base_uri": "https://localhost:8080/"
        },
        "id": "mSuXsp2WvEQ2",
        "outputId": "34f33556-1933-42a3-fbfc-d37bae5c7a4f"
      },
      "execution_count": 80,
      "outputs": [
        {
          "output_type": "stream",
          "name": "stdout",
          "text": [
            "[(0, '0.032*\"generate\" + 0.023*\"even\" + 0.023*\"find\" + 0.016*\"research\" + 0.016*\"text\" + 0.015*\"model\" + 0.013*\"understand\" + 0.011*\"datum\" + 0.011*\"twitter\" + 0.011*\"friend\"'), (1, '0.039*\"use\" + 0.026*\"get\" + 0.023*\"make\" + 0.019*\"new\" + 0.018*\"know\" + 0.017*\"try\" + 0.016*\"think\" + 0.016*\"go\" + 0.015*\"see\" + 0.014*\"time\"'), (2, '0.044*\"create\" + 0.029*\"human\" + 0.022*\"play\" + 0.022*\"help\" + 0.018*\"tweet\" + 0.018*\"replace\" + 0.018*\"thing\" + 0.017*\"content\" + 0.014*\"wonder\" + 0.012*\"wrong\"'), (3, '0.042*\"technology\" + 0.033*\"potential\" + 0.026*\"tech\" + 0.026*\"web\" + 0.022*\"digital\" + 0.018*\"machinelearning\" + 0.018*\"business\" + 0.018*\"impact\" + 0.016*\"tedious\" + 0.016*\"style\"'), (4, '0.033*\"chatbot\" + 0.021*\"challenge\" + 0.018*\"present\" + 0.017*\"creation\" + 0.017*\"bot\" + 0.016*\"break\" + 0.015*\"llm\" + 0.012*\"open\" + 0.012*\"implication\" + 0.012*\"soon\"'), (5, '0.053*\"code\" + 0.023*\"job\" + 0.020*\"guess\" + 0.018*\"hour\" + 0.017*\"last\" + 0.014*\"user\" + 0.013*\"language\" + 0.012*\"train\" + 0.011*\"pass\" + 0.010*\"developer\"'), (6, '0.024*\"student\" + 0.022*\"bitcoin\" + 0.018*\"become\" + 0.017*\"problem\" + 0.013*\"thought\" + 0.013*\"join\" + 0.013*\"education\" + 0.013*\"system\" + 0.012*\"class\" + 0.011*\"dalle\"'), (7, '0.082*\"ask\" + 0.072*\"write\" + 0.042*\"answer\" + 0.042*\"good\" + 0.038*\"question\" + 0.028*\"give\" + 0.027*\"gpt\" + 0.021*\"prompt\" + 0.016*\"thread\" + 0.014*\"response\"')]\n"
          ]
        }
      ]
    },
    {
      "cell_type": "code",
      "source": [
        "# Visualize the topics\n",
        "pyLDAvis.enable_notebook()\n",
        "vis = pyLDAvis.gensim.prepare(lda_model, corpus, id2word)\n",
        "vis\n"
      ],
      "metadata": {
        "colab": {
          "base_uri": "https://localhost:8080/",
          "height": 915
        },
        "id": "Pq-A5QpKuMET",
        "outputId": "8acf8771-7793-4001-f61f-c2a6c31c4cd3"
      },
      "execution_count": 78,
      "outputs": [
        {
          "output_type": "stream",
          "name": "stderr",
          "text": [
            "/usr/local/lib/python3.9/dist-packages/pyLDAvis/_prepare.py:243: FutureWarning: In a future version of pandas all arguments of DataFrame.drop except for the argument 'labels' will be keyword-only\n",
            "  default_term_info = default_term_info.sort_values(\n"
          ]
        },
        {
          "output_type": "execute_result",
          "data": {
            "text/plain": [
              "PreparedData(topic_coordinates=              x         y  topics  cluster       Freq\n",
              "topic                                                \n",
              "1      0.440708  0.047156       1        1  33.307414\n",
              "7     -0.011829 -0.420326       2        1  14.034315\n",
              "0     -0.057508  0.074816       3        1  11.200102\n",
              "2     -0.034957  0.072847       4        1  10.374444\n",
              "5     -0.074325  0.060792       5        1   9.192647\n",
              "3     -0.089125  0.054009       6        1   7.476328\n",
              "6     -0.085833  0.055833       7        1   7.450752\n",
              "4     -0.087131  0.054873       8        1   6.963997, topic_info=            Term          Freq         Total Category  logprob  loglift\n",
              "35           ask  11852.000000  11852.000000  Default  30.0000  30.0000\n",
              "187        write  10309.000000  10309.000000  Default  29.0000  29.0000\n",
              "65           use  13335.000000  13335.000000  Default  28.0000  28.0000\n",
              "90          code   4985.000000   4985.000000  Default  27.0000  27.0000\n",
              "349       answer   6010.000000   6010.000000  Default  26.0000  26.0000\n",
              "...          ...           ...           ...      ...      ...      ...\n",
              "557    interview    508.110022    509.021234   Topic8  -4.9438   2.6626\n",
              "2326       allow    460.569921    461.481205   Topic8  -5.0420   2.6624\n",
              "29    absolutely    447.798711    448.710474   Topic8  -5.0701   2.6624\n",
              "2904        blow    423.242844    424.154099   Topic8  -5.1265   2.6623\n",
              "618      history    420.127894    421.039101   Topic8  -5.1339   2.6623\n",
              "\n",
              "[271 rows x 6 columns], token_table=      Topic      Freq        Term\n",
              "term                             \n",
              "86        4  0.998852     ability\n",
              "29        8  0.998417  absolutely\n",
              "295       7  0.997342      accord\n",
              "1551      8  0.999297    accurate\n",
              "1301      8  0.998177       admit\n",
              "...     ...       ...         ...\n",
              "333       1  0.999800        work\n",
              "98        7  0.996862       worry\n",
              "187       2  0.999938       write\n",
              "701       4  0.998439      writer\n",
              "1246      4  0.999680       wrong\n",
              "\n",
              "[242 rows x 3 columns], R=30, lambda_step=0.01, plot_opts={'xlab': 'PC1', 'ylab': 'PC2'}, topic_order=[2, 8, 1, 3, 6, 4, 7, 5])"
            ],
            "text/html": [
              "\n",
              "<link rel=\"stylesheet\" type=\"text/css\" href=\"https://cdn.jsdelivr.net/gh/bmabey/pyLDAvis@3.4.0/pyLDAvis/js/ldavis.v1.0.0.css\">\n",
              "\n",
              "\n",
              "<div id=\"ldavis_el1141402849081867524275271487\" style=\"background-color:white;\"></div>\n",
              "<script type=\"text/javascript\">\n",
              "\n",
              "var ldavis_el1141402849081867524275271487_data = {\"mdsDat\": {\"x\": [0.4407083441125356, -0.011829499929641895, -0.05750829548090299, -0.03495654516401021, -0.07432548210154023, -0.08912477952013975, -0.08583252880072637, -0.0871312131155744], \"y\": [0.047156235051899066, -0.4203264130212885, 0.07481593725953628, 0.07284718094645153, 0.06079237546569949, 0.054009241322467344, 0.05583277126145008, 0.054872671713785105], \"topics\": [1, 2, 3, 4, 5, 6, 7, 8], \"cluster\": [1, 1, 1, 1, 1, 1, 1, 1], \"Freq\": [33.30741419613196, 14.034315069403958, 11.200101877217778, 10.374444479181868, 9.19264689470109, 7.476328398694822, 7.450751846310855, 6.963997238357675]}, \"tinfo\": {\"Term\": [\"ask\", \"write\", \"use\", \"code\", \"answer\", \"good\", \"question\", \"create\", \"get\", \"make\", \"technology\", \"generate\", \"give\", \"gpt\", \"new\", \"human\", \"know\", \"potential\", \"chatbot\", \"try\", \"think\", \"go\", \"prompt\", \"see\", \"help\", \"even\", \"find\", \"play\", \"time\", \"work\", \"use\", \"get\", \"make\", \"new\", \"know\", \"try\", \"think\", \"go\", \"see\", \"time\", \"work\", \"well\", \"m\", \"take\", \"say\", \"way\", \"right\", \"come\", \"people\", \"need\", \"look\", \"tool\", \"day\", \"great\", \"future\", \"ve\", \"first\", \"s\", \"let\", \"really\", \"ask\", \"write\", \"answer\", \"good\", \"question\", \"give\", \"gpt\", \"prompt\", \"thread\", \"response\", \"story\", \"chat\", \"amazing\", \"result\", \"here\", \"example\", \"cool\", \"article\", \"word\", \"awesome\", \"bad\", \"end\", \"nice\", \"poem\", \"decide\", \"simple\", \"insane\", \"quite\", \"happen\", \"hand\", \"generate\", \"even\", \"find\", \"research\", \"text\", \"model\", \"understand\", \"datum\", \"twitter\", \"friend\", \"base\", \"provide\", \"information\", \"mean\", \"point\", \"ill\", \"complex\", \"easy\", \"opinion\", \"lol\", \"important\", \"key\", \"huge\", \"useful\", \"meet\", \"state\", \"include\", \"current\", \"stuff\", \"anymore\", \"create\", \"human\", \"play\", \"tweet\", \"replace\", \"thing\", \"content\", \"wonder\", \"wrong\", \"game\", \"ability\", \"task\", \"image\", \"big\", \"wait\", \"output\", \"automate\", \"design\", \"script\", \"fast\", \"little\", \"improve\", \"mistake\", \"believe\", \"describe\", \"refer\", \"partner\", \"simulate\", \"writer\", \"speak\", \"help\", \"code\", \"job\", \"guess\", \"hour\", \"last\", \"user\", \"language\", \"train\", \"pass\", \"developer\", \"input\", \"similar\", \"update\", \"run\", \"produce\", \"app\", \"call\", \"product\", \"programming\", \"stay\", \"bit\", \"software\", \"logic\", \"release\", \"seo\", \"level\", \"fact\", \"impressed\", \"whole\", \"type\", \"technology\", \"potential\", \"tech\", \"web\", \"digital\", \"machinelearning\", \"business\", \"impact\", \"style\", \"tedious\", \"startup\", \"handle\", \"document\", \"innovation\", \"industry\", \"marketing\", \"perfect\", \"explore\", \"trend\", \"news\", \"top\", \"metaverse\", \"signature\", \"blockchain\", \"datascience\", \"math\", \"conversational\", \"discover\", \"perspective\", \"line\", \"student\", \"bitcoin\", \"become\", \"problem\", \"thought\", \"join\", \"education\", \"system\", \"class\", \"dalle\", \"solve\", \"beat\", \"part\", \"assessment\", \"hard\", \"issue\", \"pose\", \"training\", \"criticism\", \"almost\", \"request\", \"number\", \"fail\", \"community\", \"accord\", \"form\", \"learning\", \"advice\", \"early\", \"worry\", \"chatbot\", \"challenge\", \"present\", \"creation\", \"bot\", \"break\", \"llm\", \"open\", \"implication\", \"soon\", \"difference\", \"mind\", \"later\", \"admit\", \"paper\", \"company\", \"definitely\", \"sound\", \"accurate\", \"error\", \"aiart\", \"application\", \"win\", \"service\", \"prompt_engineere\", \"interview\", \"allow\", \"absolutely\", \"blow\", \"history\"], \"Freq\": [11852.0, 10309.0, 13335.0, 4985.0, 6010.0, 6002.0, 5403.0, 4654.0, 8739.0, 8006.0, 3233.0, 3625.0, 3990.0, 3894.0, 6445.0, 3099.0, 6017.0, 2497.0, 2331.0, 5650.0, 5562.0, 5503.0, 2997.0, 5280.0, 3200.0, 2593.0, 2591.0, 2372.0, 4896.0, 4852.0, 13334.43280811156, 8738.41693379346, 8005.913702097531, 6444.564325383326, 6016.764244299711, 5649.638440766758, 5561.542676937522, 5502.214769086952, 5280.064086111774, 4895.578369488246, 4852.058874172909, 4448.05746523854, 4426.319310302478, 4340.545716665877, 3641.601384824792, 3508.943324242695, 3451.5260547141665, 3386.287774404207, 3365.498111518657, 3303.878199777695, 3061.924450770312, 3040.0891285870252, 2913.8882443849693, 2835.5565187416137, 2811.7778516138546, 2770.0080018285903, 2715.386354667895, 2670.283604794856, 2596.0022609226144, 2499.536618381143, 11851.214012154853, 10308.710177806619, 6009.424332587492, 6001.47621165167, 5402.689581095876, 3989.2925378023237, 3893.888059429015, 2996.513575988995, 2237.753015803774, 1999.1208667137116, 1997.9431790078818, 1804.290752694769, 1787.887551186975, 1740.526094843623, 1435.1766393802325, 1422.9417726585573, 1394.7282446575132, 1212.188523422268, 1170.273973066683, 1142.1570470337838, 1135.2334153917059, 972.9095960579518, 933.2410414617299, 922.4312544667977, 914.2675184732676, 883.8790413127012, 837.1123828216859, 809.7862014310783, 798.6216497290334, 761.3789819533519, 3624.3788764540386, 2592.125644115818, 2590.5171486720956, 1866.081937122711, 1808.2346151890088, 1733.7872444194818, 1451.8306142290344, 1279.745626676042, 1274.94907703269, 1248.2011133017184, 1156.859308278261, 1145.751464145258, 1118.9384729497865, 994.7857740446668, 928.9524601611874, 912.1343717810131, 885.548015714279, 866.7943191851351, 830.1965631877256, 820.3054480497583, 809.4213560544557, 799.189033588394, 779.6844246715723, 774.7433517553127, 773.1790621741568, 763.6585181618824, 761.1963904276104, 756.2942912790725, 747.7741451566172, 741.313041910491, 4653.7257855446605, 3099.059996892126, 2371.992687351365, 1934.5316835531862, 1882.9589577714787, 1863.1983407986445, 1772.5437212880609, 1505.7018061301942, 1318.5083556012346, 1283.8831638463907, 1205.471320273439, 1121.072897537499, 1110.2916547794116, 1040.0066161576435, 936.2070995663929, 911.979395495086, 825.846558071693, 801.769784475583, 797.5689521865665, 788.479495652754, 781.7900413770616, 748.0599484430121, 720.9971548525162, 649.572027379113, 640.5837516291318, 619.8427294561733, 611.7585035151944, 600.8423035923585, 588.0065865021671, 587.2551980224351, 2316.1529612020654, 4984.187179158272, 2118.6198977629974, 1835.7668349590601, 1717.3207773174565, 1559.4164214573102, 1308.640074581621, 1187.3615197642623, 1152.4756186729062, 991.4373746163541, 935.9371690483031, 934.0113864697125, 904.2229286249723, 878.0213657186388, 870.9273274640385, 853.6067649847572, 843.5119623954461, 808.4293114229151, 790.9566073874113, 784.5680642523912, 771.8773025404612, 744.0752735628516, 713.7543202713326, 684.3383726136451, 643.2157193869102, 610.667373398287, 598.4127478928899, 595.0746166683873, 591.2580633497495, 575.8275266777805, 574.7330452118332, 3232.6939054441923, 2496.3736255267695, 2008.2499834758303, 2003.2108825979624, 1690.0955319282361, 1414.5710840645852, 1382.890850292967, 1371.4675197957238, 1220.289789215471, 1231.9603063636018, 945.5629245765697, 864.5822826448526, 764.2896490393418, 736.2007493483517, 721.0419638338902, 713.7211619559616, 694.1763814696538, 677.393705105374, 675.6098699520402, 644.2721194149995, 636.6653565095736, 622.6176992248369, 611.270206846551, 477.40195670690736, 457.6608096625849, 434.6289368710017, 432.86733996307646, 428.1699382790826, 415.64631356910854, 409.3397752558078, 1794.9907236335148, 1712.784990640737, 1358.2952844406095, 1296.0642000602018, 995.9309052444816, 979.3764758704071, 976.1032940946927, 959.1745940006479, 885.0576972645863, 871.6439738847223, 814.1397532470426, 810.45124391398, 738.743630586527, 697.9986262816757, 676.9942892356958, 670.736175936998, 624.301034928037, 574.1197416387262, 578.0225562976856, 554.0854966828272, 523.5605549673232, 501.06012949773014, 476.5603496999896, 473.09896707543066, 469.34588911749563, 460.17433859827236, 451.5171350677199, 447.36020131582166, 442.9237543198384, 436.4685610984688, 2330.3074016646565, 1464.7736324752943, 1276.8469226364252, 1212.0885054975645, 1191.9304154041918, 1117.8261207391179, 1070.099856324578, 867.3117485607536, 860.5132015991982, 856.6387601437735, 790.8853251991234, 777.8503728494842, 745.2029403569612, 741.4396392102635, 701.1808217635063, 699.676244895901, 652.2855923455278, 625.9883612322225, 587.5022117920425, 585.9666298323374, 584.3657844774835, 556.4951943222355, 551.1617541485133, 539.943388153255, 540.4049125595368, 508.1100219065241, 460.5699208287049, 447.79871093809675, 423.242843974998, 420.1278944919045], \"Total\": [11852.0, 10309.0, 13335.0, 4985.0, 6010.0, 6002.0, 5403.0, 4654.0, 8739.0, 8006.0, 3233.0, 3625.0, 3990.0, 3894.0, 6445.0, 3099.0, 6017.0, 2497.0, 2331.0, 5650.0, 5562.0, 5503.0, 2997.0, 5280.0, 3200.0, 2593.0, 2591.0, 2372.0, 4896.0, 4852.0, 13335.343264815141, 8739.327588584603, 8006.824480546229, 6445.475148925541, 6017.674900832892, 5650.549118095587, 5562.453152181984, 5503.125275538292, 5280.974671688158, 4896.489022301332, 4852.969538658968, 4448.967964802868, 4427.229807034902, 4341.456406138956, 3642.5118125782938, 3509.853907222323, 3452.437795416918, 3387.198390468784, 3366.408615929352, 3304.788605687797, 3062.835134125627, 3040.999379911259, 2914.798725883628, 2836.4672783477563, 2812.6882419932476, 2770.918412933333, 2716.297037830963, 2671.193975680912, 2596.913086298222, 2500.4471528101694, 11852.138124746538, 10309.634240513646, 6010.348597478906, 6002.400568473553, 5403.613672077359, 3990.2167843013162, 3894.8121307755405, 2997.438162845148, 2238.6775824567894, 2000.0449434860714, 1998.8671839179349, 1805.214678005654, 1788.8117588330308, 1741.4501209342618, 1436.100618091763, 1423.86599946472, 1395.6531491549943, 1213.112331029723, 1171.1980371010459, 1143.081958408589, 1136.3025699025513, 973.8336043491174, 934.1664345824054, 923.3552547991251, 915.1935402486276, 884.8031697279704, 838.0380352724336, 810.7103933370247, 799.5456665307895, 762.3062803406707, 3625.29732127822, 2593.044049836262, 2591.435823861052, 1867.0012907654627, 1809.152824221788, 1734.7055441778, 1452.7489860857092, 1280.6638189786552, 1275.8675531518054, 1249.1201152355404, 1157.7775399811048, 1146.6696480042133, 1119.8565794905978, 995.703996189407, 929.8707740741302, 913.0543775882549, 886.4694710558199, 867.7126454058274, 831.1162413131533, 821.225473501864, 810.3396993372845, 800.1083285940531, 780.6045897775207, 775.6617465564278, 774.0991293109705, 764.579137900734, 762.1144556402744, 757.2142367266341, 748.6928085066286, 742.2341685124271, 4654.63913297753, 3099.9731225641685, 2372.90633998007, 1935.4456574983728, 1883.8721328579559, 1864.1116728947488, 1773.4566621739348, 1506.615759266273, 1319.4218619256394, 1284.7962808835123, 1206.3852524606284, 1121.9868159261505, 1111.2052383881519, 1040.9197327129789, 937.1217082194191, 912.8928534763088, 826.7616104015219, 802.6828678462354, 798.4821130764957, 789.3927502929993, 782.7031781859334, 748.9730234746813, 721.9129153154464, 650.4852330158819, 641.4973017383662, 620.7656772732279, 612.6789671522907, 601.7616180006787, 588.9194542884661, 588.1687028054347, 3200.30485953526, 4985.0997512859885, 2119.5322963891967, 1836.6805858354646, 1718.2343018700496, 1560.3292382500952, 1309.552505847223, 1188.2740051272594, 1153.3881652721177, 992.3514035456659, 936.8494238084564, 934.9246931063166, 905.1380063627578, 878.934375081438, 871.8397962505412, 854.5194988636675, 844.4245739744518, 809.3417249618951, 791.8691392865217, 785.4803030247278, 772.7925046442837, 744.9880313958856, 714.6668403289829, 685.2525657606351, 644.128064797712, 611.5795053054406, 599.325056100456, 595.9871986598973, 592.1708444214747, 576.7401362822247, 575.6457059511121, 3233.5816828051948, 2497.2622036335265, 2009.1374587799023, 2004.0983294062037, 1690.9850096005664, 1415.4584600782268, 1383.7781957704137, 1372.3556502443328, 1221.1776804082835, 1232.8820827841864, 946.4506375613634, 865.4743202098954, 765.1798114850138, 737.0882084539321, 721.9294772487846, 714.6085238196684, 695.0643102369778, 678.2812015819428, 676.4971910498159, 645.1596175335098, 637.5527513121882, 623.504919720925, 612.2139705563064, 478.2893206814307, 458.54812617134144, 435.5166213715262, 433.75508491652056, 429.05777675292086, 416.53431621711064, 410.2274879971772, 1795.8946239847262, 1713.6911026509306, 1359.1992949618536, 1296.9681200544603, 996.8347697004605, 980.280738067849, 977.0068009952059, 960.0785810157693, 885.9623009990668, 872.5478567526335, 815.0435329692007, 811.3580625621075, 739.6474415389484, 698.9038859602415, 677.8983795028606, 671.6400738349132, 625.2160798170538, 575.0238101331101, 578.948368780139, 554.9897077958644, 524.4646206985735, 501.9641125040559, 477.46430476841255, 474.0028110044214, 470.24981639377626, 461.07845166302513, 452.4209146502648, 448.26420221037955, 443.82768642623995, 437.37247460297596, 2331.2189638794243, 1465.6858998249782, 1277.7619848393824, 1213.0040378734066, 1192.841698095909, 1118.7377214665958, 1071.0116458316948, 868.2232053607545, 861.4257216333091, 857.5500750750138, 791.7986375215366, 778.7616203856486, 746.1152824948142, 742.3535311248914, 702.0923184843405, 700.5876418768676, 653.1970763003782, 626.8998550425667, 588.4139252859048, 586.8782598227457, 585.2768028141064, 557.4065513321993, 552.0731575884477, 540.8546354142106, 541.3293713566303, 509.0212339738899, 461.48120459906704, 448.710474337566, 424.15409872527067, 421.0391005917651], \"Category\": [\"Default\", \"Default\", \"Default\", \"Default\", \"Default\", \"Default\", \"Default\", \"Default\", \"Default\", \"Default\", \"Default\", \"Default\", \"Default\", \"Default\", \"Default\", \"Default\", \"Default\", \"Default\", \"Default\", \"Default\", \"Default\", \"Default\", \"Default\", \"Default\", \"Default\", \"Default\", \"Default\", \"Default\", \"Default\", \"Default\", \"Topic1\", \"Topic1\", \"Topic1\", \"Topic1\", \"Topic1\", \"Topic1\", \"Topic1\", \"Topic1\", \"Topic1\", \"Topic1\", \"Topic1\", \"Topic1\", \"Topic1\", \"Topic1\", \"Topic1\", \"Topic1\", \"Topic1\", \"Topic1\", \"Topic1\", \"Topic1\", \"Topic1\", \"Topic1\", \"Topic1\", \"Topic1\", \"Topic1\", \"Topic1\", \"Topic1\", \"Topic1\", \"Topic1\", \"Topic1\", \"Topic2\", \"Topic2\", \"Topic2\", \"Topic2\", \"Topic2\", \"Topic2\", \"Topic2\", \"Topic2\", \"Topic2\", \"Topic2\", \"Topic2\", \"Topic2\", \"Topic2\", \"Topic2\", \"Topic2\", \"Topic2\", \"Topic2\", \"Topic2\", \"Topic2\", \"Topic2\", \"Topic2\", \"Topic2\", \"Topic2\", \"Topic2\", \"Topic2\", \"Topic2\", \"Topic2\", \"Topic2\", \"Topic2\", \"Topic2\", \"Topic3\", \"Topic3\", \"Topic3\", \"Topic3\", \"Topic3\", \"Topic3\", \"Topic3\", \"Topic3\", \"Topic3\", \"Topic3\", \"Topic3\", \"Topic3\", \"Topic3\", \"Topic3\", \"Topic3\", \"Topic3\", \"Topic3\", \"Topic3\", \"Topic3\", \"Topic3\", \"Topic3\", \"Topic3\", \"Topic3\", \"Topic3\", \"Topic3\", \"Topic3\", \"Topic3\", \"Topic3\", \"Topic3\", \"Topic3\", \"Topic4\", \"Topic4\", \"Topic4\", \"Topic4\", \"Topic4\", \"Topic4\", \"Topic4\", \"Topic4\", \"Topic4\", \"Topic4\", \"Topic4\", \"Topic4\", \"Topic4\", \"Topic4\", \"Topic4\", \"Topic4\", \"Topic4\", \"Topic4\", \"Topic4\", \"Topic4\", \"Topic4\", \"Topic4\", \"Topic4\", \"Topic4\", \"Topic4\", \"Topic4\", \"Topic4\", \"Topic4\", \"Topic4\", \"Topic4\", \"Topic4\", \"Topic5\", \"Topic5\", \"Topic5\", \"Topic5\", \"Topic5\", \"Topic5\", \"Topic5\", \"Topic5\", \"Topic5\", \"Topic5\", \"Topic5\", \"Topic5\", \"Topic5\", \"Topic5\", \"Topic5\", \"Topic5\", \"Topic5\", \"Topic5\", \"Topic5\", \"Topic5\", \"Topic5\", \"Topic5\", \"Topic5\", \"Topic5\", \"Topic5\", \"Topic5\", \"Topic5\", \"Topic5\", \"Topic5\", \"Topic5\", \"Topic6\", \"Topic6\", \"Topic6\", \"Topic6\", \"Topic6\", \"Topic6\", \"Topic6\", \"Topic6\", \"Topic6\", \"Topic6\", \"Topic6\", \"Topic6\", \"Topic6\", \"Topic6\", \"Topic6\", \"Topic6\", \"Topic6\", \"Topic6\", \"Topic6\", \"Topic6\", \"Topic6\", \"Topic6\", \"Topic6\", \"Topic6\", \"Topic6\", \"Topic6\", \"Topic6\", \"Topic6\", \"Topic6\", \"Topic6\", \"Topic7\", \"Topic7\", \"Topic7\", \"Topic7\", \"Topic7\", \"Topic7\", \"Topic7\", \"Topic7\", \"Topic7\", \"Topic7\", \"Topic7\", \"Topic7\", \"Topic7\", \"Topic7\", \"Topic7\", \"Topic7\", \"Topic7\", \"Topic7\", \"Topic7\", \"Topic7\", \"Topic7\", \"Topic7\", \"Topic7\", \"Topic7\", \"Topic7\", \"Topic7\", \"Topic7\", \"Topic7\", \"Topic7\", \"Topic7\", \"Topic8\", \"Topic8\", \"Topic8\", \"Topic8\", \"Topic8\", \"Topic8\", \"Topic8\", \"Topic8\", \"Topic8\", \"Topic8\", \"Topic8\", \"Topic8\", \"Topic8\", \"Topic8\", \"Topic8\", \"Topic8\", \"Topic8\", \"Topic8\", \"Topic8\", \"Topic8\", \"Topic8\", \"Topic8\", \"Topic8\", \"Topic8\", \"Topic8\", \"Topic8\", \"Topic8\", \"Topic8\", \"Topic8\", \"Topic8\"], \"logprob\": [30.0, 29.0, 28.0, 27.0, 26.0, 25.0, 24.0, 23.0, 22.0, 21.0, 20.0, 19.0, 18.0, 17.0, 16.0, 15.0, 14.0, 13.0, 12.0, 11.0, 10.0, 9.0, 8.0, 7.0, 6.0, 5.0, 4.0, 3.0, 2.0, 1.0, -3.2414, -3.664, -3.7516, -3.9685, -4.0372, -4.1002, -4.1159, -4.1266, -4.1678, -4.2434, -4.2524, -4.3393, -4.3442, -4.3638, -4.5393, -4.5764, -4.5929, -4.612, -4.6182, -4.6367, -4.7127, -4.7199, -4.7623, -4.7895, -4.7979, -4.8129, -4.8328, -4.8496, -4.8778, -4.9156, -2.495, -2.6345, -3.1741, -3.1755, -3.2806, -3.5839, -3.6081, -3.87, -4.162, -4.2748, -4.2754, -4.3773, -4.3864, -4.4133, -4.6062, -4.6148, -4.6348, -4.7751, -4.8102, -4.8346, -4.8406, -4.9949, -5.0366, -5.0482, -5.0571, -5.0909, -5.1453, -5.1785, -5.1923, -5.2401, -3.4542, -3.7894, -3.79, -4.1181, -4.1495, -4.1916, -4.3691, -4.4952, -4.499, -4.5202, -4.5962, -4.6058, -4.6295, -4.7471, -4.8156, -4.8339, -4.8634, -4.8848, -4.928, -4.94, -4.9533, -4.9661, -4.9908, -4.9971, -4.9991, -5.0115, -5.0148, -5.0212, -5.0326, -5.0412, -3.1277, -3.5342, -3.8016, -4.0055, -4.0325, -4.043, -4.0929, -4.2561, -4.3888, -4.4154, -4.4784, -4.551, -4.5607, -4.6261, -4.7312, -4.7575, -4.8567, -4.8863, -4.8915, -4.903, -4.9115, -4.9556, -4.9924, -5.0968, -5.1107, -5.1436, -5.1567, -5.1747, -5.1963, -5.1976, -3.8254, -2.9381, -3.7936, -3.9369, -4.0036, -4.1001, -4.2754, -4.3726, -4.4025, -4.553, -4.6106, -4.6126, -4.6451, -4.6745, -4.6826, -4.7027, -4.7146, -4.757, -4.7789, -4.787, -4.8033, -4.84, -4.8816, -4.9237, -4.9857, -5.0376, -5.0579, -5.0634, -5.0699, -5.0963, -5.0982, -3.1644, -3.4229, -3.6405, -3.643, -3.8129, -3.9909, -4.0135, -4.0218, -4.1386, -4.1291, -4.3937, -4.4832, -4.6065, -4.644, -4.6648, -4.675, -4.7027, -4.7272, -4.7299, -4.7773, -4.7892, -4.8115, -4.8299, -5.0771, -5.1193, -5.171, -5.175, -5.186, -5.2156, -5.2309, -3.7493, -3.7962, -4.0281, -4.075, -4.3384, -4.3551, -4.3585, -4.376, -4.4564, -4.4717, -4.5399, -4.5445, -4.6371, -4.6938, -4.7244, -4.7337, -4.8054, -4.8892, -4.8824, -4.9247, -4.9814, -5.0253, -5.0754, -5.0827, -5.0907, -5.1104, -5.1294, -5.1387, -5.1486, -5.1633, -3.4207, -3.885, -4.0223, -4.0744, -4.0912, -4.1553, -4.199, -4.4091, -4.417, -4.4215, -4.5013, -4.5179, -4.5608, -4.5659, -4.6217, -4.6239, -4.694, -4.7352, -4.7986, -4.8012, -4.804, -4.8528, -4.8625, -4.883, -4.8822, -4.9438, -5.042, -5.0701, -5.1265, -5.1339], \"loglift\": [30.0, 29.0, 28.0, 27.0, 26.0, 25.0, 24.0, 23.0, 22.0, 21.0, 20.0, 19.0, 18.0, 17.0, 16.0, 15.0, 14.0, 13.0, 12.0, 11.0, 10.0, 9.0, 8.0, 7.0, 6.0, 5.0, 4.0, 3.0, 2.0, 1.0, 1.0993, 1.0993, 1.0993, 1.0992, 1.0992, 1.0992, 1.0992, 1.0992, 1.0992, 1.0992, 1.0992, 1.0992, 1.0992, 1.0992, 1.0991, 1.0991, 1.0991, 1.0991, 1.0991, 1.0991, 1.0991, 1.0991, 1.0991, 1.0991, 1.0991, 1.0991, 1.0991, 1.099, 1.099, 1.099, 1.9636, 1.9636, 1.9635, 1.9635, 1.9635, 1.9634, 1.9634, 1.9634, 1.9633, 1.9632, 1.9632, 1.9632, 1.9631, 1.9631, 1.963, 1.963, 1.963, 1.9629, 1.9629, 1.9629, 1.9627, 1.9627, 1.9627, 1.9627, 1.9627, 1.9626, 1.9626, 1.9625, 1.9625, 1.9624, 2.189, 2.1889, 2.1889, 2.1888, 2.1887, 2.1887, 2.1886, 2.1885, 2.1885, 2.1885, 2.1885, 2.1884, 2.1884, 2.1883, 2.1883, 2.1882, 2.1882, 2.1882, 2.1881, 2.1881, 2.1881, 2.1881, 2.1881, 2.1881, 2.1881, 2.188, 2.188, 2.188, 2.188, 2.188, 2.2656, 2.2655, 2.2654, 2.2654, 2.2653, 2.2653, 2.2653, 2.2652, 2.2651, 2.2651, 2.2651, 2.265, 2.265, 2.2649, 2.2648, 2.2648, 2.2647, 2.2647, 2.2647, 2.2647, 2.2647, 2.2646, 2.2646, 2.2644, 2.2644, 2.2643, 2.2643, 2.2643, 2.2643, 2.2643, 1.9425, 2.3866, 2.3863, 2.3863, 2.3862, 2.3862, 2.3861, 2.386, 2.386, 2.3858, 2.3858, 2.3858, 2.3858, 2.3857, 2.3857, 2.3857, 2.3857, 2.3856, 2.3856, 2.3856, 2.3856, 2.3855, 2.3855, 2.3854, 2.3853, 2.3853, 2.3852, 2.3852, 2.3852, 2.3852, 2.3852, 2.5932, 2.5931, 2.593, 2.593, 2.5929, 2.5928, 2.5928, 2.5928, 2.5927, 2.5927, 2.5925, 2.5924, 2.5923, 2.5922, 2.5922, 2.5922, 2.5922, 2.5921, 2.5921, 2.5921, 2.592, 2.592, 2.5919, 2.5916, 2.5915, 2.5914, 2.5914, 2.5914, 2.5913, 2.5913, 2.5964, 2.5963, 2.5962, 2.5962, 2.5959, 2.5959, 2.5959, 2.5959, 2.5958, 2.5958, 2.5957, 2.5957, 2.5956, 2.5956, 2.5955, 2.5955, 2.5954, 2.5953, 2.5953, 2.5952, 2.5951, 2.5951, 2.595, 2.5949, 2.5949, 2.5949, 2.5949, 2.5948, 2.5948, 2.5948, 2.664, 2.6638, 2.6637, 2.6637, 2.6637, 2.6636, 2.6636, 2.6634, 2.6634, 2.6634, 2.6633, 2.6632, 2.6632, 2.6632, 2.6631, 2.6631, 2.663, 2.663, 2.6629, 2.6629, 2.6629, 2.6628, 2.6628, 2.6627, 2.6627, 2.6626, 2.6624, 2.6624, 2.6623, 2.6623]}, \"token.table\": {\"Topic\": [4, 8, 7, 8, 8, 7, 8, 8, 7, 2, 2, 3, 5, 8, 2, 2, 7, 4, 2, 2, 3, 7, 7, 4, 4, 5, 7, 6, 8, 8, 8, 6, 5, 8, 2, 8, 7, 5, 1, 7, 8, 3, 4, 6, 2, 4, 8, 7, 3, 7, 6, 3, 1, 2, 8, 4, 4, 5, 8, 6, 6, 6, 7, 3, 7, 2, 8, 3, 2, 6, 5, 7, 4, 3, 1, 7, 3, 1, 4, 3, 1, 2, 1, 2, 2, 1, 5, 2, 6, 2, 7, 1, 4, 2, 8, 5, 3, 4, 3, 4, 6, 8, 3, 5, 4, 3, 6, 3, 6, 5, 2, 8, 7, 5, 7, 3, 1, 5, 5, 8, 7, 1, 5, 6, 4, 8, 5, 3, 1, 1, 6, 1, 6, 6, 3, 3, 6, 8, 4, 3, 1, 1, 6, 2, 7, 8, 3, 4, 8, 7, 4, 5, 1, 6, 6, 4, 2, 3, 7, 6, 8, 7, 5, 5, 5, 2, 8, 3, 2, 2, 1, 4, 5, 4, 7, 3, 2, 2, 1, 5, 1, 1, 4, 1, 5, 8, 6, 5, 2, 4, 5, 7, 8, 8, 4, 6, 3, 5, 2, 7, 3, 6, 7, 1, 4, 6, 6, 6, 3, 4, 1, 7, 2, 1, 1, 6, 5, 7, 6, 1, 4, 3, 5, 3, 5, 1, 3, 5, 1, 4, 1, 6, 1, 5, 8, 4, 2, 1, 7, 2, 4, 4], \"Freq\": [0.9988517329287614, 0.998416630816085, 0.9973422288532492, 0.9992965406355675, 0.9981767027862851, 0.9971797832524976, 0.9978184633186087, 0.9989572606765532, 0.9982167096399047, 0.9995462022043279, 0.9997756207552634, 0.9983372248748659, 0.9994972031990335, 0.9974766149970112, 0.9990830766440411, 0.9999039730439724, 0.9987067092079484, 0.9990788028956109, 0.9990534725873067, 0.9988536768840864, 0.9993284202238735, 0.9983261859038918, 0.9991176459800273, 0.9992540445328294, 0.9991164230208397, 0.9986737620548959, 0.9995967169054788, 0.9973043080293037, 0.9972790579444142, 0.9992943756935623, 0.9993405769266199, 0.9994376296918159, 0.9983422021619381, 0.9995320280934271, 0.9993271282244415, 0.9994771130904856, 0.9989138352749529, 0.999779392320945, 0.999646200094994, 0.9978843775160395, 0.9991612157541157, 0.9994704035828095, 0.9997425016445708, 0.9982591906290484, 0.9995320118358995, 0.9998626890379103, 0.9991722716148853, 0.9983619113011108, 0.9983964422910442, 0.9993721183905345, 0.9988046485416525, 0.9994816602383718, 0.999725975630312, 0.9986958602785774, 0.9981673581468579, 0.9992247796880539, 0.9991492681934677, 0.9990933187480616, 0.9989913628494783, 0.9994174935939858, 0.9975346519507792, 0.9984581251788072, 0.9981351176333667, 0.9991787080554829, 0.9989695046194352, 0.9991439971414063, 0.9985035059519654, 0.9995973651753707, 0.9993917970756759, 0.9981111055725049, 0.9983435908319557, 0.9990275612987702, 0.9982356687561644, 0.9998318214724674, 0.9995224977928046, 0.9976610235001542, 0.9991032766009622, 0.9997553081130812, 0.9993802279043299, 0.9996421476190089, 0.9998480903054444, 0.9996950580965668, 0.9997955206392822, 0.9997666652770711, 0.9997914839668072, 0.9998352604483319, 0.9996294479068852, 0.9982864101026598, 0.99945195345625, 0.9993175292498837, 0.9986747578545335, 0.2759112143235713, 0.7236810559155054, 0.9992336065607816, 0.9975320567845014, 0.9992816451931461, 0.9992254852387007, 0.9996860867737577, 0.9988452192836095, 0.9989153773339836, 0.9990121727963948, 0.9995057941472866, 0.9983467435467124, 0.9980227928603634, 0.9987008564471825, 0.998537679436433, 0.9987125096313746, 0.9992350989347337, 0.998523638770162, 0.9990109437550053, 0.9987613506443104, 0.9979937301123626, 0.9990469987425579, 0.9997488613926272, 0.9986934986906165, 0.9986147768315315, 0.9998878469103079, 0.9989278523961963, 0.9991481039914462, 0.998505214246403, 0.9990696392747666, 0.9996483955111785, 0.9977890860944851, 0.9970077870618322, 0.9991016030015833, 0.99905542966257, 0.9981721108052405, 0.9985077502568955, 0.9997273329810272, 0.9997222174839564, 0.9996761048867506, 0.9998970277732162, 0.9991484514956304, 0.9988137734677055, 0.9992929663915168, 0.9985801181407492, 0.9991901912800447, 0.9990220108879128, 0.9987354218270946, 0.999593277268198, 0.9997613748466575, 0.9999262817845755, 0.9982025881626889, 0.9987513632055012, 0.9980793198556638, 0.9985911395212638, 0.998656937191614, 0.9990219515106195, 0.9984441953635121, 0.9991246619638117, 0.9988918060049514, 0.9986381804461228, 0.9995815671565577, 0.9984687600538503, 0.9987172336196374, 0.9996180464585562, 0.9985322498658223, 0.9990635536695975, 0.9980549447522052, 0.9994945650353856, 0.9994036566681249, 0.9992535513868918, 0.9993920573323858, 0.9989024205599113, 0.9993885231458023, 0.9998538208892583, 0.9975442467618213, 0.9994160061658746, 0.9998864330215665, 0.9991237396943925, 0.999821170861513, 0.9987665599093829, 0.9982486948491116, 0.9995370530500747, 0.9991141047837419, 0.9994636903732123, 0.9994775399975513, 0.9997415252215089, 0.9998731923809028, 0.9990367539378762, 0.9995530179793073, 0.9998594891095407, 0.999396213053993, 0.9998154371590943, 0.9990524448572696, 0.9984198426744441, 0.998017081258039, 0.9987427261315313, 0.9990922616967824, 0.9987343526441431, 0.9990669214081964, 0.9987196598378014, 0.9993585504905173, 0.9985645952294795, 0.9980129802897362, 0.9995238657532901, 0.9992425402786634, 0.9989744923255325, 0.9995661623118774, 0.999501850513511, 0.9990746424985563, 0.9990356191181862, 0.9988765700671833, 0.9998948725735654, 0.9991204745794309, 0.999433857163465, 0.9998201119185305, 0.9992845359694137, 0.9993627822888407, 0.9994036446899007, 0.9999185337530787, 0.9991625796713418, 0.9996973291455191, 0.9999001279694278, 0.9996713646448399, 0.9991330108590222, 0.9987964457119342, 0.998219534365241, 0.9992650508288965, 0.9999028204013255, 0.9997697390796553, 0.9993200288308436, 0.9988782927685612, 0.9994844353065238, 0.998936922814799, 0.9998992703233456, 0.9991468619416057, 0.9995780956893625, 0.999668552877975, 0.9988030282410697, 0.999756711462957, 0.9994519583245554, 0.9997824293610281, 0.9987166901769733, 0.9980561315584778, 0.9995912964121835, 0.9989770840941543, 0.9998002174439289, 0.9968620005083269, 0.9999384807939011, 0.9984387435637069, 0.9996802675946087], \"Term\": [\"ability\", \"absolutely\", \"accord\", \"accurate\", \"admit\", \"advice\", \"aiart\", \"allow\", \"almost\", \"amazing\", \"answer\", \"anymore\", \"app\", \"application\", \"article\", \"ask\", \"assessment\", \"automate\", \"awesome\", \"bad\", \"base\", \"beat\", \"become\", \"believe\", \"big\", \"bit\", \"bitcoin\", \"blockchain\", \"blow\", \"bot\", \"break\", \"business\", \"call\", \"challenge\", \"chat\", \"chatbot\", \"class\", \"code\", \"come\", \"community\", \"company\", \"complex\", \"content\", \"conversational\", \"cool\", \"create\", \"creation\", \"criticism\", \"current\", \"dalle\", \"datascience\", \"datum\", \"day\", \"decide\", \"definitely\", \"describe\", \"design\", \"developer\", \"difference\", \"digital\", \"discover\", \"document\", \"early\", \"easy\", \"education\", \"end\", \"error\", \"even\", \"example\", \"explore\", \"fact\", \"fail\", \"fast\", \"find\", \"first\", \"form\", \"friend\", \"future\", \"game\", \"generate\", \"get\", \"give\", \"go\", \"good\", \"gpt\", \"great\", \"guess\", \"hand\", \"handle\", \"happen\", \"hard\", \"help\", \"help\", \"here\", \"history\", \"hour\", \"huge\", \"human\", \"ill\", \"image\", \"impact\", \"implication\", \"important\", \"impressed\", \"improve\", \"include\", \"industry\", \"information\", \"innovation\", \"input\", \"insane\", \"interview\", \"issue\", \"job\", \"join\", \"key\", \"know\", \"language\", \"last\", \"later\", \"learning\", \"let\", \"level\", \"line\", \"little\", \"llm\", \"logic\", \"lol\", \"look\", \"m\", \"machinelearning\", \"make\", \"marketing\", \"math\", \"mean\", \"meet\", \"metaverse\", \"mind\", \"mistake\", \"model\", \"need\", \"new\", \"news\", \"nice\", \"number\", \"open\", \"opinion\", \"output\", \"paper\", \"part\", \"partner\", \"pass\", \"people\", \"perfect\", \"perspective\", \"play\", \"poem\", \"point\", \"pose\", \"potential\", \"present\", \"problem\", \"produce\", \"product\", \"programming\", \"prompt\", \"prompt_engineere\", \"provide\", \"question\", \"quite\", \"really\", \"refer\", \"release\", \"replace\", \"request\", \"research\", \"response\", \"result\", \"right\", \"run\", \"s\", \"say\", \"script\", \"see\", \"seo\", \"service\", \"signature\", \"similar\", \"simple\", \"simulate\", \"software\", \"solve\", \"soon\", \"sound\", \"speak\", \"startup\", \"state\", \"stay\", \"story\", \"student\", \"stuff\", \"style\", \"system\", \"take\", \"task\", \"tech\", \"technology\", \"tedious\", \"text\", \"thing\", \"think\", \"thought\", \"thread\", \"time\", \"tool\", \"top\", \"train\", \"training\", \"trend\", \"try\", \"tweet\", \"twitter\", \"type\", \"understand\", \"update\", \"use\", \"useful\", \"user\", \"ve\", \"wait\", \"way\", \"web\", \"well\", \"whole\", \"win\", \"wonder\", \"word\", \"work\", \"worry\", \"write\", \"writer\", \"wrong\"]}, \"R\": 30, \"lambda.step\": 0.01, \"plot.opts\": {\"xlab\": \"PC1\", \"ylab\": \"PC2\"}, \"topic.order\": [2, 8, 1, 3, 6, 4, 7, 5]};\n",
              "\n",
              "function LDAvis_load_lib(url, callback){\n",
              "  var s = document.createElement('script');\n",
              "  s.src = url;\n",
              "  s.async = true;\n",
              "  s.onreadystatechange = s.onload = callback;\n",
              "  s.onerror = function(){console.warn(\"failed to load library \" + url);};\n",
              "  document.getElementsByTagName(\"head\")[0].appendChild(s);\n",
              "}\n",
              "\n",
              "if(typeof(LDAvis) !== \"undefined\"){\n",
              "   // already loaded: just create the visualization\n",
              "   !function(LDAvis){\n",
              "       new LDAvis(\"#\" + \"ldavis_el1141402849081867524275271487\", ldavis_el1141402849081867524275271487_data);\n",
              "   }(LDAvis);\n",
              "}else if(typeof define === \"function\" && define.amd){\n",
              "   // require.js is available: use it to load d3/LDAvis\n",
              "   require.config({paths: {d3: \"https://d3js.org/d3.v5\"}});\n",
              "   require([\"d3\"], function(d3){\n",
              "      window.d3 = d3;\n",
              "      LDAvis_load_lib(\"https://cdn.jsdelivr.net/gh/bmabey/pyLDAvis@3.4.0/pyLDAvis/js/ldavis.v3.0.0.js\", function(){\n",
              "        new LDAvis(\"#\" + \"ldavis_el1141402849081867524275271487\", ldavis_el1141402849081867524275271487_data);\n",
              "      });\n",
              "    });\n",
              "}else{\n",
              "    // require.js not available: dynamically load d3 & LDAvis\n",
              "    LDAvis_load_lib(\"https://d3js.org/d3.v5.js\", function(){\n",
              "         LDAvis_load_lib(\"https://cdn.jsdelivr.net/gh/bmabey/pyLDAvis@3.4.0/pyLDAvis/js/ldavis.v3.0.0.js\", function(){\n",
              "                 new LDAvis(\"#\" + \"ldavis_el1141402849081867524275271487\", ldavis_el1141402849081867524275271487_data);\n",
              "            })\n",
              "         });\n",
              "}\n",
              "</script>"
            ]
          },
          "metadata": {},
          "execution_count": 78
        }
      ]
    },
    {
      "cell_type": "code",
      "source": [
        " # Compute Perplexity\n",
        "print('\\nPerplexity: ', lda_model.log_perplexity(corpus))  # a measure of how good the model is. lower the better.\n",
        "# Compute Coherence Score\n",
        "coherence_model_lda = CoherenceModel(model=lda_model, texts=data_lemmatized, dictionary=id2word, coherence='c_v')\n",
        "coherence_lda = coherence_model_lda.get_coherence()\n",
        "print('\\nCoherence Score: ', coherence_lda)"
      ],
      "metadata": {
        "colab": {
          "base_uri": "https://localhost:8080/"
        },
        "id": "PQWqTHW_ve4n",
        "outputId": "20536ec8-8438-41f9-99c5-1026751b7e91"
      },
      "execution_count": 81,
      "outputs": [
        {
          "output_type": "stream",
          "name": "stdout",
          "text": [
            "\n",
            "Perplexity:  -8.590458748973303\n",
            "\n",
            "Coherence Score:  0.30039911908738903\n"
          ]
        }
      ]
    },
    {
      "cell_type": "code",
      "source": [
        "pyLDAvis.save_html(vis, 'lda_model_vis.html')"
      ],
      "metadata": {
        "id": "cn34A0LmxeOo"
      },
      "execution_count": 82,
      "outputs": []
    },
    {
      "cell_type": "markdown",
      "source": [
        "# 寻找最优的主题数"
      ],
      "metadata": {
        "id": "Y7AxEId0zPer"
      }
    },
    {
      "cell_type": "code",
      "source": [
        "# 创建一个空列表，用于存储每个主题数的困惑度\n",
        "perplexity_scores = []\n",
        "\n",
        "# 循环遍历主题数从2到12\n",
        "for num_topics in range(2, 13):\n",
        "    lda_model = gensim.models.ldamodel.LdaModel(corpus=corpus,\n",
        "                                               id2word=id2word,\n",
        "                                               num_topics=num_topics, \n",
        "                                               random_state=100,\n",
        "                                               update_every=1,\n",
        "                                               chunksize=1000,\n",
        "                                               passes=10,\n",
        "                                               alpha='auto',\n",
        "                                               per_word_topics=True)\n",
        "    perplexity_scores.append(lda_model.log_perplexity(corpus))\n",
        "\n",
        "# 使用matplotlib绘制困惑度随主题数变化的图形\n",
        "plt.plot(range(2, 13), perplexity_scores)\n",
        "plt.xlabel(\"Number of topics\")\n",
        "plt.ylabel(\"Log Perplexity Score\")\n",
        "plt.show()\n",
        "\n"
      ],
      "metadata": {
        "id": "OoaJroilzUPp"
      },
      "execution_count": null,
      "outputs": []
    },
    {
      "cell_type": "code",
      "source": [],
      "metadata": {
        "id": "8ls71srzzOKm"
      },
      "execution_count": null,
      "outputs": []
    },
    {
      "cell_type": "markdown",
      "source": [
        "# LDA结果可视化"
      ],
      "metadata": {
        "id": "GW-c7Aw7-TJ3"
      }
    }
  ]
}