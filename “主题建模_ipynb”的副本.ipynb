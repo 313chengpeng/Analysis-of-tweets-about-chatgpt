{
  "nbformat": 4,
  "nbformat_minor": 0,
  "metadata": {
    "colab": {
      "provenance": [],
      "authorship_tag": "ABX9TyMEuNbWHZUk+gvEoTPriUiC",
      "include_colab_link": true
    },
    "kernelspec": {
      "name": "python3",
      "display_name": "Python 3"
    },
    "language_info": {
      "name": "python"
    }
  },
  "cells": [
    {
      "cell_type": "markdown",
      "metadata": {
        "id": "view-in-github",
        "colab_type": "text"
      },
      "source": [
        "<a href=\"https://colab.research.google.com/github/313chengpeng/Analysis-of-tweets-about-chatgpt/blob/main/%E2%80%9C%E4%B8%BB%E9%A2%98%E5%BB%BA%E6%A8%A1_ipynb%E2%80%9D%E7%9A%84%E5%89%AF%E6%9C%AC.ipynb\" target=\"_parent\"><img src=\"https://colab.research.google.com/assets/colab-badge.svg\" alt=\"Open In Colab\"/></a>"
      ]
    },
    {
      "cell_type": "markdown",
      "source": [
        "# 使用LDA进行主题建模"
      ],
      "metadata": {
        "id": "TtDIBWQmtrxn"
      }
    },
    {
      "cell_type": "code",
      "execution_count": 1,
      "metadata": {
        "colab": {
          "base_uri": "https://localhost:8080/"
        },
        "id": "7HosyFwstjls",
        "outputId": "36a0e10a-7124-4480-87fa-6ade3573f5b3"
      },
      "outputs": [
        {
          "output_type": "stream",
          "name": "stdout",
          "text": [
            "Mounted at /content/drive\n"
          ]
        }
      ],
      "source": [
        "# 加载云端硬盘\n",
        "\n",
        "from google.colab import drive\n",
        "drive.mount('/content/drive')"
      ]
    },
    {
      "cell_type": "code",
      "source": [
        "import pandas as pd\n",
        "import re\n",
        "from tqdm.auto import tqdm\n",
        "from sklearn.decomposition import LatentDirichletAllocation\n",
        "from sklearn.feature_extraction.text import CountVectorizer"
      ],
      "metadata": {
        "id": "Z8nDG2S3ujWl"
      },
      "execution_count": 2,
      "outputs": []
    },
    {
      "cell_type": "code",
      "source": [
        "# 导入数据\n",
        "\n",
        "df = pd.read_csv('/content/drive/MyDrive/Colab Notebooks/bigdata/data_precess.csv', encoding='utf8')\n",
        "# df.head(10)"
      ],
      "metadata": {
        "id": "bCRyk2ZNtn-v"
      },
      "execution_count": 3,
      "outputs": []
    },
    {
      "cell_type": "markdown",
      "source": [
        "# 数据清洗函数"
      ],
      "metadata": {
        "id": "bZnjMn572vih"
      }
    },
    {
      "cell_type": "code",
      "source": [
        "pip install pyLDAvis"
      ],
      "metadata": {
        "colab": {
          "base_uri": "https://localhost:8080/"
        },
        "id": "hbasLm_PuqnP",
        "outputId": "2ce37460-c9d8-4aea-ff58-104fafd2b35f"
      },
      "execution_count": 4,
      "outputs": [
        {
          "output_type": "stream",
          "name": "stdout",
          "text": [
            "Looking in indexes: https://pypi.org/simple, https://us-python.pkg.dev/colab-wheels/public/simple/\n",
            "Collecting pyLDAvis\n",
            "  Downloading pyLDAvis-3.4.0-py3-none-any.whl (2.6 MB)\n",
            "\u001b[2K     \u001b[90m━━━━━━━━━━━━━━━━━━━━━━━━━━━━━━━━━━━━━━━━\u001b[0m \u001b[32m2.6/2.6 MB\u001b[0m \u001b[31m29.4 MB/s\u001b[0m eta \u001b[36m0:00:00\u001b[0m\n",
            "\u001b[?25hRequirement already satisfied: numexpr in /usr/local/lib/python3.9/dist-packages (from pyLDAvis) (2.8.4)\n",
            "Requirement already satisfied: scikit-learn>=1.0.0 in /usr/local/lib/python3.9/dist-packages (from pyLDAvis) (1.2.1)\n",
            "Collecting funcy\n",
            "  Downloading funcy-1.18-py2.py3-none-any.whl (33 kB)\n",
            "Requirement already satisfied: setuptools in /usr/local/lib/python3.9/dist-packages (from pyLDAvis) (57.4.0)\n",
            "Requirement already satisfied: scipy in /usr/local/lib/python3.9/dist-packages (from pyLDAvis) (1.10.1)\n",
            "Requirement already satisfied: joblib>=1.2.0 in /usr/local/lib/python3.9/dist-packages (from pyLDAvis) (1.2.0)\n",
            "Requirement already satisfied: pandas>=1.3.4 in /usr/local/lib/python3.9/dist-packages (from pyLDAvis) (1.3.5)\n",
            "Requirement already satisfied: jinja2 in /usr/local/lib/python3.9/dist-packages (from pyLDAvis) (3.1.2)\n",
            "Requirement already satisfied: gensim in /usr/local/lib/python3.9/dist-packages (from pyLDAvis) (3.6.0)\n",
            "Requirement already satisfied: numpy>=1.22.0 in /usr/local/lib/python3.9/dist-packages (from pyLDAvis) (1.22.4)\n",
            "Requirement already satisfied: pytz>=2017.3 in /usr/local/lib/python3.9/dist-packages (from pandas>=1.3.4->pyLDAvis) (2022.7.1)\n",
            "Requirement already satisfied: python-dateutil>=2.7.3 in /usr/local/lib/python3.9/dist-packages (from pandas>=1.3.4->pyLDAvis) (2.8.2)\n",
            "Requirement already satisfied: threadpoolctl>=2.0.0 in /usr/local/lib/python3.9/dist-packages (from scikit-learn>=1.0.0->pyLDAvis) (3.1.0)\n",
            "Requirement already satisfied: smart-open>=1.2.1 in /usr/local/lib/python3.9/dist-packages (from gensim->pyLDAvis) (6.3.0)\n",
            "Requirement already satisfied: six>=1.5.0 in /usr/local/lib/python3.9/dist-packages (from gensim->pyLDAvis) (1.15.0)\n",
            "Requirement already satisfied: MarkupSafe>=2.0 in /usr/local/lib/python3.9/dist-packages (from jinja2->pyLDAvis) (2.1.2)\n",
            "Installing collected packages: funcy, pyLDAvis\n",
            "Successfully installed funcy-1.18 pyLDAvis-3.4.0\n"
          ]
        }
      ]
    },
    {
      "cell_type": "code",
      "source": [
        "import re\n",
        "import numpy as np\n",
        "import pandas as pd\n",
        "from pprint import pprint \n",
        "# Gensim \n",
        "import gensim\n",
        "import gensim.corpora as corpora\n",
        "from gensim.utils import simple_preprocess\n",
        "from gensim.models import CoherenceModel\n",
        "# spacy for lemmatization\n",
        "import spacy\n",
        "# Plotting tools\n",
        "import pyLDAvis\n",
        "import pyLDAvis.gensim  # don't skip this\n",
        "import matplotlib.pyplot as plt\n",
        "%matplotlib inline\n",
        "import nltk\n",
        "nltk.download('punkt')\n",
        "nltk.download('stopwords')\n",
        "nltk.download('wordnet')\n",
        "from nltk.corpus import stopwords\n",
        "from nltk.stem import WordNetLemmatizer\n",
        "\n",
        "# Enable logging for gensim - optional\n",
        "import logging\n",
        "logging.basicConfig(format='%(asctime)s : %(levelname)s : %(message)s', level=logging.ERROR)\n",
        "import warnings\n",
        "warnings.filterwarnings(\"ignore\",category=DeprecationWarning)\n",
        "# NLTK Stop words\n",
        "from nltk.corpus import stopwords\n",
        "stop_words = stopwords.words('english')\n",
        "stop_words.extend(['amp','artificalintellig' ,'tcogfhukqnqz','chatgpt', 'ai', 'https', 'openai' ,'thing' , 'small', 'start' ,'one', 'artifical', 'intellig','bot','chatbot'])\n"
      ],
      "metadata": {
        "colab": {
          "base_uri": "https://localhost:8080/"
        },
        "id": "RTrJl5PhhZ47",
        "outputId": "34546fcd-2326-4144-e95d-3daadedeb75f"
      },
      "execution_count": 5,
      "outputs": [
        {
          "output_type": "stream",
          "name": "stderr",
          "text": [
            "/usr/local/lib/python3.9/dist-packages/torch/cuda/__init__.py:497: UserWarning: Can't initialize NVML\n",
            "  warnings.warn(\"Can't initialize NVML\")\n",
            "[nltk_data] Downloading package punkt to /root/nltk_data...\n",
            "[nltk_data]   Unzipping tokenizers/punkt.zip.\n",
            "[nltk_data] Downloading package stopwords to /root/nltk_data...\n",
            "[nltk_data]   Unzipping corpora/stopwords.zip.\n",
            "[nltk_data] Downloading package wordnet to /root/nltk_data...\n"
          ]
        }
      ]
    },
    {
      "cell_type": "code",
      "source": [
        "# Import Dataset\n",
        "df = pd.read_csv('/content/drive/MyDrive/Colab Notebooks/bigdata/data_precess.csv', encoding='utf8')\n"
      ],
      "metadata": {
        "id": "umbAgO12iRUU"
      },
      "execution_count": 6,
      "outputs": []
    },
    {
      "cell_type": "code",
      "source": [
        "from nltk.stem import PorterStemmer, WordNetLemmatizer\n",
        "# Convert to list\n",
        "data = df['text'].tolist()\n",
        "# Remove Emails\n",
        "data = [re.sub('\\S*@\\S*\\s?', '', sent) for sent in data]\n",
        "# Remove new line characters\n",
        "data = [re.sub('\\s+', ' ', sent) for sent in data]\n",
        "# Remove distracting single quotes\n",
        "data = [re.sub(\"\\'\", \"\", sent) for sent in data]\n",
        "# 去除链接和网址\n",
        "data =  [re.sub(r\"http\\S+|www\\S+\", \"\",sent) for sent in data]\n",
        "# 去除特殊字符和标点符号\n",
        "data = [re.sub(r\"\\S+@\\S+\", \"\",sent) for sent in data]\n",
        "data =  [re.sub(r\"[^a-zA-Z0-9\\s]+\", \"\", sent) for sent in data]\n",
        "\n",
        "\n",
        "\n",
        "print(data[:1])"
      ],
      "metadata": {
        "colab": {
          "base_uri": "https://localhost:8080/"
        },
        "id": "E_cq-RdKifn2",
        "outputId": "9c5d3d81-670c-4353-d122-250f2b0d7d12"
      },
      "execution_count": 7,
      "outputs": [
        {
          "output_type": "stream",
          "name": "stdout",
          "text": [
            "['CannabisCommunity DeveloperStudentClubs domains domainnames domain ChatGPT DOMAINS domainnames domainforsale web3 nft ai dao Mmemberville Crypto Cryptocurency CryptoLover CryptoNews CryptoInvestor Great name for sale at  ']\n"
          ]
        }
      ]
    },
    {
      "cell_type": "code",
      "source": [
        "def sent_to_words(sentences):\n",
        "    for sentence in sentences:\n",
        "        yield(gensim.utils.simple_preprocess(str(sentence), deacc=True))  # deacc=True removes punctuations\n",
        "data_words = list(sent_to_words(data))\n",
        "print(data_words[:1])"
      ],
      "metadata": {
        "colab": {
          "base_uri": "https://localhost:8080/"
        },
        "id": "BkZ9xFyYo2aB",
        "outputId": "3b8e0e3b-1611-4ac9-925d-39b50d527695"
      },
      "execution_count": 8,
      "outputs": [
        {
          "output_type": "stream",
          "name": "stdout",
          "text": [
            "[['domains', 'domainnames', 'domain', 'chatgpt', 'domains', 'domainnames', 'domainforsale', 'web', 'nft', 'ai', 'dao', 'mmemberville', 'crypto', 'cryptocurency', 'cryptolover', 'cryptonews', 'cryptoinvestor', 'great', 'name', 'for', 'sale', 'at']]\n"
          ]
        }
      ]
    },
    {
      "cell_type": "code",
      "source": [
        "# 创建二元（Bigram）模型和三元（Trigram）模型\n",
        "# Build the bigram and trigram models\n",
        "bigram = gensim.models.Phrases(data_words, min_count=5, threshold=100) # higher threshold fewer phrases.\n",
        "trigram = gensim.models.Phrases(bigram[data_words], threshold=100)  \n",
        "# Faster way to get a sentence clubbed as a trigram/bigram\n",
        "bigram_mod = gensim.models.phrases.Phraser(bigram)\n",
        "trigram_mod = gensim.models.phrases.Phraser(trigram)\n",
        "# See trigram example\n",
        "print(trigram_mod[bigram_mod[data_words[0]]])\n"
      ],
      "metadata": {
        "colab": {
          "base_uri": "https://localhost:8080/"
        },
        "id": "TgFPqC69oebh",
        "outputId": "e6f12d40-ed92-493c-f70a-6aaad4656b69"
      },
      "execution_count": 9,
      "outputs": [
        {
          "output_type": "stream",
          "name": "stderr",
          "text": [
            "/usr/local/lib/python3.9/dist-packages/gensim/models/phrases.py:598: UserWarning: For a faster implementation, use the gensim.models.phrases.Phraser class\n",
            "  warnings.warn(\"For a faster implementation, use the gensim.models.phrases.Phraser class\")\n"
          ]
        },
        {
          "output_type": "stream",
          "name": "stdout",
          "text": [
            "['domains_domainnames', 'domain', 'chatgpt', 'domains_domainnames_domainforsale', 'web', 'nft', 'ai', 'dao', 'mmemberville', 'crypto', 'cryptocurency', 'cryptolover', 'cryptonews', 'cryptoinvestor', 'great', 'name', 'for', 'sale', 'at']\n"
          ]
        }
      ]
    },
    {
      "cell_type": "code",
      "source": [
        " # Define functions for stopwords, bigrams, trigrams and lemmatization\n",
        "def remove_stopwords(texts):\n",
        "    return [[word for word in simple_preprocess(str(doc)) if word not in stop_words] for doc in texts]\n",
        "def make_bigrams(texts):\n",
        "    return [bigram_mod[doc] for doc in texts]\n",
        "def make_trigrams(texts):\n",
        "    return [trigram_mod[bigram_mod[doc]] for doc in texts]\n",
        "def lemmatization(texts, allowed_postags=['NOUN', 'ADJ', 'VERB', 'ADV']):\n",
        "     \"\"\"https://spacy.io/api/annotation\"\"\"\n",
        "     texts_out = []\n",
        "     for sent in texts:\n",
        "        doc = nlp(\" \".join(sent)) \n",
        "        texts_out.append([token.lemma_ for token in doc if token.pos_ in allowed_postags])\n",
        "     return texts_out\n",
        " \n",
        " \n",
        " # Remove Stop Words\n",
        "data_words_nostops = remove_stopwords(data_words)\n",
        "# Form Bigrams\n",
        "data_words_bigrams = make_bigrams(data_words_nostops)\n",
        "# Initialize spacy 'en' model, keeping only tagger component (for efficiency)\n",
        "# python3 -m spacy download en\n",
        "nlp = spacy.load('en_core_web_sm', disable=['parser', 'ner'])\n",
        "# Do lemmatization keeping only noun, adj, vb, adv\n",
        "data_lemmatized = lemmatization(data_words_bigrams, allowed_postags=['NOUN', 'ADJ', 'VERB', 'ADV'])\n",
        "print(data_lemmatized[:1])"
      ],
      "metadata": {
        "colab": {
          "base_uri": "https://localhost:8080/"
        },
        "id": "I4yvuQJxpE49",
        "outputId": "f4e73314-a6f7-4ae3-a1dd-e33d569a877e"
      },
      "execution_count": 10,
      "outputs": [
        {
          "output_type": "stream",
          "name": "stdout",
          "text": [
            "[['domains_domainname', 'domain', 'domains_domainname', 'web', 'cryptoinvestor', 'great', 'name', 'sale']]\n"
          ]
        }
      ]
    },
    {
      "cell_type": "code",
      "source": [
        " # Create Dictionary\n",
        "id2word = corpora.Dictionary(data_lemmatized)\n",
        "# Create Corpus\n",
        "texts = data_lemmatized\n",
        " # Term Document Frequency\n",
        "corpus = [id2word.doc2bow(text) for text in texts]\n",
        " # View\n",
        "print(corpus[:1])"
      ],
      "metadata": {
        "colab": {
          "base_uri": "https://localhost:8080/"
        },
        "id": "xJIPEgjuquIX",
        "outputId": "110cac76-797f-442b-fc7d-66f6b22df460"
      },
      "execution_count": 11,
      "outputs": [
        {
          "output_type": "stream",
          "name": "stdout",
          "text": [
            "[[(0, 1), (1, 1), (2, 2), (3, 1), (4, 1), (5, 1), (6, 1)]]\n"
          ]
        }
      ]
    },
    {
      "cell_type": "code",
      "source": [
        "# Build LDA model\n",
        "lda_model = gensim.models.ldamodel.LdaModel(corpus=corpus,\n",
        "                                           id2word=id2word,\n",
        "                                            num_topics=4, \n",
        "                                           random_state=100,\n",
        "                                           update_every=1,\n",
        "                                           chunksize=1000,\n",
        "                                           passes=10,\n",
        "                                          alpha='auto',\n",
        "                                           per_word_topics=True)"
      ],
      "metadata": {
        "id": "BhkVMugSrGhS"
      },
      "execution_count": 12,
      "outputs": []
    },
    {
      "cell_type": "code",
      "source": [
        "# Print the Keyword in the 10 topics\n",
        "print(lda_model.print_topics())\n",
        "doc_lda = lda_model[corpus]"
      ],
      "metadata": {
        "colab": {
          "base_uri": "https://localhost:8080/"
        },
        "id": "mSuXsp2WvEQ2",
        "outputId": "b537745b-8cf9-40c6-bc3d-4fd583fe8f04"
      },
      "execution_count": 13,
      "outputs": [
        {
          "output_type": "stream",
          "name": "stdout",
          "text": [
            "[(0, '0.023*\"use\" + 0.023*\"ask\" + 0.020*\"write\" + 0.015*\"get\" + 0.014*\"make\" + 0.012*\"answer\" + 0.012*\"good\" + 0.011*\"new\" + 0.010*\"question\" + 0.010*\"know\"'), (1, '0.027*\"code\" + 0.023*\"take\" + 0.017*\"human\" + 0.015*\"day\" + 0.011*\"job\" + 0.010*\"replace\" + 0.010*\"content\" + 0.009*\"bitcoin\" + 0.008*\"seem\" + 0.008*\"digital\"'), (2, '0.037*\"gpt\" + 0.019*\"play\" + 0.018*\"chat\" + 0.017*\"tweet\" + 0.016*\"art\" + 0.014*\"web\" + 0.013*\"cool\" + 0.011*\"impressive\" + 0.011*\"game\" + 0.010*\"image\"'), (3, '0.018*\"future\" + 0.018*\"technology\" + 0.015*\"world\" + 0.015*\"learn\" + 0.014*\"potential\" + 0.012*\"change\" + 0.012*\"model\" + 0.011*\"student\" + 0.011*\"tech\" + 0.008*\"machinelearning\"')]\n"
          ]
        }
      ]
    },
    {
      "cell_type": "code",
      "source": [
        "# Visualize the topics\n",
        "pyLDAvis.enable_notebook()\n",
        "vis = pyLDAvis.gensim.prepare(lda_model, corpus, id2word)\n",
        "vis\n"
      ],
      "metadata": {
        "colab": {
          "base_uri": "https://localhost:8080/",
          "height": 915
        },
        "id": "Pq-A5QpKuMET",
        "outputId": "f57644e2-47a2-406c-d742-729e4bbed20d"
      },
      "execution_count": 14,
      "outputs": [
        {
          "output_type": "stream",
          "name": "stderr",
          "text": [
            "/usr/local/lib/python3.9/dist-packages/pyLDAvis/_prepare.py:243: FutureWarning: In a future version of pandas all arguments of DataFrame.drop except for the argument 'labels' will be keyword-only\n",
            "  default_term_info = default_term_info.sort_values(\n"
          ]
        },
        {
          "output_type": "execute_result",
          "data": {
            "text/plain": [
              "PreparedData(topic_coordinates=              x         y  topics  cluster       Freq\n",
              "topic                                                \n",
              "0      0.396458  0.010940       1        1  53.604105\n",
              "1     -0.144621  0.317994       2        1  18.020591\n",
              "3     -0.127567 -0.235058       3        1  17.119254\n",
              "2     -0.124270 -0.093875       4        1  11.256050, topic_info=              Term          Freq         Total Category  logprob  loglift\n",
              "72             gpt   4234.000000   4234.000000  Default  30.0000  30.0000\n",
              "89            code   4933.000000   4933.000000  Default  29.0000  29.0000\n",
              "65             use  12718.000000  12718.000000  Default  28.0000  28.0000\n",
              "35             ask  12620.000000  12620.000000  Default  27.0000  27.0000\n",
              "324           take   4226.000000   4226.000000  Default  26.0000  26.0000\n",
              "...            ...           ...           ...      ...      ...      ...\n",
              "2751         movie    434.277530    435.109271   Topic4  -5.5801   2.1824\n",
              "435      community    440.738170    441.585994   Topic4  -5.5653   2.1823\n",
              "1916        mighty    548.916591    550.142192   Topic4  -5.3459   2.1820\n",
              "413           play   2156.176364   2331.719489   Topic4  -3.9777   2.1060\n",
              "38191  musictheory    485.670984    500.478662   Topic4  -5.4683   2.1542\n",
              "\n",
              "[161 rows x 6 columns], token_table=      Topic      Freq     Term\n",
              "term                          \n",
              "86        2  0.999279  ability\n",
              "696       4  0.998981    aiart\n",
              "349       1  0.999846   answer\n",
              "3001      4  0.999286      art\n",
              "2054      4  0.998224   artist\n",
              "...     ...       ...      ...\n",
              "67        1  0.999801     well\n",
              "531       2  0.999057     word\n",
              "333       1  0.999782     work\n",
              "652       3  0.999655    world\n",
              "186       1  0.999916    write\n",
              "\n",
              "[140 rows x 3 columns], R=30, lambda_step=0.01, plot_opts={'xlab': 'PC1', 'ylab': 'PC2'}, topic_order=[1, 2, 4, 3])"
            ],
            "text/html": [
              "\n",
              "<link rel=\"stylesheet\" type=\"text/css\" href=\"https://cdn.jsdelivr.net/gh/bmabey/pyLDAvis@3.4.0/pyLDAvis/js/ldavis.v1.0.0.css\">\n",
              "\n",
              "\n",
              "<div id=\"ldavis_el1141396370222717449714732011\" style=\"background-color:white;\"></div>\n",
              "<script type=\"text/javascript\">\n",
              "\n",
              "var ldavis_el1141396370222717449714732011_data = {\"mdsDat\": {\"x\": [0.3964580934399397, -0.14462149500261845, -0.12756702167012823, -0.12426957676719298], \"y\": [0.01093985736492552, 0.3179935106755223, -0.23505820823212212, -0.09387515980832578], \"topics\": [1, 2, 3, 4], \"cluster\": [1, 1, 1, 1], \"Freq\": [53.604105428866276, 18.020590535236533, 17.11925426381314, 11.25604977208405]}, \"tinfo\": {\"Term\": [\"gpt\", \"code\", \"use\", \"ask\", \"take\", \"write\", \"future\", \"technology\", \"human\", \"get\", \"day\", \"play\", \"make\", \"world\", \"learn\", \"chat\", \"potential\", \"tweet\", \"answer\", \"good\", \"art\", \"new\", \"change\", \"model\", \"web\", \"job\", \"question\", \"know\", \"student\", \"tech\", \"use\", \"ask\", \"write\", \"get\", \"make\", \"answer\", \"good\", \"new\", \"question\", \"know\", \"try\", \"think\", \"go\", \"see\", \"time\", \"work\", \"create\", \"well\", \"give\", \"m\", \"generate\", \"say\", \"way\", \"come\", \"people\", \"need\", \"right\", \"prompt\", \"help\", \"tool\", \"look\", \"code\", \"take\", \"human\", \"day\", \"job\", \"replace\", \"content\", \"bitcoin\", \"digital\", \"word\", \"internet\", \"language\", \"ability\", \"impact\", \"task\", \"break\", \"second\", \"never\", \"developer\", \"thought\", \"power\", \"output\", \"pass\", \"happen\", \"move\", \"insane\", \"essay\", \"design\", \"opinion\", \"implication\", \"hand\", \"automate\", \"seem\", \"future\", \"technology\", \"world\", \"learn\", \"potential\", \"change\", \"model\", \"student\", \"tech\", \"machinelearning\", \"business\", \"education\", \"join\", \"late\", \"soon\", \"class\", \"live\", \"startup\", \"topic\", \"software\", \"company\", \"paper\", \"method\", \"hack\", \"team\", \"hear\", \"innovation\", \"teach\", \"assessment\", \"industry\", \"llm\", \"tedious\", \"detailed\", \"document\", \"gpt\", \"chat\", \"tweet\", \"art\", \"web\", \"cool\", \"game\", \"impressive\", \"image\", \"poem\", \"video\", \"follow\", \"produce\", \"dalle\", \"script\", \"little\", \"project\", \"less\", \"book\", \"artist\", \"beat\", \"author\", \"aiart\", \"machine\", \"logic\", \"stablediffusion\", \"mine\", \"hypothetical\", \"movie\", \"community\", \"mighty\", \"play\", \"musictheory\"], \"Freq\": [4234.0, 4933.0, 12718.0, 12620.0, 4226.0, 10996.0, 3238.0, 3176.0, 3088.0, 8334.0, 2837.0, 2331.0, 7634.0, 2629.0, 2546.0, 2017.0, 2448.0, 1913.0, 6399.0, 6395.0, 1805.0, 6214.0, 2171.0, 2123.0, 1652.0, 2096.0, 5753.0, 5745.0, 1968.0, 1959.0, 12718.099997393187, 12619.686296138912, 10996.067534730244, 8333.320164066334, 7633.423076505478, 6399.13319824655, 6394.944631547081, 6213.271231538452, 5753.064528690241, 5745.037676500109, 5387.760034570124, 5303.751265067492, 5247.172169407205, 5035.320970970525, 4668.688369818186, 4627.155026488333, 4533.4364210284775, 4242.000412845865, 4248.0269346635505, 4221.166084825009, 3679.374752472426, 3474.223831035677, 3346.325489867863, 3229.355054370984, 3210.743429122625, 3153.8408594889, 3297.4326668550348, 3190.867268285917, 3098.6756540140127, 2899.2145044573294, 2920.0301950669286, 4932.286787917516, 4226.141632102974, 3087.3812515925233, 2837.114221792571, 2096.075143144652, 1872.8438827341556, 1763.030917529373, 1589.1960941230243, 1401.470287666616, 1272.361176765041, 1231.6102878015029, 1174.6262301383454, 1198.9954663547082, 1137.2806039417208, 1115.0604382841666, 1096.624555944974, 1078.0375288614198, 951.0460751305582, 926.0309762217938, 924.0830028441537, 907.941070296298, 909.9660322234507, 980.8604702746721, 868.315999397375, 903.4954750782753, 910.0880809608055, 818.161607119261, 797.511080919333, 860.4647122677928, 844.156700741891, 827.7765070865127, 821.3958128302335, 1499.0697104140688, 3238.1062406085894, 3175.558979860975, 2629.1228258911456, 2546.0126696641437, 2447.6864241226763, 2170.923976270536, 2122.8090805959387, 1967.4951894886517, 1958.8597094208392, 1398.6400540394, 1354.7677221866181, 1070.3026478919687, 1073.5375080204776, 989.1894719106552, 992.8342136207043, 970.1390696354782, 917.6954265640329, 926.4089366046989, 897.8678229291505, 834.2962251397845, 810.9410470581657, 812.6775197142342, 804.0578576346489, 835.6261591912063, 744.7539367618099, 733.0461793929381, 721.3702210725646, 725.6760568472895, 765.0954619420365, 706.4359202494063, 1239.541342336628, 1204.5143642717471, 809.6257894906662, 748.6661981593529, 4233.896829998626, 2016.9712907883918, 1912.2537027443648, 1804.4052555687294, 1651.2404102143403, 1505.1816500978746, 1267.6504443821336, 1285.275251311434, 1096.2391235626544, 995.7091668283573, 942.2650797881882, 828.6864634638886, 838.3608717911609, 803.0739449538687, 787.51378951218, 771.9356745189658, 742.0123275368114, 736.2013672115833, 705.4117265186812, 789.463660701833, 746.4160095708628, 717.5243450052953, 570.7651087687339, 557.094566200535, 671.960480289701, 463.9202520544633, 561.4923510684138, 581.6623213071853, 434.27752976621997, 440.7381701665577, 548.9165905948482, 2156.176364379119, 485.67098449108767], \"Total\": [4234.0, 4933.0, 12718.0, 12620.0, 4226.0, 10996.0, 3238.0, 3176.0, 3088.0, 8334.0, 2837.0, 2331.0, 7634.0, 2629.0, 2546.0, 2017.0, 2448.0, 1913.0, 6399.0, 6395.0, 1805.0, 6214.0, 2171.0, 2123.0, 1652.0, 2096.0, 5753.0, 5745.0, 1968.0, 1959.0, 12718.943252228348, 12620.535093879218, 10996.918677071413, 8334.169836105717, 7634.275505936892, 6399.983255735088, 6395.79755624414, 6214.130289341373, 5753.90953012523, 5745.886883047351, 5388.60889783866, 5304.598128508802, 5248.02195532934, 5036.171517616948, 4669.539260874288, 4628.009688979852, 4534.298584921101, 4242.845559344469, 4248.874213550928, 4222.012911224326, 3680.2315900106396, 3475.0675265446066, 3347.1731040156974, 3230.204929672981, 3211.5908025749095, 3154.68353170631, 3298.3192478044493, 3191.7305052808624, 3099.5157109810784, 2900.0514605495387, 2920.8815475450974, 4933.137914476795, 4226.985320792588, 3088.2193540348967, 2837.9573322244046, 2096.908965445567, 1873.678547635688, 1763.8607666999044, 1590.0601760182976, 1402.351863080859, 1273.2006942055407, 1232.458825782239, 1175.4679013644648, 1199.8647928762086, 1138.144573859551, 1115.9235986976673, 1097.4747962775255, 1078.8945005889082, 951.8902324821382, 926.8623063543578, 924.9218538877182, 908.7739622576403, 910.8174178549002, 981.7790004665007, 869.1537228737882, 904.4005866493665, 911.0043129331508, 819.0101919496974, 798.3495876077136, 861.3733402295458, 845.0566568001758, 828.6698882156284, 822.3014122169943, 1662.0535734313519, 3238.89193229621, 3176.3553771133625, 2629.908509498399, 2546.796021655688, 2448.5208970853273, 2171.708752346154, 2123.6012585482626, 1968.2737796726994, 1959.6393751143883, 1399.413887961585, 1355.5424379106844, 1071.0735487553168, 1074.3289145797135, 989.9678204313159, 993.6254060268924, 970.9474633514393, 918.4814126116556, 927.2032187443058, 898.6609264721354, 835.0891606858708, 811.7272058202439, 813.4698258523274, 804.8880410587308, 836.5065200789979, 745.5435032150414, 733.8315857747518, 722.1476430095082, 726.4585429513157, 765.9210718909517, 707.216809831496, 1241.0931277609754, 1207.3525451436467, 810.6113329624216, 749.5622586953184, 4234.733860351672, 2017.8048731258727, 1913.1158466330278, 1805.289799321051, 1652.0812731999795, 1506.0604239246743, 1268.4887490734309, 1286.1473433226686, 1097.106299619659, 996.5532371749296, 943.088467166107, 829.5240896313977, 839.2227979603337, 803.9059636637643, 788.3568162440073, 772.7783716046808, 742.8521793244378, 737.0596645742521, 706.2475851462674, 790.4039105334103, 747.3331522853151, 718.4135740057251, 571.5826229233105, 557.9399652379954, 672.9968934077535, 464.73899029718353, 562.5535233394072, 582.7745136728937, 435.1092713013086, 441.58599422501715, 550.1421920204874, 2331.719489031279, 500.4786615686181], \"Category\": [\"Default\", \"Default\", \"Default\", \"Default\", \"Default\", \"Default\", \"Default\", \"Default\", \"Default\", \"Default\", \"Default\", \"Default\", \"Default\", \"Default\", \"Default\", \"Default\", \"Default\", \"Default\", \"Default\", \"Default\", \"Default\", \"Default\", \"Default\", \"Default\", \"Default\", \"Default\", \"Default\", \"Default\", \"Default\", \"Default\", \"Topic1\", \"Topic1\", \"Topic1\", \"Topic1\", \"Topic1\", \"Topic1\", \"Topic1\", \"Topic1\", \"Topic1\", \"Topic1\", \"Topic1\", \"Topic1\", \"Topic1\", \"Topic1\", \"Topic1\", \"Topic1\", \"Topic1\", \"Topic1\", \"Topic1\", \"Topic1\", \"Topic1\", \"Topic1\", \"Topic1\", \"Topic1\", \"Topic1\", \"Topic1\", \"Topic1\", \"Topic1\", \"Topic1\", \"Topic1\", \"Topic1\", \"Topic2\", \"Topic2\", \"Topic2\", \"Topic2\", \"Topic2\", \"Topic2\", \"Topic2\", \"Topic2\", \"Topic2\", \"Topic2\", \"Topic2\", \"Topic2\", \"Topic2\", \"Topic2\", \"Topic2\", \"Topic2\", \"Topic2\", \"Topic2\", \"Topic2\", \"Topic2\", \"Topic2\", \"Topic2\", \"Topic2\", \"Topic2\", \"Topic2\", \"Topic2\", \"Topic2\", \"Topic2\", \"Topic2\", \"Topic2\", \"Topic2\", \"Topic2\", \"Topic2\", \"Topic3\", \"Topic3\", \"Topic3\", \"Topic3\", \"Topic3\", \"Topic3\", \"Topic3\", \"Topic3\", \"Topic3\", \"Topic3\", \"Topic3\", \"Topic3\", \"Topic3\", \"Topic3\", \"Topic3\", \"Topic3\", \"Topic3\", \"Topic3\", \"Topic3\", \"Topic3\", \"Topic3\", \"Topic3\", \"Topic3\", \"Topic3\", \"Topic3\", \"Topic3\", \"Topic3\", \"Topic3\", \"Topic3\", \"Topic3\", \"Topic3\", \"Topic3\", \"Topic3\", \"Topic3\", \"Topic4\", \"Topic4\", \"Topic4\", \"Topic4\", \"Topic4\", \"Topic4\", \"Topic4\", \"Topic4\", \"Topic4\", \"Topic4\", \"Topic4\", \"Topic4\", \"Topic4\", \"Topic4\", \"Topic4\", \"Topic4\", \"Topic4\", \"Topic4\", \"Topic4\", \"Topic4\", \"Topic4\", \"Topic4\", \"Topic4\", \"Topic4\", \"Topic4\", \"Topic4\", \"Topic4\", \"Topic4\", \"Topic4\", \"Topic4\", \"Topic4\", \"Topic4\", \"Topic4\"], \"logprob\": [30.0, 29.0, 28.0, 27.0, 26.0, 25.0, 24.0, 23.0, 22.0, 21.0, 20.0, 19.0, 18.0, 17.0, 16.0, 15.0, 14.0, 13.0, 12.0, 11.0, 10.0, 9.0, 8.0, 7.0, 6.0, 5.0, 4.0, 3.0, 2.0, 1.0, -3.7637, -3.7715, -3.9092, -4.1865, -4.2742, -4.4506, -4.4513, -4.4801, -4.557, -4.5584, -4.6226, -4.6383, -4.6491, -4.6903, -4.7659, -4.7748, -4.7953, -4.8617, -4.8603, -4.8667, -5.004, -5.0614, -5.0989, -5.1345, -5.1403, -5.1581, -5.1136, -5.1465, -5.1758, -5.2423, -5.2352, -3.6209, -3.7754, -4.0893, -4.1739, -4.4766, -4.5892, -4.6496, -4.7534, -4.8791, -4.9758, -5.0083, -5.0557, -5.0352, -5.088, -5.1077, -5.1244, -5.1415, -5.2668, -5.2935, -5.2956, -5.3132, -5.311, -5.236, -5.3579, -5.3181, -5.3109, -5.4173, -5.4429, -5.3669, -5.3861, -5.4057, -5.4134, -4.8118, -3.9904, -4.0099, -4.1987, -4.2308, -4.2702, -4.3902, -4.4126, -4.4886, -4.493, -4.8298, -4.8617, -5.0974, -5.0944, -5.1762, -5.1725, -5.1957, -5.2512, -5.2418, -5.2731, -5.3465, -5.3749, -5.3728, -5.3834, -5.3449, -5.46, -5.4759, -5.4919, -5.486, -5.4331, -5.5129, -4.9506, -4.9793, -5.3765, -5.4548, -3.3029, -4.0444, -4.0978, -4.1558, -4.2445, -4.3371, -4.5089, -4.4951, -4.6542, -4.7503, -4.8055, -4.934, -4.9224, -4.9654, -4.9849, -5.0049, -5.0444, -5.0523, -5.095, -4.9824, -5.0385, -5.078, -5.3068, -5.3311, -5.1436, -5.5141, -5.3232, -5.2879, -5.5801, -5.5653, -5.3459, -3.9777, -5.4683], \"loglift\": [30.0, 29.0, 28.0, 27.0, 26.0, 25.0, 24.0, 23.0, 22.0, 21.0, 20.0, 19.0, 18.0, 17.0, 16.0, 15.0, 14.0, 13.0, 12.0, 11.0, 10.0, 9.0, 8.0, 7.0, 6.0, 5.0, 4.0, 3.0, 2.0, 1.0, 0.6235, 0.6235, 0.6235, 0.6234, 0.6234, 0.6234, 0.6234, 0.6234, 0.6234, 0.6234, 0.6234, 0.6234, 0.6234, 0.6234, 0.6234, 0.6234, 0.6234, 0.6233, 0.6233, 0.6233, 0.6233, 0.6233, 0.6233, 0.6233, 0.6233, 0.6233, 0.6233, 0.6233, 0.6233, 0.6233, 0.6233, 1.7135, 1.7135, 1.7134, 1.7134, 1.7133, 1.7132, 1.7132, 1.7131, 1.713, 1.713, 1.713, 1.7129, 1.7129, 1.7129, 1.7129, 1.7129, 1.7129, 1.7128, 1.7128, 1.7127, 1.7127, 1.7127, 1.7127, 1.7127, 1.7127, 1.7126, 1.7126, 1.7126, 1.7126, 1.7126, 1.7126, 1.7126, 1.6104, 1.7647, 1.7647, 1.7647, 1.7647, 1.7646, 1.7646, 1.7646, 1.7646, 1.7646, 1.7644, 1.7644, 1.7642, 1.7642, 1.7642, 1.7642, 1.7641, 1.7641, 1.7641, 1.7641, 1.764, 1.764, 1.764, 1.7639, 1.7639, 1.7639, 1.7639, 1.7639, 1.7639, 1.7639, 1.7639, 1.7637, 1.7626, 1.7637, 1.7638, 2.1841, 2.1839, 2.1838, 2.1838, 2.1838, 2.1837, 2.1836, 2.1836, 2.1835, 2.1834, 2.1834, 2.1833, 2.1832, 2.1832, 2.1832, 2.1832, 2.1831, 2.1831, 2.1831, 2.1831, 2.183, 2.183, 2.1828, 2.1827, 2.1827, 2.1825, 2.1824, 2.1824, 2.1824, 2.1823, 2.182, 2.106, 2.1542]}, \"token.table\": {\"Topic\": [2, 4, 1, 4, 4, 1, 3, 4, 2, 4, 2, 4, 2, 3, 3, 4, 3, 2, 1, 4, 3, 2, 4, 1, 4, 2, 2, 3, 2, 2, 3, 3, 2, 4, 3, 4, 1, 1, 1, 1, 1, 4, 3, 2, 2, 3, 1, 2, 4, 4, 2, 2, 4, 3, 3, 2, 2, 2, 3, 1, 2, 3, 3, 4, 4, 3, 1, 3, 4, 1, 1, 4, 3, 1, 3, 4, 4, 3, 2, 4, 1, 2, 3, 4, 1, 2, 1, 2, 2, 3, 2, 1, 1, 4, 4, 3, 2, 4, 4, 1, 1, 2, 1, 1, 4, 2, 1, 1, 2, 3, 3, 4, 3, 3, 2, 2, 3, 3, 3, 3, 1, 2, 3, 4, 1, 2, 1, 1, 3, 1, 4, 1, 4, 1, 4, 1, 2, 1, 3, 1], \"Freq\": [0.9992792580619557, 0.9989806846815413, 0.9998463658894409, 0.9992855444474698, 0.9982238061898467, 0.9999576013318582, 0.9987974323663955, 0.9994243232301151, 0.9984173537857783, 0.9982161205063118, 0.9993332478642711, 0.9982335017173771, 0.9995673738666838, 0.999599837013203, 0.9996736430032855, 0.9996011144900122, 0.9990241867997998, 0.999769332522925, 0.9996269804240863, 0.9986729782359933, 0.999104125357596, 0.9995119985000206, 0.9992958954980632, 0.9997136084232698, 0.9988730477136463, 0.9996626685632183, 0.9995621121208803, 0.999245837138512, 0.9990696499917561, 0.9990360029344639, 0.9992498839305263, 0.9989976890414628, 0.9987665697452524, 0.9993682044464428, 0.9997246180746828, 0.9996146997174489, 0.999665349861682, 0.9998596337573241, 0.9997942481921116, 0.9998052684729525, 0.9998752999548335, 0.9998267044929215, 0.9993944816127075, 0.9991916102839565, 0.9986725905401711, 0.9988667893412166, 0.9998336156260633, 0.9996051595126157, 0.9986709891137614, 0.9989916203926251, 0.9989943510817175, 0.9987496024181658, 0.9991079223320521, 0.9982794387596841, 0.9984107917257398, 0.9988975760938856, 0.9996277151231013, 0.9995665212650879, 0.9996938418251154, 0.9998456490589872, 0.9996019445840064, 0.9990223718273042, 0.9996874419274573, 0.9985623082835985, 0.9989927621769945, 0.9994758602568922, 0.0008057413079098057, 0.9991192218081592, 0.998518725097369, 0.9996981912717966, 0.9997600880798747, 0.9983152932276604, 0.9997042419221751, 0.9998329237743778, 0.9988966899575714, 0.9979238239912257, 0.9972384434992332, 0.9997168684347674, 0.998451364727045, 0.9974505914388103, 0.01598469747926138, 0.005994261554723018, 0.00799234873963069, 0.9710703718651289, 0.9997833279631886, 0.999064774013053, 0.9998181098096202, 0.9984056388032861, 0.999102544770361, 0.9994224421885162, 0.9992065419344571, 0.9998160405197213, 0.07505190946990985, 0.9246395246692893, 0.9994448493524561, 0.9997872605106424, 0.9991483445941634, 0.9985429400115136, 0.9988528278597597, 0.9997711256386923, 0.9998419283236089, 0.9996378526954135, 0.999600024222844, 0.9996928040861214, 0.999547392453956, 0.9991709100487398, 0.9997673793251778, 0.09746978231606993, 0.9018963190851161, 0.9986957552113642, 0.9993705816869225, 0.9984098810028593, 0.9987023138833196, 0.9993528442608673, 0.9997668975125744, 0.9991723459395023, 0.9993687968077947, 0.999270997315787, 0.9996737281754451, 0.999888117961887, 0.0008282584933641097, 0.0008282584933641097, 0.9980514845037521, 0.0008282584933641097, 0.99988724338879, 0.9990033170004111, 0.9998845151857259, 0.9996374338304537, 0.9992645429965115, 0.9998870027774879, 0.9994167385968855, 0.9999258387894622, 0.9988458482910116, 0.9996495239477486, 0.9993455084701219, 0.9998007093747246, 0.9990569482006999, 0.9997818308413967, 0.9996545471087235, 0.9999164605014922], \"Term\": [\"ability\", \"aiart\", \"answer\", \"art\", \"artist\", \"ask\", \"assessment\", \"author\", \"automate\", \"beat\", \"bitcoin\", \"book\", \"break\", \"business\", \"change\", \"chat\", \"class\", \"code\", \"come\", \"community\", \"company\", \"content\", \"cool\", \"create\", \"dalle\", \"day\", \"design\", \"detailed\", \"developer\", \"digital\", \"document\", \"education\", \"essay\", \"follow\", \"future\", \"game\", \"generate\", \"get\", \"give\", \"go\", \"good\", \"gpt\", \"hack\", \"hand\", \"happen\", \"hear\", \"help\", \"human\", \"hypothetical\", \"image\", \"impact\", \"implication\", \"impressive\", \"industry\", \"innovation\", \"insane\", \"internet\", \"job\", \"join\", \"know\", \"language\", \"late\", \"learn\", \"less\", \"little\", \"live\", \"llm\", \"llm\", \"logic\", \"look\", \"m\", \"machine\", \"machinelearning\", \"make\", \"method\", \"mighty\", \"mine\", \"model\", \"move\", \"movie\", \"musictheory\", \"musictheory\", \"musictheory\", \"musictheory\", \"need\", \"never\", \"new\", \"opinion\", \"output\", \"paper\", \"pass\", \"people\", \"play\", \"play\", \"poem\", \"potential\", \"power\", \"produce\", \"project\", \"prompt\", \"question\", \"replace\", \"right\", \"say\", \"script\", \"second\", \"see\", \"seem\", \"seem\", \"software\", \"soon\", \"stablediffusion\", \"startup\", \"student\", \"take\", \"task\", \"teach\", \"team\", \"tech\", \"technology\", \"tedious\", \"tedious\", \"tedious\", \"tedious\", \"think\", \"thought\", \"time\", \"tool\", \"topic\", \"try\", \"tweet\", \"use\", \"video\", \"way\", \"web\", \"well\", \"word\", \"work\", \"world\", \"write\"]}, \"R\": 30, \"lambda.step\": 0.01, \"plot.opts\": {\"xlab\": \"PC1\", \"ylab\": \"PC2\"}, \"topic.order\": [1, 2, 4, 3]};\n",
              "\n",
              "function LDAvis_load_lib(url, callback){\n",
              "  var s = document.createElement('script');\n",
              "  s.src = url;\n",
              "  s.async = true;\n",
              "  s.onreadystatechange = s.onload = callback;\n",
              "  s.onerror = function(){console.warn(\"failed to load library \" + url);};\n",
              "  document.getElementsByTagName(\"head\")[0].appendChild(s);\n",
              "}\n",
              "\n",
              "if(typeof(LDAvis) !== \"undefined\"){\n",
              "   // already loaded: just create the visualization\n",
              "   !function(LDAvis){\n",
              "       new LDAvis(\"#\" + \"ldavis_el1141396370222717449714732011\", ldavis_el1141396370222717449714732011_data);\n",
              "   }(LDAvis);\n",
              "}else if(typeof define === \"function\" && define.amd){\n",
              "   // require.js is available: use it to load d3/LDAvis\n",
              "   require.config({paths: {d3: \"https://d3js.org/d3.v5\"}});\n",
              "   require([\"d3\"], function(d3){\n",
              "      window.d3 = d3;\n",
              "      LDAvis_load_lib(\"https://cdn.jsdelivr.net/gh/bmabey/pyLDAvis@3.4.0/pyLDAvis/js/ldavis.v3.0.0.js\", function(){\n",
              "        new LDAvis(\"#\" + \"ldavis_el1141396370222717449714732011\", ldavis_el1141396370222717449714732011_data);\n",
              "      });\n",
              "    });\n",
              "}else{\n",
              "    // require.js not available: dynamically load d3 & LDAvis\n",
              "    LDAvis_load_lib(\"https://d3js.org/d3.v5.js\", function(){\n",
              "         LDAvis_load_lib(\"https://cdn.jsdelivr.net/gh/bmabey/pyLDAvis@3.4.0/pyLDAvis/js/ldavis.v3.0.0.js\", function(){\n",
              "                 new LDAvis(\"#\" + \"ldavis_el1141396370222717449714732011\", ldavis_el1141396370222717449714732011_data);\n",
              "            })\n",
              "         });\n",
              "}\n",
              "</script>"
            ]
          },
          "metadata": {},
          "execution_count": 14
        }
      ]
    },
    {
      "cell_type": "code",
      "source": [
        " # Compute Perplexity\n",
        "print('\\nPerplexity: ', lda_model.log_perplexity(corpus))  # a measure of how good the model is. lower the better.\n",
        "# Compute Coherence Score\n",
        "coherence_model_lda = CoherenceModel(model=lda_model, texts=data_lemmatized, dictionary=id2word, coherence='c_v')\n",
        "coherence_lda = coherence_model_lda.get_coherence()\n",
        "print('\\nCoherence Score: ', coherence_lda)"
      ],
      "metadata": {
        "colab": {
          "base_uri": "https://localhost:8080/"
        },
        "id": "PQWqTHW_ve4n",
        "outputId": "7cc1bd7e-44a3-4abf-f6a0-4f3a68d64395"
      },
      "execution_count": 15,
      "outputs": [
        {
          "output_type": "stream",
          "name": "stdout",
          "text": [
            "\n",
            "Perplexity:  -8.4115748027862\n",
            "\n",
            "Coherence Score:  0.25148143101735193\n"
          ]
        }
      ]
    },
    {
      "cell_type": "code",
      "source": [
        "pyLDAvis.save_html(vis, 'lda_model_vis.html')"
      ],
      "metadata": {
        "id": "cn34A0LmxeOo"
      },
      "execution_count": 16,
      "outputs": []
    },
    {
      "cell_type": "markdown",
      "source": [
        "# 统计不同主题下的推文数量"
      ],
      "metadata": {
        "id": "GW-c7Aw7-TJ3"
      }
    },
    {
      "cell_type": "code",
      "source": [
        "pip install pyecharts\n"
      ],
      "metadata": {
        "colab": {
          "base_uri": "https://localhost:8080/"
        },
        "id": "MD022mKEdXzp",
        "outputId": "ea06c5d2-e8a6-431d-e0d4-29b4edc903ff"
      },
      "execution_count": 17,
      "outputs": [
        {
          "output_type": "stream",
          "name": "stdout",
          "text": [
            "Looking in indexes: https://pypi.org/simple, https://us-python.pkg.dev/colab-wheels/public/simple/\n",
            "Collecting pyecharts\n",
            "  Downloading pyecharts-2.0.2-py3-none-any.whl (146 kB)\n",
            "\u001b[2K     \u001b[90m━━━━━━━━━━━━━━━━━━━━━━━━━━━━━━━━━━━━━━━\u001b[0m \u001b[32m146.1/146.1 KB\u001b[0m \u001b[31m4.5 MB/s\u001b[0m eta \u001b[36m0:00:00\u001b[0m\n",
            "\u001b[?25hCollecting simplejson\n",
            "  Downloading simplejson-3.18.3-cp39-cp39-manylinux_2_5_x86_64.manylinux1_x86_64.manylinux_2_17_x86_64.manylinux2014_x86_64.whl (136 kB)\n",
            "\u001b[2K     \u001b[90m━━━━━━━━━━━━━━━━━━━━━━━━━━━━━━━━━━━━━━━\u001b[0m \u001b[32m136.8/136.8 KB\u001b[0m \u001b[31m9.1 MB/s\u001b[0m eta \u001b[36m0:00:00\u001b[0m\n",
            "\u001b[?25hRequirement already satisfied: prettytable in /usr/local/lib/python3.9/dist-packages (from pyecharts) (3.6.0)\n",
            "Requirement already satisfied: jinja2 in /usr/local/lib/python3.9/dist-packages (from pyecharts) (3.1.2)\n",
            "Requirement already satisfied: MarkupSafe>=2.0 in /usr/local/lib/python3.9/dist-packages (from jinja2->pyecharts) (2.1.2)\n",
            "Requirement already satisfied: wcwidth in /usr/local/lib/python3.9/dist-packages (from prettytable->pyecharts) (0.2.6)\n",
            "Installing collected packages: simplejson, pyecharts\n",
            "Successfully installed pyecharts-2.0.2 simplejson-3.18.3\n"
          ]
        }
      ]
    },
    {
      "cell_type": "code",
      "source": [
        "pip install pyecharts_snapshot"
      ],
      "metadata": {
        "colab": {
          "base_uri": "https://localhost:8080/"
        },
        "id": "zxzagxGdhrBg",
        "outputId": "f266c4ce-34d3-4558-cff0-8acc02902313"
      },
      "execution_count": 18,
      "outputs": [
        {
          "output_type": "stream",
          "name": "stdout",
          "text": [
            "Looking in indexes: https://pypi.org/simple, https://us-python.pkg.dev/colab-wheels/public/simple/\n",
            "Collecting pyecharts_snapshot\n",
            "  Downloading pyecharts_snapshot-0.2.0-py2.py3-none-any.whl (7.4 kB)\n",
            "Requirement already satisfied: pillow in /usr/local/lib/python3.9/dist-packages (from pyecharts_snapshot) (8.4.0)\n",
            "Collecting pyppeteer>=0.0.25\n",
            "  Downloading pyppeteer-1.0.2-py3-none-any.whl (83 kB)\n",
            "\u001b[2K     \u001b[90m━━━━━━━━━━━━━━━━━━━━━━━━━━━━━━━━━━━━━━━━\u001b[0m \u001b[32m83.4/83.4 KB\u001b[0m \u001b[31m3.6 MB/s\u001b[0m eta \u001b[36m0:00:00\u001b[0m\n",
            "\u001b[?25hRequirement already satisfied: urllib3<2.0.0,>=1.25.8 in /usr/local/lib/python3.9/dist-packages (from pyppeteer>=0.0.25->pyecharts_snapshot) (1.26.14)\n",
            "Collecting pyee<9.0.0,>=8.1.0\n",
            "  Downloading pyee-8.2.2-py2.py3-none-any.whl (12 kB)\n",
            "Requirement already satisfied: certifi>=2021 in /usr/local/lib/python3.9/dist-packages (from pyppeteer>=0.0.25->pyecharts_snapshot) (2022.12.7)\n",
            "Requirement already satisfied: importlib-metadata>=1.4 in /usr/local/lib/python3.9/dist-packages (from pyppeteer>=0.0.25->pyecharts_snapshot) (6.0.0)\n",
            "Requirement already satisfied: tqdm<5.0.0,>=4.42.1 in /usr/local/lib/python3.9/dist-packages (from pyppeteer>=0.0.25->pyecharts_snapshot) (4.65.0)\n",
            "Collecting websockets<11.0,>=10.0\n",
            "  Downloading websockets-10.4-cp39-cp39-manylinux_2_5_x86_64.manylinux1_x86_64.manylinux_2_17_x86_64.manylinux2014_x86_64.whl (106 kB)\n",
            "\u001b[2K     \u001b[90m━━━━━━━━━━━━━━━━━━━━━━━━━━━━━━━━━━━━━━━\u001b[0m \u001b[32m106.5/106.5 KB\u001b[0m \u001b[31m6.5 MB/s\u001b[0m eta \u001b[36m0:00:00\u001b[0m\n",
            "\u001b[?25hCollecting appdirs<2.0.0,>=1.4.3\n",
            "  Downloading appdirs-1.4.4-py2.py3-none-any.whl (9.6 kB)\n",
            "Requirement already satisfied: zipp>=0.5 in /usr/local/lib/python3.9/dist-packages (from importlib-metadata>=1.4->pyppeteer>=0.0.25->pyecharts_snapshot) (3.15.0)\n",
            "Installing collected packages: pyee, appdirs, websockets, pyppeteer, pyecharts_snapshot\n",
            "Successfully installed appdirs-1.4.4 pyecharts_snapshot-0.2.0 pyee-8.2.2 pyppeteer-1.0.2 websockets-10.4\n"
          ]
        }
      ]
    },
    {
      "cell_type": "code",
      "source": [
        "topic_count = []\n",
        "for i in range(4):\n",
        "    topic_docs = lda_model.get_document_topics(corpus)\n",
        "    count = 0\n",
        "    for doc in topic_docs:\n",
        "        if doc[i][1] > 0.1:\n",
        "            count += 1\n",
        "    topic_count.append(count)\n",
        "print(topic_count)\n"
      ],
      "metadata": {
        "colab": {
          "base_uri": "https://localhost:8080/"
        },
        "id": "7pHXHLpue8yu",
        "outputId": "a9dc3521-bbb1-44fc-8ef3-dea618f69643"
      },
      "execution_count": 19,
      "outputs": [
        {
          "output_type": "stream",
          "name": "stdout",
          "text": [
            "[117021, 113803, 55768, 109127]\n"
          ]
        }
      ]
    },
    {
      "cell_type": "code",
      "source": [
        "from pyecharts import options as opts\n",
        "from pyecharts.charts import Bar\n",
        "\n",
        "bar = (\n",
        "    Bar()\n",
        "    .add_xaxis([\"Topic 1\", \"Topic 2\", \"Topic 3\", \"Topic 4\"])\n",
        "    .add_yaxis(\"Count\", topic_count)\n",
        "    .set_global_opts(title_opts=opts.TitleOpts(title=\"Topic Count\"))\n",
        ")\n",
        "\n",
        "bar.render(\"topic_count_bar_chart.html\")\n",
        "bar.render_notebook()"
      ],
      "metadata": {
        "colab": {
          "base_uri": "https://localhost:8080/",
          "height": 517
        },
        "id": "wCdJoAsHh7K6",
        "outputId": "8b48ca37-ec66-43bf-8fd2-25dcf7dd3f1b"
      },
      "execution_count": 20,
      "outputs": [
        {
          "output_type": "execute_result",
          "data": {
            "text/plain": [
              "<pyecharts.render.display.HTML at 0x7efebdf9d7c0>"
            ],
            "text/html": [
              "\n",
              "<script>\n",
              "    require.config({\n",
              "        paths: {\n",
              "            'echarts':'https://assets.pyecharts.org/assets/v5/echarts.min'\n",
              "        }\n",
              "    });\n",
              "</script>\n",
              "\n",
              "        <div id=\"b26827b75ab7447a8683efd01b6dd3f1\" style=\"width:900px; height:500px;\"></div>\n",
              "\n",
              "<script>\n",
              "        require(['echarts'], function(echarts) {\n",
              "                var chart_b26827b75ab7447a8683efd01b6dd3f1 = echarts.init(\n",
              "                    document.getElementById('b26827b75ab7447a8683efd01b6dd3f1'), 'white', {renderer: 'canvas'});\n",
              "                var option_b26827b75ab7447a8683efd01b6dd3f1 = {\n",
              "    \"animation\": true,\n",
              "    \"animationThreshold\": 2000,\n",
              "    \"animationDuration\": 1000,\n",
              "    \"animationEasing\": \"cubicOut\",\n",
              "    \"animationDelay\": 0,\n",
              "    \"animationDurationUpdate\": 300,\n",
              "    \"animationEasingUpdate\": \"cubicOut\",\n",
              "    \"animationDelayUpdate\": 0,\n",
              "    \"aria\": {\n",
              "        \"enabled\": false\n",
              "    },\n",
              "    \"color\": [\n",
              "        \"#5470c6\",\n",
              "        \"#91cc75\",\n",
              "        \"#fac858\",\n",
              "        \"#ee6666\",\n",
              "        \"#73c0de\",\n",
              "        \"#3ba272\",\n",
              "        \"#fc8452\",\n",
              "        \"#9a60b4\",\n",
              "        \"#ea7ccc\"\n",
              "    ],\n",
              "    \"series\": [\n",
              "        {\n",
              "            \"type\": \"bar\",\n",
              "            \"name\": \"Count\",\n",
              "            \"legendHoverLink\": true,\n",
              "            \"data\": [\n",
              "                117021,\n",
              "                113803,\n",
              "                55768,\n",
              "                109127\n",
              "            ],\n",
              "            \"realtimeSort\": false,\n",
              "            \"showBackground\": false,\n",
              "            \"stackStrategy\": \"samesign\",\n",
              "            \"cursor\": \"pointer\",\n",
              "            \"barMinHeight\": 0,\n",
              "            \"barCategoryGap\": \"20%\",\n",
              "            \"barGap\": \"30%\",\n",
              "            \"large\": false,\n",
              "            \"largeThreshold\": 400,\n",
              "            \"seriesLayoutBy\": \"column\",\n",
              "            \"datasetIndex\": 0,\n",
              "            \"clip\": true,\n",
              "            \"zlevel\": 0,\n",
              "            \"z\": 2,\n",
              "            \"label\": {\n",
              "                \"show\": true,\n",
              "                \"margin\": 8\n",
              "            }\n",
              "        }\n",
              "    ],\n",
              "    \"legend\": [\n",
              "        {\n",
              "            \"data\": [\n",
              "                \"Count\"\n",
              "            ],\n",
              "            \"selected\": {\n",
              "                \"Count\": true\n",
              "            },\n",
              "            \"show\": true,\n",
              "            \"padding\": 5,\n",
              "            \"itemGap\": 10,\n",
              "            \"itemWidth\": 25,\n",
              "            \"itemHeight\": 14,\n",
              "            \"backgroundColor\": \"transparent\",\n",
              "            \"borderColor\": \"#ccc\",\n",
              "            \"borderWidth\": 1,\n",
              "            \"borderRadius\": 0,\n",
              "            \"pageButtonItemGap\": 5,\n",
              "            \"pageButtonPosition\": \"end\",\n",
              "            \"pageFormatter\": \"{current}/{total}\",\n",
              "            \"pageIconColor\": \"#2f4554\",\n",
              "            \"pageIconInactiveColor\": \"#aaa\",\n",
              "            \"pageIconSize\": 15,\n",
              "            \"animationDurationUpdate\": 800,\n",
              "            \"selector\": false,\n",
              "            \"selectorPosition\": \"auto\",\n",
              "            \"selectorItemGap\": 7,\n",
              "            \"selectorButtonGap\": 10\n",
              "        }\n",
              "    ],\n",
              "    \"tooltip\": {\n",
              "        \"show\": true,\n",
              "        \"trigger\": \"item\",\n",
              "        \"triggerOn\": \"mousemove|click\",\n",
              "        \"axisPointer\": {\n",
              "            \"type\": \"line\"\n",
              "        },\n",
              "        \"showContent\": true,\n",
              "        \"alwaysShowContent\": false,\n",
              "        \"showDelay\": 0,\n",
              "        \"hideDelay\": 100,\n",
              "        \"enterable\": false,\n",
              "        \"confine\": false,\n",
              "        \"appendToBody\": false,\n",
              "        \"transitionDuration\": 0.4,\n",
              "        \"textStyle\": {\n",
              "            \"fontSize\": 14\n",
              "        },\n",
              "        \"borderWidth\": 0,\n",
              "        \"padding\": 5,\n",
              "        \"order\": \"seriesAsc\"\n",
              "    },\n",
              "    \"xAxis\": [\n",
              "        {\n",
              "            \"show\": true,\n",
              "            \"scale\": false,\n",
              "            \"nameLocation\": \"end\",\n",
              "            \"nameGap\": 15,\n",
              "            \"gridIndex\": 0,\n",
              "            \"inverse\": false,\n",
              "            \"offset\": 0,\n",
              "            \"splitNumber\": 5,\n",
              "            \"minInterval\": 0,\n",
              "            \"splitLine\": {\n",
              "                \"show\": true,\n",
              "                \"lineStyle\": {\n",
              "                    \"show\": true,\n",
              "                    \"width\": 1,\n",
              "                    \"opacity\": 1,\n",
              "                    \"curveness\": 0,\n",
              "                    \"type\": \"solid\"\n",
              "                }\n",
              "            },\n",
              "            \"data\": [\n",
              "                \"Topic 1\",\n",
              "                \"Topic 2\",\n",
              "                \"Topic 3\",\n",
              "                \"Topic 4\",\n",
              "                \"Topic 5\",\n",
              "                \"Topic 6\",\n",
              "                \"Topic 7\",\n",
              "                \"Topic 8\"\n",
              "            ]\n",
              "        }\n",
              "    ],\n",
              "    \"yAxis\": [\n",
              "        {\n",
              "            \"show\": true,\n",
              "            \"scale\": false,\n",
              "            \"nameLocation\": \"end\",\n",
              "            \"nameGap\": 15,\n",
              "            \"gridIndex\": 0,\n",
              "            \"inverse\": false,\n",
              "            \"offset\": 0,\n",
              "            \"splitNumber\": 5,\n",
              "            \"minInterval\": 0,\n",
              "            \"splitLine\": {\n",
              "                \"show\": true,\n",
              "                \"lineStyle\": {\n",
              "                    \"show\": true,\n",
              "                    \"width\": 1,\n",
              "                    \"opacity\": 1,\n",
              "                    \"curveness\": 0,\n",
              "                    \"type\": \"solid\"\n",
              "                }\n",
              "            }\n",
              "        }\n",
              "    ],\n",
              "    \"title\": [\n",
              "        {\n",
              "            \"show\": true,\n",
              "            \"text\": \"Topic Count\",\n",
              "            \"target\": \"blank\",\n",
              "            \"subtarget\": \"blank\",\n",
              "            \"padding\": 5,\n",
              "            \"itemGap\": 10,\n",
              "            \"textAlign\": \"auto\",\n",
              "            \"textVerticalAlign\": \"auto\",\n",
              "            \"triggerEvent\": false\n",
              "        }\n",
              "    ]\n",
              "};\n",
              "                chart_b26827b75ab7447a8683efd01b6dd3f1.setOption(option_b26827b75ab7447a8683efd01b6dd3f1);\n",
              "        });\n",
              "    </script>\n"
            ]
          },
          "metadata": {},
          "execution_count": 20
        }
      ]
    },
    {
      "cell_type": "code",
      "source": [
        "from textblob import TextBlob\n",
        "\n",
        "topic_sentiments = []\n",
        "for i in range(4):\n",
        "    topic_docs = lda_model.get_document_topics(corpus)\n",
        "    doc_scores = []\n",
        "    for j, doc in enumerate(topic_docs):\n",
        "        if doc[i][1] > 0.1:\n",
        "            doc_scores.append((j, doc[i][0], doc[i][1]))\n",
        "    doc_scores = sorted(doc_scores, key=lambda x: x[2], reverse=True)[:100]\n",
        "    sentiments = {\"positive\": 0, \"neutral\": 0, \"negative\": 0}\n",
        "    for doc_score in doc_scores:\n",
        "        text = texts[doc_score[0]]\n",
        "        text_str = \" \".join(text)\n",
        "        blob = TextBlob(text_str)\n",
        "        sentiment = blob.sentiment.polarity\n",
        "        if sentiment > 0:\n",
        "            sentiments[\"positive\"] += 1\n",
        "        elif sentiment == 0:\n",
        "            sentiments[\"neutral\"] += 1\n",
        "        else:\n",
        "            sentiments[\"negative\"] += 1\n",
        "    topic_sentiments.append(sentiments)\n",
        "print(topic_sentiments)\n"
      ],
      "metadata": {
        "colab": {
          "base_uri": "https://localhost:8080/"
        },
        "id": "w63PJsw2kajC",
        "outputId": "2b4070a4-d714-4ab0-ed9a-b34683a9d96e"
      },
      "execution_count": 24,
      "outputs": [
        {
          "output_type": "stream",
          "name": "stdout",
          "text": [
            "[{'positive': 72, 'neutral': 5, 'negative': 23}, {'positive': 41, 'neutral': 49, 'negative': 10}, {'positive': 8, 'neutral': 34, 'negative': 58}, {'positive': 27, 'neutral': 70, 'negative': 3}]\n"
          ]
        }
      ]
    },
    {
      "cell_type": "code",
      "source": [
        "y_data=[[72,5,23],[41,49,10],[8,34,58],[27,70,3]]"
      ],
      "metadata": {
        "colab": {
          "base_uri": "https://localhost:8080/",
          "height": 238
        },
        "id": "57fsvCHvm16z",
        "outputId": "55dd11c4-f1e3-45c0-8788-4c748eadcf6d"
      },
      "execution_count": 27,
      "outputs": [
        {
          "output_type": "stream",
          "name": "stderr",
          "text": [
            "<>:1: SyntaxWarning: list indices must be integers or slices, not tuple; perhaps you missed a comma?\n",
            "<>:1: SyntaxWarning: list indices must be integers or slices, not tuple; perhaps you missed a comma?\n",
            "<ipython-input-27-77e42a2b453d>:1: SyntaxWarning: list indices must be integers or slices, not tuple; perhaps you missed a comma?\n",
            "  y_data=[[72,5,23] [41,49,10] [8,34,58] [27,70,3]]\n"
          ]
        },
        {
          "output_type": "error",
          "ename": "TypeError",
          "evalue": "ignored",
          "traceback": [
            "\u001b[0;31m---------------------------------------------------------------------------\u001b[0m",
            "\u001b[0;31mTypeError\u001b[0m                                 Traceback (most recent call last)",
            "\u001b[0;32m<ipython-input-27-77e42a2b453d>\u001b[0m in \u001b[0;36m<module>\u001b[0;34m\u001b[0m\n\u001b[0;32m----> 1\u001b[0;31m \u001b[0my_data\u001b[0m\u001b[0;34m=\u001b[0m\u001b[0;34m[\u001b[0m\u001b[0;34m[\u001b[0m\u001b[0;36m72\u001b[0m\u001b[0;34m,\u001b[0m\u001b[0;36m5\u001b[0m\u001b[0;34m,\u001b[0m\u001b[0;36m23\u001b[0m\u001b[0;34m]\u001b[0m \u001b[0;34m[\u001b[0m\u001b[0;36m41\u001b[0m\u001b[0;34m,\u001b[0m\u001b[0;36m49\u001b[0m\u001b[0;34m,\u001b[0m\u001b[0;36m10\u001b[0m\u001b[0;34m]\u001b[0m \u001b[0;34m[\u001b[0m\u001b[0;36m8\u001b[0m\u001b[0;34m,\u001b[0m\u001b[0;36m34\u001b[0m\u001b[0;34m,\u001b[0m\u001b[0;36m58\u001b[0m\u001b[0;34m]\u001b[0m \u001b[0;34m[\u001b[0m\u001b[0;36m27\u001b[0m\u001b[0;34m,\u001b[0m\u001b[0;36m70\u001b[0m\u001b[0;34m,\u001b[0m\u001b[0;36m3\u001b[0m\u001b[0;34m]\u001b[0m\u001b[0;34m]\u001b[0m\u001b[0;34m\u001b[0m\u001b[0;34m\u001b[0m\u001b[0m\n\u001b[0m",
            "\u001b[0;31mTypeError\u001b[0m: list indices must be integers or slices, not tuple"
          ]
        }
      ]
    },
    {
      "cell_type": "code",
      "source": [
        "y_data"
      ],
      "metadata": {
        "colab": {
          "base_uri": "https://localhost:8080/"
        },
        "id": "dmc0laJe5Rh2",
        "outputId": "43fc5945-b633-4572-8ec6-830a64bbba0e"
      },
      "execution_count": 28,
      "outputs": [
        {
          "output_type": "execute_result",
          "data": {
            "text/plain": [
              "[[72, 5, 23], [41, 49, 10], [8, 34, 58], [27, 70, 3]]"
            ]
          },
          "metadata": {},
          "execution_count": 28
        }
      ]
    },
    {
      "cell_type": "markdown",
      "source": [
        "# 不同主题下的情感分析"
      ],
      "metadata": {
        "id": "b6drODvCtOZG"
      }
    },
    {
      "cell_type": "code",
      "source": [
        "import matplotlib.pyplot as plt\n",
        "import numpy as np\n",
        "\n",
        "# 设置数据\n",
        "y_data = np.array(y_data)\n",
        "x_data = range(len(y_data))\n",
        "\n",
        "# 绘制堆叠柱状图\n",
        "fig, ax = plt.subplots()\n",
        "colors = ['green', 'orange', 'red']\n",
        "labels = ['Positive', 'Neutral', 'Negative']\n",
        "bottom = np.zeros(len(y_data))\n",
        "for i in range(3):\n",
        "    ax.bar(x_data, y_data[:, i], color=colors[i], label=labels[i], bottom=bottom)\n",
        "    bottom += y_data[:, i]\n",
        "ax.set_xticks(x_data)\n",
        "ax.set_xticklabels([f'Topic {i}' for i in range(1, len(x_data)+1)])\n",
        "ax.set_xlabel('Topic')\n",
        "ax.set_ylabel('Percentage')\n",
        "ax.legend()\n",
        "plt.show()\n"
      ],
      "metadata": {
        "colab": {
          "base_uri": "https://localhost:8080/",
          "height": 279
        },
        "id": "ZMxCIsxsoOAU",
        "outputId": "b1c02b52-2510-4225-c0c7-d659b4413537"
      },
      "execution_count": 29,
      "outputs": [
        {
          "output_type": "display_data",
          "data": {
            "text/plain": [
              "<Figure size 432x288 with 1 Axes>"
            ],
            "image/png": "[encoded data removed]"
          },
          "metadata": {
            "needs_background": "light"
          }
        }
      ]
    },
    {
      "cell_type": "code",
      "source": [
        "plt.savefig('stacked_bar.png')"
      ],
      "metadata": {
        "colab": {
          "base_uri": "https://localhost:8080/",
          "height": 34
        },
        "id": "VI94jX5fqz05",
        "outputId": "d98af078-ffec-4508-ea91-0cc652e16db6"
      },
      "execution_count": 30,
      "outputs": [
        {
          "output_type": "display_data",
          "data": {
            "text/plain": [
              "<Figure size 432x288 with 0 Axes>"
            ]
          },
          "metadata": {}
        }
      ]
    },
    {
      "cell_type": "markdown",
      "source": [
        "# 看下6个主题的效果"
      ],
      "metadata": {
        "id": "6OUxdDi16NZz"
      }
    },
    {
      "cell_type": "code",
      "source": [
        "# Build LDA model\n",
        "lda_model_6 = gensim.models.ldamodel.LdaModel(corpus=corpus,\n",
        "                                           id2word=id2word,\n",
        "                                            num_topics=6, \n",
        "                                           random_state=100,\n",
        "                                           update_every=1,\n",
        "                                           chunksize=1000,\n",
        "                                           passes=10,\n",
        "                                          alpha='auto',\n",
        "                                           per_word_topics=True)"
      ],
      "metadata": {
        "id": "sfOJhtxV6GjW"
      },
      "execution_count": 31,
      "outputs": []
    },
    {
      "cell_type": "code",
      "source": [
        "# Print the Keyword in the 10 topics\n",
        "print(lda_model_6.print_topics())\n",
        "doc_lda_6 = lda_model_6[corpus]"
      ],
      "metadata": {
        "colab": {
          "base_uri": "https://localhost:8080/"
        },
        "id": "al5cEBf86YzT",
        "outputId": "51386dd4-d267-4496-a40e-77a88f74767c"
      },
      "execution_count": 32,
      "outputs": [
        {
          "output_type": "stream",
          "name": "stdout",
          "text": [
            "[(0, '0.053*\"ask\" + 0.035*\"get\" + 0.032*\"make\" + 0.027*\"answer\" + 0.024*\"question\" + 0.023*\"try\" + 0.022*\"go\" + 0.020*\"time\" + 0.018*\"give\" + 0.018*\"well\"'), (1, '0.038*\"take\" + 0.029*\"people\" + 0.019*\"job\" + 0.017*\"replace\" + 0.016*\"year\" + 0.015*\"pretty\" + 0.012*\"user\" + 0.011*\"long\" + 0.010*\"able\" + 0.009*\"tedious\"'), (2, '0.054*\"gpt\" + 0.028*\"search\" + 0.026*\"chat\" + 0.012*\"wait\" + 0.011*\"do\" + 0.011*\"lol\" + 0.011*\"soon\" + 0.010*\"meet\" + 0.010*\"current\" + 0.010*\"little\"'), (3, '0.029*\"play\" + 0.024*\"tweet\" + 0.021*\"hour\" + 0.016*\"game\" + 0.016*\"finally\" + 0.016*\"awesome\" + 0.014*\"break\" + 0.010*\"difference\" + 0.009*\"admit\" + 0.009*\"hack\"'), (4, '0.038*\"use\" + 0.033*\"write\" + 0.019*\"good\" + 0.019*\"new\" + 0.017*\"know\" + 0.016*\"think\" + 0.015*\"see\" + 0.014*\"code\" + 0.014*\"work\" + 0.014*\"create\"'), (5, '0.020*\"human\" + 0.018*\"future\" + 0.017*\"technology\" + 0.014*\"world\" + 0.013*\"potential\" + 0.013*\"research\" + 0.012*\"love\" + 0.012*\"change\" + 0.012*\"art\" + 0.012*\"model\"')]\n"
          ]
        }
      ]
    },
    {
      "cell_type": "code",
      "source": [
        "# Visualize the topics\n",
        "pyLDAvis.enable_notebook()\n",
        "vis_6 = pyLDAvis.gensim.prepare(lda_model_6, corpus, id2word)\n",
        "vis_6\n"
      ],
      "metadata": {
        "colab": {
          "base_uri": "https://localhost:8080/",
          "height": 915
        },
        "id": "ikQGltzO6aJx",
        "outputId": "802c4766-0d0a-4ba5-a095-f5b2a78839c6"
      },
      "execution_count": 34,
      "outputs": [
        {
          "output_type": "stream",
          "name": "stderr",
          "text": [
            "/usr/local/lib/python3.9/dist-packages/pyLDAvis/_prepare.py:243: FutureWarning: In a future version of pandas all arguments of DataFrame.drop except for the argument 'labels' will be keyword-only\n",
            "  default_term_info = default_term_info.sort_values(\n"
          ]
        },
        {
          "output_type": "execute_result",
          "data": {
            "text/plain": [
              "PreparedData(topic_coordinates=              x         y  topics  cluster       Freq\n",
              "topic                                                \n",
              "4     -0.416609  0.073926       1        1  33.981784\n",
              "0      0.008830 -0.411496       2        1  22.118103\n",
              "5      0.100530  0.093728       3        1  16.273441\n",
              "1      0.104882  0.090982       4        1  11.369352\n",
              "2      0.099951  0.076392       5        1   8.369050\n",
              "3      0.102417  0.076467       6        1   7.888271, topic_info=          Term          Freq         Total Category  logprob  loglift\n",
              "35         ask  12013.000000  12013.000000  Default  30.0000  30.0000\n",
              "65         use  13248.000000  13248.000000  Default  29.0000  29.0000\n",
              "186      write  11454.000000  11454.000000  Default  28.0000  28.0000\n",
              "581        get   7933.000000   7933.000000  Default  27.0000  27.0000\n",
              "72         gpt   4619.000000   4619.000000  Default  26.0000  26.0000\n",
              "...        ...           ...           ...      ...      ...      ...\n",
              "1488     ready    453.747135    454.620394   Topic6  -5.1807   2.5379\n",
              "2204    advice    419.431932    420.305962   Topic6  -5.2594   2.5377\n",
              "2907      blow    419.566848    420.442111   Topic6  -5.2590   2.5377\n",
              "1321   support    402.916372    403.790245   Topic6  -5.2995   2.5376\n",
              "2966  complete    401.229572    402.103341   Topic6  -5.3037   2.5376\n",
              "\n",
              "[217 rows x 6 columns], token_table=      Topic      Freq    Term\n",
              "term                         \n",
              "434       4  0.999225    able\n",
              "1302      6  0.998843   admit\n",
              "2204      6  0.996893  advice\n",
              "1800      5  0.999082   agree\n",
              "696       5  0.999326   aiart\n",
              "...     ...       ...     ...\n",
              "652       3  0.999513   world\n",
              "186       1  0.999916   write\n",
              "701       4  0.999001  writer\n",
              "1247      2  0.999508   wrong\n",
              "1146      4  0.999431    year\n",
              "\n",
              "[191 rows x 3 columns], R=30, lambda_step=0.01, plot_opts={'xlab': 'PC1', 'ylab': 'PC2'}, topic_order=[5, 1, 6, 2, 3, 4])"
            ],
            "text/html": [
              "\n",
              "<link rel=\"stylesheet\" type=\"text/css\" href=\"https://cdn.jsdelivr.net/gh/bmabey/pyLDAvis@3.4.0/pyLDAvis/js/ldavis.v1.0.0.css\">\n",
              "\n",
              "\n",
              "<div id=\"ldavis_el114139632547364080633001554\" style=\"background-color:white;\"></div>\n",
              "<script type=\"text/javascript\">\n",
              "\n",
              "var ldavis_el114139632547364080633001554_data = {\"mdsDat\": {\"x\": [-0.41660869099705417, 0.008830106835671031, 0.1005295284218947, 0.10488188017199024, 0.09995053942935792, 0.1024166361381402], \"y\": [0.07392603079383611, -0.41149570596908036, 0.09372833667714203, 0.09098209214565948, 0.0763920651377415, 0.07646718121470164], \"topics\": [1, 2, 3, 4, 5, 6], \"cluster\": [1, 1, 1, 1, 1, 1], \"Freq\": [33.98178360238367, 22.11810304079048, 16.273441044425315, 11.369351884287594, 8.369049674466963, 7.888270753645981]}, \"tinfo\": {\"Term\": [\"ask\", \"use\", \"write\", \"get\", \"gpt\", \"make\", \"take\", \"answer\", \"question\", \"try\", \"go\", \"people\", \"good\", \"new\", \"time\", \"know\", \"give\", \"well\", \"human\", \"m\", \"play\", \"think\", \"search\", \"see\", \"chat\", \"code\", \"future\", \"technology\", \"work\", \"create\", \"use\", \"write\", \"good\", \"new\", \"know\", \"think\", \"see\", \"code\", \"work\", \"create\", \"generate\", \"way\", \"come\", \"prompt\", \"need\", \"help\", \"tool\", \"day\", \"great\", \"ve\", \"thread\", \"want\", \"talk\", \"tell\", \"story\", \"learn\", \"show\", \"explain\", \"many\", \"amazing\", \"also\", \"look\", \"still\", \"ask\", \"get\", \"make\", \"answer\", \"question\", \"try\", \"go\", \"time\", \"give\", \"well\", \"m\", \"say\", \"right\", \"even\", \"find\", \"first\", \"s\", \"really\", \"much\", \"response\", \"result\", \"guess\", \"lot\", \"here\", \"example\", \"fun\", \"wonder\", \"challenge\", \"wrong\", \"bad\", \"let\", \"human\", \"future\", \"technology\", \"world\", \"potential\", \"research\", \"love\", \"change\", \"art\", \"model\", \"conversation\", \"web\", \"tech\", \"digital\", \"datum\", \"twitter\", \"become\", \"internet\", \"real\", \"machinelearning\", \"language\", \"build\", \"creation\", \"business\", \"impact\", \"life\", \"llm\", \"big\", \"never\", \"power\", \"join\", \"take\", \"people\", \"job\", \"replace\", \"year\", \"pretty\", \"user\", \"long\", \"able\", \"output\", \"insane\", \"happen\", \"product\", \"state\", \"matter\", \"solve\", \"less\", \"tedious\", \"company\", \"control\", \"method\", \"hard\", \"critical\", \"sound\", \"marketing\", \"writer\", \"skill\", \"type\", \"stackoverflow\", \"crazy\", \"pose\", \"gpt\", \"search\", \"chat\", \"wait\", \"do\", \"lol\", \"soon\", \"meet\", \"little\", \"current\", \"imagine\", \"version\", \"incredible\", \"logic\", \"believe\", \"refer\", \"speak\", \"assume\", \"aiart\", \"agree\", \"property\", \"stablediffusion\", \"movie\", \"assistant\", \"like\", \"online\", \"integrate\", \"blog_post\", \"entire\", \"capable\", \"timeconsuming\", \"play\", \"tweet\", \"hour\", \"game\", \"finally\", \"awesome\", \"break\", \"difference\", \"admit\", \"hack\", \"enable\", \"detailed\", \"document\", \"teach\", \"level\", \"error\", \"computer\", \"minute\", \"news\", \"interview\", \"money\", \"high\", \"teacher\", \"inevitably\", \"poker\", \"ready\", \"advice\", \"blow\", \"support\", \"complete\"], \"Freq\": [12013.0, 13248.0, 11454.0, 7933.0, 4619.0, 7267.0, 4370.0, 6092.0, 5477.0, 5129.0, 4995.0, 3390.0, 6662.0, 6472.0, 4445.0, 5985.0, 4044.0, 4038.0, 3346.0, 4019.0, 2375.0, 5525.0, 2387.0, 5245.0, 2201.0, 5033.0, 2970.0, 2913.0, 4820.0, 4723.0, 13247.850162395041, 11454.088517872506, 6661.294791759789, 6472.057990550679, 5984.312151126869, 5524.641340170799, 5245.03079832459, 5032.2203216186435, 4819.866907360195, 4722.251057560288, 3832.6081363798057, 3485.675079825161, 3363.833301814742, 3323.7545575250538, 3285.1690349565492, 3227.702819443499, 3019.931035413022, 2894.569358639076, 2816.7599798289316, 2751.648002977413, 2497.6077096989843, 2478.510786078143, 2324.0379215627727, 2279.2516282830193, 2216.1443169678737, 2198.7672041002625, 2173.4649779875313, 2085.5027920486377, 2070.0165646534506, 1983.1520407255111, 2284.446505541292, 3024.8807109687596, 2233.8344463983262, 12012.886421970885, 7932.6118792830275, 7266.366694951547, 6091.420961615629, 5476.4112096283425, 5128.673519712574, 4994.845761382493, 4444.175896961641, 4043.7367983127847, 4037.9993063578663, 4018.167119308935, 3307.1357031598486, 3138.877093798893, 2504.922578239252, 2503.3668481938967, 2465.0492003216455, 2423.8501651118704, 2269.0685097164082, 2130.9268872640837, 2026.6377736196523, 1764.2988969689068, 1693.3607461717822, 1612.4944925581303, 1457.740226776143, 1442.3821330882824, 1401.473111747336, 1396.2977389366492, 1341.1193610434564, 1222.714272682236, 1156.4831323053832, 2349.344517159683, 3345.194110193565, 2969.861263500143, 2912.505668007303, 2411.314802866853, 2244.953192973519, 2095.9351400816045, 2065.4038265100285, 1991.0636890405292, 1969.542784505755, 1946.9408045035022, 1920.8009143500792, 1802.318205422938, 1796.5576884388586, 1518.49977668617, 1440.491826392465, 1442.1825763385202, 1365.4829536825441, 1334.4324944641962, 1309.9494059449012, 1282.7313081037742, 1272.6829178036746, 1262.6728162389445, 1288.3414604185887, 1242.4869019430469, 1232.239472225075, 1197.1023493203006, 1137.660405287628, 1120.8074711503564, 1030.431484256674, 983.7158167731249, 984.5657646922796, 4369.73766759962, 3389.420131561444, 2167.2637243331837, 1936.4450768102581, 1831.1735444029703, 1693.4288710994995, 1338.706568248557, 1256.5121353724312, 1112.992338960237, 940.8543572459531, 941.0354356489121, 897.7768123764873, 809.1405044850492, 818.412650100677, 809.6884507648164, 781.0469267092351, 766.8112076335518, 1055.914303658166, 709.7188225178494, 726.5658827730458, 703.7161059499045, 649.4818246579389, 678.4549106337706, 634.9757875835801, 611.9702205196156, 604.7363440923183, 594.7616532613827, 587.955130529107, 585.2039192793657, 579.0487156352449, 598.891367173841, 4618.613187405399, 2386.7104001733105, 2200.2130324690324, 1008.3462168794373, 970.2340869976, 928.5196201972494, 910.0126312190249, 870.0968216775208, 842.0367480152215, 848.8462466004042, 744.8013940008453, 728.0682691599577, 715.0864791285852, 733.1408142678004, 699.6367769989009, 667.5976066359189, 632.5199634973106, 658.5736677525529, 622.5611007152157, 611.7001988016676, 593.3978128663839, 506.0072812472229, 473.6821927804001, 466.276583050238, 449.0598328986158, 442.43855476322193, 432.5110221957679, 428.97369746565056, 425.79017297109567, 410.59657342292206, 551.3720369358234, 2375.02866406765, 1946.5183565294406, 1716.7963469658655, 1290.3349819154553, 1270.602676903499, 1254.743284965701, 1108.0687436136893, 783.9746281599096, 734.9625382532679, 714.7739776015171, 703.4279999028325, 692.6307763111012, 640.4079150789622, 620.643863030146, 598.2572051730413, 580.8634733082366, 570.8383226247543, 557.9022128691969, 539.8679046985213, 507.87538246723165, 505.2949682830776, 505.9598151047017, 501.74046483896365, 535.8936265291584, 531.0870124371993, 453.7471354666326, 419.43193239185007, 419.56684790589014, 402.9163724081848, 401.2295715633352], \"Total\": [12013.0, 13248.0, 11454.0, 7933.0, 4619.0, 7267.0, 4370.0, 6092.0, 5477.0, 5129.0, 4995.0, 3390.0, 6662.0, 6472.0, 4445.0, 5985.0, 4044.0, 4038.0, 3346.0, 4019.0, 2375.0, 5525.0, 2387.0, 5245.0, 2201.0, 5033.0, 2970.0, 2913.0, 4820.0, 4723.0, 13248.72241030688, 11454.96142308332, 6662.1692003894195, 6472.932227078876, 5985.186305628159, 5525.514548684113, 5245.905256355577, 5033.094408627637, 4820.741015352292, 4723.1254385518505, 3833.481306642599, 3486.5485537985214, 3364.7074122907834, 3324.6294657418443, 3286.041532724386, 3228.5745882643637, 3020.802197872259, 2895.445616357801, 2817.634402983956, 2752.5207944379135, 2498.484677202099, 2479.3853773253677, 2324.9122753686306, 2280.1251004433852, 2217.017645895106, 2199.6385135203736, 2174.3440791671733, 2086.3794123017033, 2070.8899403341275, 1984.0254081516712, 2286.1584789815133, 3041.0557910428556, 2251.401417860014, 12013.774883077669, 7933.50097536334, 7267.256370614583, 6092.31004234448, 5477.298954781612, 5129.562336153677, 4995.73463788013, 4445.065228041769, 4044.6251540773164, 4038.887400966253, 4019.0555411608516, 3308.0233713843845, 3139.7716534525734, 2505.811003703585, 2504.2569990819866, 2465.9378500331864, 2424.7405182427347, 2269.957153281762, 2131.8154118272355, 2027.5256273841794, 1765.1868168606204, 1694.2587859691864, 1613.38344464981, 1458.6280268724552, 1443.271139950633, 1402.361135022574, 1397.1917070992247, 1342.0235386567902, 1223.6022472113425, 1157.3714188219274, 2358.2141704247283, 3346.0558256585446, 2970.722095815205, 2913.366935754504, 2412.175500012012, 2245.8186657932015, 2096.8032134843966, 2066.2694856312314, 1991.924462007679, 1970.4074845170264, 1947.8023748262865, 1921.6629960143014, 1803.178365490135, 1797.4179247761656, 1519.3754780613501, 1441.3530406218015, 1443.0451764919674, 1366.3443098323296, 1335.2953498398629, 1310.8116127190456, 1283.5909705285044, 1273.5450688946123, 1263.534249720004, 1289.2211494531284, 1243.352972328351, 1233.101925896458, 1197.9637362782926, 1138.5285587723931, 1121.668408504942, 1031.2936239922126, 984.5764535923239, 985.4326020949153, 4370.608610036296, 3390.2909340502015, 2168.1330569723796, 1937.3149122252123, 1832.0423450376686, 1694.3003908113367, 1339.5761967174892, 1257.382551580886, 1113.8628308490572, 941.7260520381589, 941.9164415262445, 898.6468228408803, 810.0106034111222, 819.2942954893743, 810.5696992758901, 781.9170289460441, 767.6826699935897, 1057.2019448712986, 710.5887903339064, 727.4565396143624, 704.6098267074648, 650.3528574981291, 679.365226798381, 635.8472520111882, 612.8382009803888, 605.6047653143631, 595.6321625240885, 588.8266139760633, 586.0773665950231, 579.921403077113, 599.8147366073224, 4619.474029922858, 2387.5734358984746, 2201.0732765400917, 1009.2148323737069, 971.0969043236596, 929.3898320025462, 910.8742765807303, 870.968725138866, 842.8987916238958, 849.7187005294397, 745.6635122195465, 728.9292405795092, 715.9500356045745, 734.040364656245, 700.4985324478806, 668.4878638963863, 633.3826855535451, 659.4798142797464, 623.4199491507876, 612.5621287994205, 594.3222936630679, 506.8661531008842, 474.5428673443363, 467.137983063634, 449.9223867587977, 443.29965322062816, 433.37153024139127, 429.83362765095256, 426.6525255636701, 411.4609668285301, 552.8879911827729, 2375.905279232844, 1947.39712913032, 1717.6782418814425, 1291.2084832965986, 1271.4827791906873, 1255.6225794667141, 1108.944241379393, 784.8628539749067, 735.8512237166523, 715.6620286306343, 704.3251187365374, 693.5303638116106, 641.2975019631572, 621.5168409833324, 599.1303293945509, 581.7392032907421, 571.7126465962566, 558.7760950274478, 540.740722518987, 508.74829438949763, 506.1686148032492, 506.8359999663975, 502.6114792756534, 536.8708192611165, 532.0867166643802, 454.6203938557183, 420.30596225989774, 420.4421107148407, 403.7902445101871, 402.1033405122409], \"Category\": [\"Default\", \"Default\", \"Default\", \"Default\", \"Default\", \"Default\", \"Default\", \"Default\", \"Default\", \"Default\", \"Default\", \"Default\", \"Default\", \"Default\", \"Default\", \"Default\", \"Default\", \"Default\", \"Default\", \"Default\", \"Default\", \"Default\", \"Default\", \"Default\", \"Default\", \"Default\", \"Default\", \"Default\", \"Default\", \"Default\", \"Topic1\", \"Topic1\", \"Topic1\", \"Topic1\", \"Topic1\", \"Topic1\", \"Topic1\", \"Topic1\", \"Topic1\", \"Topic1\", \"Topic1\", \"Topic1\", \"Topic1\", \"Topic1\", \"Topic1\", \"Topic1\", \"Topic1\", \"Topic1\", \"Topic1\", \"Topic1\", \"Topic1\", \"Topic1\", \"Topic1\", \"Topic1\", \"Topic1\", \"Topic1\", \"Topic1\", \"Topic1\", \"Topic1\", \"Topic1\", \"Topic1\", \"Topic1\", \"Topic1\", \"Topic2\", \"Topic2\", \"Topic2\", \"Topic2\", \"Topic2\", \"Topic2\", \"Topic2\", \"Topic2\", \"Topic2\", \"Topic2\", \"Topic2\", \"Topic2\", \"Topic2\", \"Topic2\", \"Topic2\", \"Topic2\", \"Topic2\", \"Topic2\", \"Topic2\", \"Topic2\", \"Topic2\", \"Topic2\", \"Topic2\", \"Topic2\", \"Topic2\", \"Topic2\", \"Topic2\", \"Topic2\", \"Topic2\", \"Topic2\", \"Topic2\", \"Topic3\", \"Topic3\", \"Topic3\", \"Topic3\", \"Topic3\", \"Topic3\", \"Topic3\", \"Topic3\", \"Topic3\", \"Topic3\", \"Topic3\", \"Topic3\", \"Topic3\", \"Topic3\", \"Topic3\", \"Topic3\", \"Topic3\", \"Topic3\", \"Topic3\", \"Topic3\", \"Topic3\", \"Topic3\", \"Topic3\", \"Topic3\", \"Topic3\", \"Topic3\", \"Topic3\", \"Topic3\", \"Topic3\", \"Topic3\", \"Topic3\", \"Topic4\", \"Topic4\", \"Topic4\", \"Topic4\", \"Topic4\", \"Topic4\", \"Topic4\", \"Topic4\", \"Topic4\", \"Topic4\", \"Topic4\", \"Topic4\", \"Topic4\", \"Topic4\", \"Topic4\", \"Topic4\", \"Topic4\", \"Topic4\", \"Topic4\", \"Topic4\", \"Topic4\", \"Topic4\", \"Topic4\", \"Topic4\", \"Topic4\", \"Topic4\", \"Topic4\", \"Topic4\", \"Topic4\", \"Topic4\", \"Topic4\", \"Topic5\", \"Topic5\", \"Topic5\", \"Topic5\", \"Topic5\", \"Topic5\", \"Topic5\", \"Topic5\", \"Topic5\", \"Topic5\", \"Topic5\", \"Topic5\", \"Topic5\", \"Topic5\", \"Topic5\", \"Topic5\", \"Topic5\", \"Topic5\", \"Topic5\", \"Topic5\", \"Topic5\", \"Topic5\", \"Topic5\", \"Topic5\", \"Topic5\", \"Topic5\", \"Topic5\", \"Topic5\", \"Topic5\", \"Topic5\", \"Topic5\", \"Topic6\", \"Topic6\", \"Topic6\", \"Topic6\", \"Topic6\", \"Topic6\", \"Topic6\", \"Topic6\", \"Topic6\", \"Topic6\", \"Topic6\", \"Topic6\", \"Topic6\", \"Topic6\", \"Topic6\", \"Topic6\", \"Topic6\", \"Topic6\", \"Topic6\", \"Topic6\", \"Topic6\", \"Topic6\", \"Topic6\", \"Topic6\", \"Topic6\", \"Topic6\", \"Topic6\", \"Topic6\", \"Topic6\", \"Topic6\"], \"logprob\": [30.0, 29.0, 28.0, 27.0, 26.0, 25.0, 24.0, 23.0, 22.0, 21.0, 20.0, 19.0, 18.0, 17.0, 16.0, 15.0, 14.0, 13.0, 12.0, 11.0, 10.0, 9.0, 8.0, 7.0, 6.0, 5.0, 4.0, 3.0, 2.0, 1.0, -3.2671, -3.4126, -3.9546, -3.9835, -4.0618, -4.1417, -4.1937, -4.2351, -4.2782, -4.2987, -4.5074, -4.6023, -4.6379, -4.6499, -4.6615, -4.6792, -4.7457, -4.7881, -4.8154, -4.8388, -4.9356, -4.9433, -5.0077, -5.0271, -5.0552, -5.0631, -5.0746, -5.116, -5.1234, -5.1663, -5.0248, -4.7441, -5.0472, -2.9356, -3.3506, -3.4383, -3.6147, -3.7211, -3.7867, -3.8131, -3.9299, -4.0244, -4.0258, -4.0307, -4.2255, -4.2777, -4.5033, -4.5039, -4.5193, -4.5362, -4.6022, -4.665, -4.7152, -4.8538, -4.8948, -4.9438, -5.0446, -5.0552, -5.084, -5.0877, -5.128, -5.2205, -5.2762, -4.5674, -3.9071, -4.0262, -4.0457, -4.2345, -4.306, -4.3747, -4.3893, -4.426, -4.4369, -4.4484, -4.4619, -4.5256, -4.5288, -4.6969, -4.7497, -4.7485, -4.8032, -4.8262, -4.8447, -4.8657, -4.8735, -4.8814, -4.8613, -4.8976, -4.9058, -4.9348, -4.9857, -5.0006, -5.0847, -5.1311, -5.1302, -3.2814, -3.5354, -3.9826, -4.0952, -4.1511, -4.2293, -4.4644, -4.5277, -4.649, -4.817, -4.8168, -4.8639, -4.9678, -4.9564, -4.9672, -5.0032, -5.0216, -4.7017, -5.0989, -5.0755, -5.1074, -5.1876, -5.144, -5.2102, -5.2471, -5.259, -5.2757, -5.2872, -5.2919, -5.3024, -5.2687, -2.9196, -3.5798, -3.6611, -4.4414, -4.4799, -4.5238, -4.544, -4.5888, -4.6216, -4.6136, -4.7443, -4.767, -4.785, -4.7601, -4.8069, -4.8537, -4.9077, -4.8674, -4.9236, -4.9412, -4.9716, -5.1309, -5.1969, -5.2127, -5.2503, -5.2651, -5.2878, -5.296, -5.3035, -5.3398, -5.045, -3.5255, -3.7245, -3.8501, -4.1356, -4.151, -4.1636, -4.2879, -4.6339, -4.6985, -4.7263, -4.7423, -4.7578, -4.8362, -4.8675, -4.9042, -4.9338, -4.9512, -4.9741, -5.0069, -5.068, -5.0731, -5.0718, -5.0802, -5.0143, -5.0233, -5.1807, -5.2594, -5.259, -5.2995, -5.3037], \"loglift\": [30.0, 29.0, 28.0, 27.0, 26.0, 25.0, 24.0, 23.0, 22.0, 21.0, 20.0, 19.0, 18.0, 17.0, 16.0, 15.0, 14.0, 13.0, 12.0, 11.0, 10.0, 9.0, 8.0, 7.0, 6.0, 5.0, 4.0, 3.0, 2.0, 1.0, 1.0793, 1.0793, 1.0792, 1.0792, 1.0792, 1.0792, 1.0792, 1.0792, 1.0792, 1.0792, 1.0791, 1.0791, 1.0791, 1.0791, 1.0791, 1.0791, 1.0791, 1.079, 1.079, 1.079, 1.079, 1.079, 1.079, 1.079, 1.079, 1.0789, 1.0789, 1.0789, 1.0789, 1.0789, 1.0786, 1.074, 1.0715, 1.5087, 1.5087, 1.5087, 1.5086, 1.5086, 1.5086, 1.5086, 1.5086, 1.5086, 1.5086, 1.5086, 1.5085, 1.5085, 1.5084, 1.5084, 1.5084, 1.5084, 1.5084, 1.5084, 1.5083, 1.5083, 1.5082, 1.5082, 1.5082, 1.5082, 1.5081, 1.5081, 1.5081, 1.508, 1.508, 1.505, 1.8154, 1.8153, 1.8153, 1.8153, 1.8153, 1.8152, 1.8152, 1.8152, 1.8152, 1.8152, 1.8152, 1.8152, 1.8152, 1.8151, 1.815, 1.815, 1.815, 1.815, 1.815, 1.815, 1.815, 1.815, 1.815, 1.8149, 1.8149, 1.8149, 1.8149, 1.8149, 1.8148, 1.8148, 1.8148, 2.174, 2.174, 2.1738, 2.1738, 2.1738, 2.1737, 2.1736, 2.1736, 2.1735, 2.1733, 2.1733, 2.1733, 2.1732, 2.1732, 2.1732, 2.1731, 2.1731, 2.173, 2.173, 2.173, 2.173, 2.1729, 2.1729, 2.1729, 2.1728, 2.1728, 2.1728, 2.1728, 2.1728, 2.1727, 2.1727, 2.4804, 2.4803, 2.4802, 2.4798, 2.4797, 2.4797, 2.4797, 2.4796, 2.4796, 2.4796, 2.4795, 2.4794, 2.4794, 2.4794, 2.4794, 2.4793, 2.4793, 2.4793, 2.4793, 2.4792, 2.4791, 2.4789, 2.4788, 2.4788, 2.4787, 2.4787, 2.4786, 2.4786, 2.4786, 2.4785, 2.4779, 2.5394, 2.5393, 2.5393, 2.5391, 2.5391, 2.5391, 2.539, 2.5387, 2.5386, 2.5386, 2.5385, 2.5385, 2.5384, 2.5384, 2.5383, 2.5383, 2.5383, 2.5382, 2.5382, 2.5381, 2.5381, 2.5381, 2.5381, 2.538, 2.5379, 2.5379, 2.5377, 2.5377, 2.5376, 2.5376]}, \"token.table\": {\"Topic\": [4, 6, 6, 5, 5, 1, 2, 1, 2, 3, 2, 5, 5, 6, 2, 3, 5, 3, 5, 6, 6, 3, 3, 5, 2, 3, 5, 1, 1, 4, 6, 6, 4, 3, 4, 1, 3, 4, 5, 3, 1, 6, 6, 3, 5, 6, 6, 5, 6, 2, 2, 1, 6, 2, 2, 2, 3, 6, 1, 2, 2, 2, 1, 5, 1, 2, 6, 4, 4, 1, 2, 6, 6, 3, 5, 3, 5, 6, 4, 5, 3, 6, 4, 3, 1, 3, 1, 4, 1, 2, 6, 3, 5, 5, 3, 5, 5, 4, 1, 2, 2, 3, 2, 3, 2, 1, 4, 4, 5, 4, 6, 3, 6, 5, 2, 1, 3, 1, 6, 5, 4, 4, 6, 6, 4, 3, 3, 4, 4, 1, 5, 2, 6, 3, 2, 5, 4, 3, 2, 2, 2, 2, 2, 5, 1, 1, 4, 4, 5, 4, 5, 5, 4, 4, 1, 2, 1, 6, 4, 1, 6, 6, 3, 3, 4, 1, 1, 1, 2, 5, 1, 2, 6, 3, 4, 1, 4, 1, 5, 5, 1, 1, 3, 2, 2, 1, 3, 1, 4, 2, 4], \"Freq\": [0.999225370642452, 0.9988432122021176, 0.9968928295642635, 0.9990823317782929, 0.9993263783885009, 0.999055848926766, 0.000437414995151824, 0.9994831678327011, 0.999784967879938, 0.9997931978434774, 0.9999355004496746, 0.997563925210768, 0.9992724352294688, 0.9995041667162607, 0.9988150572930828, 0.9990161265922097, 0.9992883176412397, 0.9994040943830871, 0.9980605806588275, 0.998948462336256, 0.999148522221263, 0.9995771782837526, 0.9989118356906991, 0.9988796827264488, 0.9992373169118818, 0.9995358950475726, 0.9995123849117015, 0.9997825575006579, 0.9997897551840023, 0.9991714049786379, 0.9972560772292134, 0.9987534881369173, 0.9993724166469045, 0.9996549884055235, 0.9984111586980167, 0.9997617174122321, 0.9990528006357587, 0.9979904376254068, 0.9991541900525528, 0.999061270498158, 0.9998460974865894, 0.9992352695148115, 0.9989006308929811, 0.9990947082658559, 0.9988704481305873, 0.9979767550018748, 0.9981185979297252, 0.9984705925206747, 0.998729321856666, 0.9996763508092246, 0.9991192646236408, 0.9998181479842707, 0.9996203022183323, 0.9994980550788328, 0.9996196781548352, 0.9990293976433167, 0.9997569291936723, 0.9990640680322103, 0.9998744465919881, 0.9999368531793346, 0.9998454358430011, 0.9998529469770953, 0.9998245015468309, 0.9998973844381877, 0.9997748455288293, 0.999257028513229, 0.9990749423552608, 0.9992802257522755, 0.9979198100192357, 0.999822030357777, 0.9995694400074008, 0.9983505513293197, 0.9996051403197029, 0.9996844566517844, 0.9991101720700112, 0.9991063789024116, 0.9986730420318056, 0.998377972447236, 0.9990270458335354, 0.9991426980882101, 0.9990299151120251, 0.9985291461460415, 0.9994774043185515, 0.9995610028590534, 0.9998017930324001, 0.9995720065917373, 0.9997097188849673, 0.9991107393454702, 0.0033923975609726543, 0.9960927338405957, 0.9981133831170036, 0.9991955213258069, 0.9979498980581017, 0.9989336897468268, 0.9995357527324892, 0.9985826874020312, 0.9995805506052221, 0.9996957556151825, 0.9947203234185488, 0.004932497471496936, 0.9991425196196244, 0.9993856146838255, 0.9997373658686621, 0.999539595913283, 0.9998271189909217, 0.999570261887513, 0.9986322638193117, 0.9992971618894723, 0.9988877612813117, 0.9991345185883733, 0.9986110804768595, 0.9995880614806427, 0.997691253923945, 0.9988560204320964, 0.9996175035499267, 0.9996830433474398, 0.998745629797259, 0.9998559807138137, 0.9986301706379049, 0.9970682286548478, 0.9992290199080853, 0.9996192261740029, 0.9996189750320618, 0.9979576324115123, 0.9986416862447717, 0.9996354711065186, 0.9994145161706633, 0.9992324909925129, 0.998752357800174, 0.9998106658957545, 0.9977751235698765, 0.9997628475654997, 0.9986353585010637, 0.9993808319127094, 0.9995783386129653, 0.9992701978259669, 0.9993212707872557, 0.9996169342553316, 0.9997407542587476, 0.9993276536798914, 0.9997542326201573, 0.9996945989737197, 0.9996906396148113, 0.9997598248121492, 0.9998274356262, 0.9993818461484311, 0.9989386695953261, 0.9988272042785918, 0.9990401786468137, 0.9986675227289128, 0.9993958067337906, 0.9982911601108393, 0.9981617331491874, 0.9984202312935656, 0.9922708506257607, 0.007550852489094866, 0.9995409843052038, 0.9980429331294378, 0.9998607493622516, 0.9996076086920372, 0.99916841998599, 0.9987833957224085, 0.9997674860307084, 0.9998740509648816, 0.998863088668036, 0.9995065619675138, 0.9999068776890225, 0.9998060115371041, 0.999760357163029, 0.9965852194063141, 0.999734442105205, 0.9998903734633043, 0.999796071831277, 0.9992757146422067, 0.9985961674346179, 0.9999454732098305, 0.9995698664108088, 0.9998107936408815, 0.998725197827473, 0.9987962598896316, 0.9998445673960603, 0.9998426656648955, 0.9993465064173978, 0.9997802857871103, 0.9991470697305391, 0.9998462860066674, 0.9995126805607609, 0.9999160692866776, 0.9990013861366345, 0.9995078080211809, 0.9994310475189113], \"Term\": [\"able\", \"admit\", \"advice\", \"agree\", \"aiart\", \"also\", \"also\", \"amazing\", \"answer\", \"art\", \"ask\", \"assistant\", \"assume\", \"awesome\", \"bad\", \"become\", \"believe\", \"big\", \"blog_post\", \"blow\", \"break\", \"build\", \"business\", \"capable\", \"challenge\", \"change\", \"chat\", \"code\", \"come\", \"company\", \"complete\", \"computer\", \"control\", \"conversation\", \"crazy\", \"create\", \"creation\", \"critical\", \"current\", \"datum\", \"day\", \"detailed\", \"difference\", \"digital\", \"do\", \"document\", \"enable\", \"entire\", \"error\", \"even\", \"example\", \"explain\", \"finally\", \"find\", \"first\", \"fun\", \"future\", \"game\", \"generate\", \"get\", \"give\", \"go\", \"good\", \"gpt\", \"great\", \"guess\", \"hack\", \"happen\", \"hard\", \"help\", \"here\", \"high\", \"hour\", \"human\", \"imagine\", \"impact\", \"incredible\", \"inevitably\", \"insane\", \"integrate\", \"internet\", \"interview\", \"job\", \"join\", \"know\", \"language\", \"learn\", \"less\", \"let\", \"let\", \"level\", \"life\", \"like\", \"little\", \"llm\", \"logic\", \"lol\", \"long\", \"look\", \"look\", \"lot\", \"love\", \"m\", \"machinelearning\", \"make\", \"many\", \"marketing\", \"matter\", \"meet\", \"method\", \"minute\", \"model\", \"money\", \"movie\", \"much\", \"need\", \"never\", \"new\", \"news\", \"online\", \"output\", \"people\", \"play\", \"poker\", \"pose\", \"potential\", \"power\", \"pretty\", \"product\", \"prompt\", \"property\", \"question\", \"ready\", \"real\", \"really\", \"refer\", \"replace\", \"research\", \"response\", \"result\", \"right\", \"s\", \"say\", \"search\", \"see\", \"show\", \"skill\", \"solve\", \"soon\", \"sound\", \"speak\", \"stablediffusion\", \"stackoverflow\", \"state\", \"still\", \"still\", \"story\", \"support\", \"take\", \"talk\", \"teach\", \"teacher\", \"tech\", \"technology\", \"tedious\", \"tell\", \"think\", \"thread\", \"time\", \"timeconsuming\", \"tool\", \"try\", \"tweet\", \"twitter\", \"type\", \"use\", \"user\", \"ve\", \"version\", \"wait\", \"want\", \"way\", \"web\", \"well\", \"wonder\", \"work\", \"world\", \"write\", \"writer\", \"wrong\", \"year\"]}, \"R\": 30, \"lambda.step\": 0.01, \"plot.opts\": {\"xlab\": \"PC1\", \"ylab\": \"PC2\"}, \"topic.order\": [5, 1, 6, 2, 3, 4]};\n",
              "\n",
              "function LDAvis_load_lib(url, callback){\n",
              "  var s = document.createElement('script');\n",
              "  s.src = url;\n",
              "  s.async = true;\n",
              "  s.onreadystatechange = s.onload = callback;\n",
              "  s.onerror = function(){console.warn(\"failed to load library \" + url);};\n",
              "  document.getElementsByTagName(\"head\")[0].appendChild(s);\n",
              "}\n",
              "\n",
              "if(typeof(LDAvis) !== \"undefined\"){\n",
              "   // already loaded: just create the visualization\n",
              "   !function(LDAvis){\n",
              "       new LDAvis(\"#\" + \"ldavis_el114139632547364080633001554\", ldavis_el114139632547364080633001554_data);\n",
              "   }(LDAvis);\n",
              "}else if(typeof define === \"function\" && define.amd){\n",
              "   // require.js is available: use it to load d3/LDAvis\n",
              "   require.config({paths: {d3: \"https://d3js.org/d3.v5\"}});\n",
              "   require([\"d3\"], function(d3){\n",
              "      window.d3 = d3;\n",
              "      LDAvis_load_lib(\"https://cdn.jsdelivr.net/gh/bmabey/pyLDAvis@3.4.0/pyLDAvis/js/ldavis.v3.0.0.js\", function(){\n",
              "        new LDAvis(\"#\" + \"ldavis_el114139632547364080633001554\", ldavis_el114139632547364080633001554_data);\n",
              "      });\n",
              "    });\n",
              "}else{\n",
              "    // require.js not available: dynamically load d3 & LDAvis\n",
              "    LDAvis_load_lib(\"https://d3js.org/d3.v5.js\", function(){\n",
              "         LDAvis_load_lib(\"https://cdn.jsdelivr.net/gh/bmabey/pyLDAvis@3.4.0/pyLDAvis/js/ldavis.v3.0.0.js\", function(){\n",
              "                 new LDAvis(\"#\" + \"ldavis_el114139632547364080633001554\", ldavis_el114139632547364080633001554_data);\n",
              "            })\n",
              "         });\n",
              "}\n",
              "</script>"
            ]
          },
          "metadata": {},
          "execution_count": 34
        }
      ]
    },
    {
      "cell_type": "code",
      "source": [
        "# Build LDA model\n",
        "lda_model_5 = gensim.models.ldamodel.LdaModel(corpus=corpus,\n",
        "                                           id2word=id2word,\n",
        "                                            num_topics=5, \n",
        "                                           random_state=100,\n",
        "                                           update_every=1,\n",
        "                                           chunksize=1000,\n",
        "                                           passes=10,\n",
        "                                          alpha='auto',\n",
        "                                           per_word_topics=True)\n",
        "# Print the Keyword in the 10 topics\n",
        "print(lda_model_5.print_topics())\n",
        "doc_lda_5 = lda_model_5[corpus]"
      ],
      "metadata": {
        "colab": {
          "base_uri": "https://localhost:8080/"
        },
        "id": "lGQJyUwf8Xw4",
        "outputId": "b8df165c-7e09-483b-faa2-43853348e223"
      },
      "execution_count": 37,
      "outputs": [
        {
          "output_type": "stream",
          "name": "stdout",
          "text": [
            "[(0, '0.042*\"ask\" + 0.028*\"get\" + 0.025*\"make\" + 0.021*\"answer\" + 0.019*\"question\" + 0.019*\"know\" + 0.018*\"try\" + 0.018*\"think\" + 0.017*\"go\" + 0.015*\"time\"'), (1, '0.037*\"take\" + 0.019*\"job\" + 0.017*\"research\" + 0.017*\"replace\" + 0.016*\"art\" + 0.015*\"web\" + 0.012*\"digital\" + 0.010*\"business\" + 0.008*\"developer\" + 0.007*\"implication\"'), (2, '0.040*\"m\" + 0.040*\"gpt\" + 0.021*\"tell\" + 0.019*\"chat\" + 0.018*\"tweet\" + 0.010*\"able\" + 0.009*\"style\" + 0.009*\"poem\" + 0.009*\"wait\" + 0.008*\"output\"'), (3, '0.023*\"technology\" + 0.020*\"play\" + 0.019*\"world\" + 0.016*\"change\" + 0.015*\"model\" + 0.014*\"tech\" + 0.013*\"next\" + 0.011*\"game\" + 0.010*\"awesome\" + 0.010*\"internet\"'), (4, '0.036*\"use\" + 0.031*\"write\" + 0.018*\"good\" + 0.018*\"new\" + 0.014*\"see\" + 0.014*\"code\" + 0.013*\"work\" + 0.013*\"create\" + 0.011*\"well\" + 0.010*\"generate\"')]\n"
          ]
        }
      ]
    },
    {
      "cell_type": "code",
      "source": [
        "# Visualize the topics\n",
        "pyLDAvis.enable_notebook()\n",
        "vis_5 = pyLDAvis.gensim.prepare(lda_model_5, corpus, id2word)\n",
        "vis_5"
      ],
      "metadata": {
        "colab": {
          "base_uri": "https://localhost:8080/",
          "height": 915
        },
        "id": "0V94Bpcw8fTA",
        "outputId": "b571839c-9c22-4f6a-ea74-b310bf5b8eb0"
      },
      "execution_count": 38,
      "outputs": [
        {
          "output_type": "stream",
          "name": "stderr",
          "text": [
            "/usr/local/lib/python3.9/dist-packages/pyLDAvis/_prepare.py:243: FutureWarning: In a future version of pandas all arguments of DataFrame.drop except for the argument 'labels' will be keyword-only\n",
            "  default_term_info = default_term_info.sort_values(\n"
          ]
        },
        {
          "output_type": "execute_result",
          "data": {
            "text/plain": [
              "PreparedData(topic_coordinates=              x         y  topics  cluster       Freq\n",
              "topic                                                \n",
              "4      0.330765  0.233166       1        1  36.129058\n",
              "0      0.148574 -0.370932       2        1  29.293913\n",
              "3     -0.159071  0.047967       3        1  12.715160\n",
              "1     -0.160811  0.046545       4        1  11.754851\n",
              "2     -0.159458  0.043254       5        1  10.107019, topic_info=                 Term          Freq         Total Category  logprob  loglift\n",
              "35                ask  12516.000000  12516.000000  Default  30.0000  30.0000\n",
              "65                use  13308.000000  13308.000000  Default  29.0000  29.0000\n",
              "186             write  11506.000000  11506.000000  Default  28.0000  28.0000\n",
              "581               get   8265.000000   8265.000000  Default  27.0000  27.0000\n",
              "324              take   4495.000000   4495.000000  Default  26.0000  26.0000\n",
              "...               ...           ...           ...      ...      ...      ...\n",
              "8424     hypothetical    561.729862    562.708033   Topic5  -5.2151   2.2902\n",
              "2496             mine    542.205777    543.185892   Topic5  -5.2505   2.2901\n",
              "935   stablediffusion    447.890409    448.741738   Topic5  -5.4416   2.2900\n",
              "8002            silly    540.352176    541.409602   Topic5  -5.2539   2.2900\n",
              "4548           jasper    509.168402    510.173192   Topic5  -5.3133   2.2900\n",
              "\n",
              "[199 rows x 6 columns], token_table=      Topic      Freq      Term\n",
              "term                           \n",
              "434       5  0.999452      able\n",
              "1551      3  0.998083  accurate\n",
              "874       2  0.999744  actually\n",
              "1800      5  0.997614     agree\n",
              "696       5  0.998364     aiart\n",
              "...     ...       ...       ...\n",
              "652       3  0.999826     world\n",
              "186       1  0.999958     write\n",
              "701       4  0.998617    writer\n",
              "1146      2  0.999331      year\n",
              "1531      3  0.999228       yet\n",
              "\n",
              "[183 rows x 3 columns], R=30, lambda_step=0.01, plot_opts={'xlab': 'PC1', 'ylab': 'PC2'}, topic_order=[5, 1, 4, 2, 3])"
            ],
            "text/html": [
              "\n",
              "<link rel=\"stylesheet\" type=\"text/css\" href=\"https://cdn.jsdelivr.net/gh/bmabey/pyLDAvis@3.4.0/pyLDAvis/js/ldavis.v1.0.0.css\">\n",
              "\n",
              "\n",
              "<div id=\"ldavis_el1141396325551010885003172829\" style=\"background-color:white;\"></div>\n",
              "<script type=\"text/javascript\">\n",
              "\n",
              "var ldavis_el1141396325551010885003172829_data = {\"mdsDat\": {\"x\": [0.3307650978674172, 0.14857397558357274, -0.15907075625240893, -0.16081066981358594, -0.1594576473849952], \"y\": [0.23316611061909512, -0.37093240962937646, 0.04796729603172048, 0.046545288458664964, 0.04325371451989613], \"topics\": [1, 2, 3, 4, 5], \"cluster\": [1, 1, 1, 1, 1], \"Freq\": [36.12905757619905, 29.29391288006848, 12.715159996658077, 11.754851037593058, 10.10701850948133]}, \"tinfo\": {\"Term\": [\"ask\", \"use\", \"write\", \"get\", \"take\", \"m\", \"gpt\", \"make\", \"answer\", \"question\", \"know\", \"good\", \"try\", \"think\", \"new\", \"go\", \"technology\", \"see\", \"play\", \"give\", \"code\", \"world\", \"work\", \"tell\", \"create\", \"time\", \"job\", \"chat\", \"research\", \"replace\", \"use\", \"write\", \"good\", \"see\", \"code\", \"work\", \"create\", \"generate\", \"way\", \"prompt\", \"help\", \"human\", \"tool\", \"day\", \"great\", \"future\", \"ve\", \"thread\", \"talk\", \"story\", \"learn\", \"show\", \"potential\", \"many\", \"explain\", \"today\", \"amazing\", \"love\", \"text\", \"interesting\", \"new\", \"really\", \"well\", \"want\", \"still\", \"ask\", \"get\", \"make\", \"answer\", \"question\", \"know\", \"try\", \"think\", \"go\", \"give\", \"say\", \"right\", \"come\", \"people\", \"look\", \"even\", \"first\", \"s\", \"much\", \"search\", \"response\", \"thing\", \"year\", \"guess\", \"conversation\", \"lot\", \"hour\", \"feel\", \"here\", \"actually\", \"also\", \"time\", \"need\", \"let\", \"result\", \"technology\", \"play\", \"world\", \"change\", \"model\", \"tech\", \"game\", \"internet\", \"awesome\", \"machinelearning\", \"yet\", \"true\", \"never\", \"insane\", \"happen\", \"opinion\", \"soon\", \"topic\", \"matter\", \"difference\", \"anymore\", \"software\", \"detailed\", \"innovation\", \"document\", \"assessment\", \"level\", \"accurate\", \"refer\", \"explore\", \"next\", \"tedious\", \"llm\", \"bit\", \"take\", \"job\", \"research\", \"replace\", \"art\", \"web\", \"digital\", \"business\", \"developer\", \"implication\", \"automate\", \"startup\", \"solve\", \"beat\", \"paper\", \"handle\", \"hard\", \"sound\", \"creative\", \"industry\", \"marketing\", \"writer\", \"critical\", \"whole\", \"computer\", \"stackoverflow\", \"crazy\", \"pay\", \"service\", \"website\", \"pose\", \"asset\", \"optimistic\", \"m\", \"gpt\", \"tell\", \"chat\", \"tweet\", \"able\", \"style\", \"poem\", \"wait\", \"output\", \"do\", \"hand\", \"scary\", \"little\", \"meet\", \"enough\", \"imagine\", \"believe\", \"logic\", \"speak\", \"aiart\", \"type\", \"agree\", \"machine\", \"robot\", \"combination\", \"leave\", \"hypothetical\", \"mine\", \"stablediffusion\", \"silly\", \"jasper\"], \"Freq\": [12516.0, 13308.0, 11506.0, 8265.0, 4495.0, 4131.0, 4088.0, 7571.0, 6347.0, 5706.0, 5698.0, 6692.0, 5344.0, 5260.0, 6500.0, 5204.0, 2954.0, 5269.0, 2583.0, 4213.0, 5055.0, 2446.0, 4842.0, 2142.0, 4744.0, 4644.0, 2230.0, 1948.0, 2058.0, 1992.0, 13307.478573657341, 11505.642534082172, 6691.2836033461335, 5268.651286517061, 5054.882155622438, 4841.575566081898, 4743.520584697323, 3849.8738251247946, 3501.3795444229017, 3338.7288045157475, 3242.2500429240995, 3164.1022357102806, 3033.5433996176766, 2907.617204274546, 2829.4532218794466, 2809.09056148687, 2764.0514575151565, 2508.8613009638952, 2334.5141842265193, 2226.1363398094463, 2208.686072429455, 2183.257654997143, 2123.421185451941, 2079.353108586285, 2094.9048570825025, 1989.3600784591792, 1992.0964373180354, 1953.6053564664367, 1923.4467309677743, 1911.5474760659524, 6469.212818773567, 2481.6260813672016, 4227.362290349505, 2440.660369855987, 2213.705540918503, 12515.327145724148, 8264.402204313552, 7570.29243507104, 6346.2074526020015, 5705.478722192714, 5697.516492385776, 5343.193080323183, 5259.879035553523, 5203.768950406713, 4212.8823706515195, 3445.474547271234, 3270.1704344208715, 3202.6329561622047, 3184.174501704395, 2895.86638511513, 2609.709415563844, 2568.167359138237, 2525.250454942994, 2220.071223359604, 2140.957482233631, 2111.4216948480534, 1800.1014114501197, 1720.2988512213767, 1764.1935241571925, 1722.0029704276208, 1679.955566059897, 1650.3599238241904, 1567.475327140074, 1518.7308766040417, 1513.5228070338205, 2165.0876371870213, 4385.434834657478, 2985.7404656502376, 1773.3744768449674, 1682.5847147681386, 2953.909870318149, 2582.927005987329, 2445.5997387130546, 2019.379170065547, 1974.6269605453429, 1822.1101330611575, 1403.3012713718833, 1353.4140508504004, 1364.585206965835, 1300.983791103923, 1258.143100208641, 1126.387239931438, 1045.0958589367356, 1000.1366550349582, 954.1783307975466, 945.6048391066905, 923.5148807634798, 835.1781207842529, 860.5337818853177, 852.5963528011514, 844.3497644665661, 776.0410735065506, 753.2355371608029, 670.9858533299338, 696.4578503604903, 711.6412940014902, 650.6495334616268, 633.3816721438056, 677.46323924694, 617.323256348045, 1640.5425101324074, 1121.8478979579988, 1143.872148605479, 801.6326767113633, 4494.5218303941865, 2229.1683811202884, 2057.2400394429146, 1991.7598016801555, 1933.185810462694, 1769.0589363353463, 1490.4588814442398, 1219.5745230850705, 984.8110725748569, 897.7864651476417, 873.5845935800301, 833.9597828804838, 803.3718335202284, 799.6850794000042, 731.573765269689, 762.4408063565593, 668.0485692508404, 653.1279952268126, 640.3810894647354, 635.9255874010508, 629.4727179474539, 622.0305145117081, 697.7751133341254, 605.9159765635501, 600.8242461385313, 601.9318791815301, 595.6016197342093, 570.4512282002366, 563.4033363052229, 562.2592001918623, 615.9760995853567, 595.6943330540237, 578.2453055581037, 4130.580563538704, 4087.9399537378195, 2141.1811321736977, 1947.4231254874137, 1846.3303172001192, 1031.7061617304923, 969.9193501010177, 961.3673517099745, 892.4921283911797, 872.1420923224674, 858.7697506225268, 793.3827486945668, 770.3054561929474, 745.3050519713627, 770.1024583926197, 693.8042645245856, 659.2399056021427, 619.266909294965, 648.9022775204763, 559.860905161011, 551.0518018964676, 545.0230512407293, 541.4344621919188, 537.8717713685236, 523.3665507895424, 570.0758295687301, 496.92335546731186, 561.7298616698384, 542.2057768124196, 447.8904089575998, 540.3521763145725, 509.1684022922049], \"Total\": [12516.0, 13308.0, 11506.0, 8265.0, 4495.0, 4131.0, 4088.0, 7571.0, 6347.0, 5706.0, 5698.0, 6692.0, 5344.0, 5260.0, 6500.0, 5204.0, 2954.0, 5269.0, 2583.0, 4213.0, 5055.0, 2446.0, 4842.0, 2142.0, 4744.0, 4644.0, 2230.0, 1948.0, 2058.0, 1992.0, 13308.321255209592, 11506.487665496687, 6692.13215046507, 5269.498418352156, 5055.729499685565, 4842.421637579851, 4744.367002666238, 3850.71930410241, 3502.225426243376, 3339.579326111389, 3243.091648256326, 3164.946847603463, 3034.3833884038736, 2908.4636132810965, 2830.3019222750627, 2809.933748654312, 2764.895438601791, 2509.7165677023663, 2335.3626831069964, 2226.9830030018215, 2209.52612571915, 2184.1177377938398, 2124.2794141307013, 2080.19875568099, 2095.7574227846017, 1990.204099229353, 1992.9423906092202, 1954.451220223689, 1924.289372380565, 1912.3912897208597, 6500.376761761742, 2494.3572444408583, 4428.383616963542, 2487.9725211722125, 2260.5687248293207, 12516.184187007331, 8265.260063248581, 7571.151325483602, 6347.064909089981, 5706.333871026737, 5698.374670388461, 5344.051086245492, 5260.734867591474, 5204.626156617525, 4213.739051161261, 3446.328978644143, 3271.0411125827864, 3203.4905528741506, 3185.030902040174, 2896.724942199154, 2610.5655835681973, 2569.0247939671854, 2526.104687280296, 2220.9279664244805, 2141.81327898825, 2112.2770020802027, 1800.9581297689124, 1721.1519356667372, 1765.071623163546, 1722.8607289380025, 1680.8138283583785, 1651.2467996923056, 1568.3320369039604, 1519.5858316004478, 1514.387300708853, 2177.303137148348, 4644.397315907953, 3136.413885324407, 2493.626024280685, 1847.530292820006, 2954.737008445403, 2583.763423996937, 2446.425071076518, 2020.204308259983, 1975.4552215933682, 1822.934275354319, 1404.12767782873, 1354.2457514352445, 1365.4259315979186, 1301.8075502980375, 1258.9724612241657, 1127.229574039506, 1045.9252736861024, 1000.9895604533597, 955.0051731191663, 946.4511021126751, 924.3422866853141, 836.0059141042539, 861.3943761317328, 853.4590351404163, 845.216261063845, 776.8707127732022, 754.130801960965, 671.8094381597236, 697.3278152433907, 712.530909416273, 651.4744715543244, 634.2156307207433, 678.3624265248766, 618.1479239878375, 1643.130425658039, 1123.4553033883349, 1154.0109821034887, 808.9792037781683, 4495.361406947338, 2230.001722624625, 2058.091737715516, 1992.5940567172595, 1934.0303388949108, 1769.8899378225265, 1491.328275941891, 1220.4041407455359, 985.6445588573299, 898.6380347732456, 874.437574346686, 834.8002648224523, 804.2075694333494, 800.5684875855634, 732.4124863859118, 763.3367935153924, 668.8869270874958, 653.9672267854721, 641.2159799125272, 636.7577045887385, 630.3017972137002, 622.8615902634839, 698.7231758061313, 606.7556259308794, 601.6616582705642, 602.7760701747842, 596.4445454302079, 571.2841012426518, 564.2357057584221, 563.0915982135358, 616.9021674493534, 596.6465922346657, 579.2547534838329, 4131.440705805479, 4088.795902026543, 2142.0400345027883, 1948.2782354948909, 1847.19746390072, 1032.5661158199168, 970.7789242413884, 962.2255104580787, 893.3711693176156, 873.0045820012025, 859.6317866769818, 794.2709446673152, 771.172041989959, 746.1636871599195, 771.0128344196203, 694.6672261177339, 660.1012182995893, 620.1256467190824, 649.8202129831208, 560.7220547899086, 551.9030110170911, 545.8852767678105, 542.2936995225377, 538.7298755695614, 524.2203801338846, 571.0438686486243, 497.7814054446422, 562.7080327068234, 543.1858924897122, 448.74173849405065, 541.4096016109037, 510.1731924083993], \"Category\": [\"Default\", \"Default\", \"Default\", \"Default\", \"Default\", \"Default\", \"Default\", \"Default\", \"Default\", \"Default\", \"Default\", \"Default\", \"Default\", \"Default\", \"Default\", \"Default\", \"Default\", \"Default\", \"Default\", \"Default\", \"Default\", \"Default\", \"Default\", \"Default\", \"Default\", \"Default\", \"Default\", \"Default\", \"Default\", \"Default\", \"Topic1\", \"Topic1\", \"Topic1\", \"Topic1\", \"Topic1\", \"Topic1\", \"Topic1\", \"Topic1\", \"Topic1\", \"Topic1\", \"Topic1\", \"Topic1\", \"Topic1\", \"Topic1\", \"Topic1\", \"Topic1\", \"Topic1\", \"Topic1\", \"Topic1\", \"Topic1\", \"Topic1\", \"Topic1\", \"Topic1\", \"Topic1\", \"Topic1\", \"Topic1\", \"Topic1\", \"Topic1\", \"Topic1\", \"Topic1\", \"Topic1\", \"Topic1\", \"Topic1\", \"Topic1\", \"Topic1\", \"Topic2\", \"Topic2\", \"Topic2\", \"Topic2\", \"Topic2\", \"Topic2\", \"Topic2\", \"Topic2\", \"Topic2\", \"Topic2\", \"Topic2\", \"Topic2\", \"Topic2\", \"Topic2\", \"Topic2\", \"Topic2\", \"Topic2\", \"Topic2\", \"Topic2\", \"Topic2\", \"Topic2\", \"Topic2\", \"Topic2\", \"Topic2\", \"Topic2\", \"Topic2\", \"Topic2\", \"Topic2\", \"Topic2\", \"Topic2\", \"Topic2\", \"Topic2\", \"Topic2\", \"Topic2\", \"Topic2\", \"Topic3\", \"Topic3\", \"Topic3\", \"Topic3\", \"Topic3\", \"Topic3\", \"Topic3\", \"Topic3\", \"Topic3\", \"Topic3\", \"Topic3\", \"Topic3\", \"Topic3\", \"Topic3\", \"Topic3\", \"Topic3\", \"Topic3\", \"Topic3\", \"Topic3\", \"Topic3\", \"Topic3\", \"Topic3\", \"Topic3\", \"Topic3\", \"Topic3\", \"Topic3\", \"Topic3\", \"Topic3\", \"Topic3\", \"Topic3\", \"Topic3\", \"Topic3\", \"Topic3\", \"Topic3\", \"Topic4\", \"Topic4\", \"Topic4\", \"Topic4\", \"Topic4\", \"Topic4\", \"Topic4\", \"Topic4\", \"Topic4\", \"Topic4\", \"Topic4\", \"Topic4\", \"Topic4\", \"Topic4\", \"Topic4\", \"Topic4\", \"Topic4\", \"Topic4\", \"Topic4\", \"Topic4\", \"Topic4\", \"Topic4\", \"Topic4\", \"Topic4\", \"Topic4\", \"Topic4\", \"Topic4\", \"Topic4\", \"Topic4\", \"Topic4\", \"Topic4\", \"Topic4\", \"Topic4\", \"Topic5\", \"Topic5\", \"Topic5\", \"Topic5\", \"Topic5\", \"Topic5\", \"Topic5\", \"Topic5\", \"Topic5\", \"Topic5\", \"Topic5\", \"Topic5\", \"Topic5\", \"Topic5\", \"Topic5\", \"Topic5\", \"Topic5\", \"Topic5\", \"Topic5\", \"Topic5\", \"Topic5\", \"Topic5\", \"Topic5\", \"Topic5\", \"Topic5\", \"Topic5\", \"Topic5\", \"Topic5\", \"Topic5\", \"Topic5\", \"Topic5\", \"Topic5\"], \"logprob\": [30.0, 29.0, 28.0, 27.0, 26.0, 25.0, 24.0, 23.0, 22.0, 21.0, 20.0, 19.0, 18.0, 17.0, 16.0, 15.0, 14.0, 13.0, 12.0, 11.0, 10.0, 9.0, 8.0, 7.0, 6.0, 5.0, 4.0, 3.0, 2.0, 1.0, -3.3239, -3.4694, -4.0114, -4.2505, -4.2919, -4.335, -4.3555, -4.5642, -4.6591, -4.7066, -4.736, -4.7604, -4.8025, -4.8449, -4.8722, -4.8794, -4.8955, -4.9924, -5.0644, -5.112, -5.1198, -5.1314, -5.1592, -5.1802, -5.1727, -5.2244, -5.223, -5.2426, -5.2581, -5.2643, -4.0452, -5.0033, -4.4707, -5.02, -5.1176, -3.1756, -3.5906, -3.6783, -3.8547, -3.9611, -3.9625, -4.0267, -4.0424, -4.0531, -4.2644, -4.4655, -4.5177, -4.5385, -4.5443, -4.6392, -4.7433, -4.7593, -4.7762, -4.905, -4.9413, -4.9552, -5.1147, -5.16, -5.1348, -5.159, -5.1838, -5.2015, -5.2531, -5.2846, -5.2881, -4.9301, -4.2242, -4.6087, -5.1296, -5.1822, -3.7848, -3.919, -3.9736, -4.1651, -4.1876, -4.2679, -4.5291, -4.5653, -4.5571, -4.6048, -4.6383, -4.7489, -4.8238, -4.8678, -4.9148, -4.9239, -4.9475, -5.048, -5.0181, -5.0274, -5.0371, -5.1215, -5.1513, -5.2669, -5.2297, -5.2081, -5.2977, -5.3246, -5.2573, -5.3503, -4.3729, -4.753, -4.7335, -5.089, -3.2865, -3.9878, -4.068, -4.1004, -4.1302, -4.219, -4.3903, -4.5909, -4.8047, -4.8972, -4.9246, -4.971, -5.0083, -5.0129, -5.102, -5.0606, -5.1928, -5.2154, -5.2351, -5.2421, -5.2523, -5.2642, -5.1493, -5.2904, -5.2989, -5.297, -5.3076, -5.3507, -5.3632, -5.3652, -5.274, -5.3074, -5.3372, -3.2199, -3.2303, -3.877, -3.9719, -4.0252, -4.6072, -4.6689, -4.6778, -4.7521, -4.7752, -4.7906, -4.8698, -4.8993, -4.9323, -4.8996, -5.0039, -5.055, -5.1176, -5.0708, -5.2184, -5.2343, -5.2453, -5.2519, -5.2585, -5.2858, -5.2004, -5.3377, -5.2151, -5.2505, -5.4416, -5.2539, -5.3133], \"loglift\": [30.0, 29.0, 28.0, 27.0, 26.0, 25.0, 24.0, 23.0, 22.0, 21.0, 20.0, 19.0, 18.0, 17.0, 16.0, 15.0, 14.0, 13.0, 12.0, 11.0, 10.0, 9.0, 8.0, 7.0, 6.0, 5.0, 4.0, 3.0, 2.0, 1.0, 1.018, 1.018, 1.0179, 1.0179, 1.0179, 1.0179, 1.0179, 1.0179, 1.0178, 1.0178, 1.0178, 1.0178, 1.0178, 1.0178, 1.0178, 1.0178, 1.0178, 1.0177, 1.0177, 1.0177, 1.0177, 1.0177, 1.0177, 1.0177, 1.0177, 1.0176, 1.0176, 1.0176, 1.0176, 1.0176, 1.0133, 1.013, 0.9716, 0.9989, 0.9971, 1.2277, 1.2277, 1.2277, 1.2277, 1.2276, 1.2276, 1.2276, 1.2276, 1.2276, 1.2276, 1.2275, 1.2275, 1.2275, 1.2275, 1.2275, 1.2275, 1.2275, 1.2275, 1.2274, 1.2274, 1.2274, 1.2273, 1.2273, 1.2273, 1.2273, 1.2273, 1.2273, 1.2272, 1.2272, 1.2272, 1.2222, 1.1704, 1.1786, 0.8869, 1.1343, 2.0621, 2.0621, 2.062, 2.062, 2.062, 2.0619, 2.0618, 2.0618, 2.0618, 2.0617, 2.0617, 2.0616, 2.0616, 2.0615, 2.0615, 2.0615, 2.0615, 2.0614, 2.0614, 2.0614, 2.0613, 2.0613, 2.0612, 2.0611, 2.0611, 2.0611, 2.0611, 2.0611, 2.061, 2.061, 2.0608, 2.0609, 2.0536, 2.0533, 2.1407, 2.1405, 2.1405, 2.1405, 2.1405, 2.1404, 2.1403, 2.1402, 2.1401, 2.14, 2.1399, 2.1399, 2.1399, 2.1398, 2.1398, 2.1397, 2.1397, 2.1396, 2.1396, 2.1396, 2.1396, 2.1396, 2.1395, 2.1395, 2.1395, 2.1395, 2.1395, 2.1394, 2.1394, 2.1394, 2.1394, 2.1393, 2.1392, 2.2917, 2.2917, 2.2915, 2.2915, 2.2915, 2.2911, 2.2911, 2.291, 2.291, 2.291, 2.2909, 2.2908, 2.2908, 2.2908, 2.2908, 2.2907, 2.2906, 2.2906, 2.2905, 2.2904, 2.2904, 2.2904, 2.2904, 2.2903, 2.2903, 2.2902, 2.2902, 2.2902, 2.2901, 2.29, 2.29, 2.29]}, \"token.table\": {\"Topic\": [5, 3, 2, 5, 5, 1, 2, 1, 2, 3, 4, 2, 3, 4, 4, 3, 4, 5, 2, 3, 4, 3, 5, 1, 5, 2, 4, 2, 4, 1, 4, 4, 1, 3, 4, 3, 4, 5, 3, 5, 2, 1, 3, 2, 2, 1, 3, 1, 2, 2, 2, 1, 5, 1, 2, 5, 4, 3, 4, 1, 2, 2, 1, 5, 5, 4, 4, 3, 3, 1, 3, 5, 4, 2, 1, 5, 1, 2, 3, 5, 1, 3, 5, 2, 2, 1, 5, 5, 3, 2, 1, 4, 3, 5, 5, 3, 2, 1, 2, 3, 1, 2, 2, 3, 3, 4, 5, 4, 4, 2, 3, 5, 4, 1, 1, 2, 1, 2, 3, 4, 4, 2, 1, 2, 2, 5, 2, 2, 5, 2, 1, 4, 1, 5, 3, 4, 3, 4, 5, 5, 4, 4, 1, 2, 1, 5, 4, 1, 3, 3, 3, 4, 5, 1, 2, 2, 1, 1, 2, 1, 1, 3, 3, 2, 5, 5, 1, 1, 5, 1, 2, 1, 4, 4, 1, 2, 4, 1, 3, 1, 4, 2, 3], \"Freq\": [0.999451738914106, 0.9980832532945272, 0.9997442525378603, 0.9976143932269972, 0.9983638229923281, 0.0055114052771340835, 0.9943493687496076, 0.999527136050866, 0.9998322202301011, 0.9985610060763453, 0.9994672581529929, 0.9999053875374765, 0.9992548963009789, 0.9989162894030049, 0.9994995933849103, 0.9996880595365432, 0.9992898951253029, 0.9981848086350921, 0.008652880033637407, 0.9913728267110287, 0.9996688467925969, 0.9994038680864806, 0.9993439153240009, 0.9998557083234753, 0.998171999200176, 0.9998468692614965, 0.9989002818087725, 0.9995004071289424, 0.9992546743303902, 0.999922644545409, 0.9981036344217542, 0.9989650038367528, 0.9998405985624234, 0.9985005227766529, 0.9993460534514824, 0.9994621474241693, 0.9991093336300808, 0.9992650496564068, 0.9980958521740206, 0.9990395025234416, 0.9997833482630135, 0.9996385923407132, 0.9981429623180937, 0.9991506665217462, 0.9996010961164751, 0.9996676972705285, 0.9991968836975896, 0.9998132026653711, 0.9998475470536996, 0.9998246091767221, 0.9998796922970674, 0.9998308236538648, 0.9998053456211525, 0.9995400058683435, 0.9993928727030208, 0.9983998600529853, 0.9982487500579711, 0.9989474684038796, 0.9986740253822007, 0.9996633927206735, 0.9996144794270484, 0.9992449343777454, 0.9997008330158277, 0.9987417405374196, 0.9983317432704851, 0.9992899980319588, 0.9988100582320745, 0.9987951372610351, 0.9990114178084819, 0.9997953924372261, 0.9990801142008943, 0.9977004036553528, 0.999550797376315, 0.9999342496044692, 0.999761883006032, 0.9984302237164842, 0.2887361589064632, 0.7110127913071657, 0.9992716958606338, 0.9984404398392144, 0.008665428800142238, 0.9913250547362721, 0.9987377847491763, 0.9997497373020844, 0.9995158129088137, 0.9997691320105511, 0.9998933287836226, 0.9986451919548925, 0.9993796699843593, 0.9998479325753632, 0.9994237302191841, 0.9979346446107962, 0.9995421654207869, 0.9986863585476075, 0.9978167833404572, 0.9997695611682855, 0.9995821717595036, 0.04782532072755606, 0.9520427179498826, 0.9991153539269192, 0.995173085666924, 0.004768954344670682, 0.0012171888297905762, 0.9987034348431678, 0.9995233751520093, 0.9978338486196506, 0.9988492820978102, 0.9994368113684855, 0.9977522545440025, 0.9996763290304299, 0.999704530225234, 0.9987263791650096, 0.998537584244381, 0.9993977185288382, 0.9998265272195035, 0.9997662472864566, 0.9950459203594839, 0.004810858599642952, 0.9979915949474737, 0.9997018676657913, 0.9994695388473169, 0.9993954381556277, 0.08876715074028697, 0.9109458213164815, 0.9996817182826649, 0.9976720093683252, 0.9995626914094818, 0.9996143784727523, 0.9984801809114674, 0.9996202848323761, 0.9999054144602416, 0.9978099476055647, 0.9994882428843013, 0.9973964229546178, 0.9988792050480395, 0.9984984356287516, 0.9996296970394576, 0.9985209858447701, 0.998712276815687, 0.9983470704184106, 0.9987125066617871, 0.9990413697070131, 0.979399553608866, 0.02034886154742901, 0.999558594295288, 0.999197629633341, 0.9999196044734514, 0.9998446994509161, 0.9994874881848731, 0.9997505671593457, 0.9987046183466795, 0.0008901110680451689, 0.9995144654226643, 0.9993299488117164, 0.9994679888704379, 0.9998603108482047, 0.9997144826186399, 0.0555508029246982, 0.9441483365302388, 0.9993949870619705, 0.9998736519566582, 0.9987967619758628, 0.9989092070791759, 0.9998033165797765, 0.9993517401771485, 0.9983782732279349, 0.9999007196186315, 0.9996761401573133, 0.9984651739784004, 0.9811201607845406, 0.018890883882373376, 0.9996501006947772, 0.9994971790033332, 0.9980614198169552, 0.9545243514604033, 0.045163205652254707, 0.9987546453653064, 0.99991292836283, 0.999826248070483, 0.9999576182141012, 0.9986167227567855, 0.9993307181993256, 0.999227575460054], \"Term\": [\"able\", \"accurate\", \"actually\", \"agree\", \"aiart\", \"also\", \"also\", \"amazing\", \"answer\", \"anymore\", \"art\", \"ask\", \"assessment\", \"asset\", \"automate\", \"awesome\", \"beat\", \"believe\", \"bit\", \"bit\", \"business\", \"change\", \"chat\", \"code\", \"combination\", \"come\", \"computer\", \"conversation\", \"crazy\", \"create\", \"creative\", \"critical\", \"day\", \"detailed\", \"developer\", \"difference\", \"digital\", \"do\", \"document\", \"enough\", \"even\", \"explain\", \"explore\", \"feel\", \"first\", \"future\", \"game\", \"generate\", \"get\", \"give\", \"go\", \"good\", \"gpt\", \"great\", \"guess\", \"hand\", \"handle\", \"happen\", \"hard\", \"help\", \"here\", \"hour\", \"human\", \"hypothetical\", \"imagine\", \"implication\", \"industry\", \"innovation\", \"insane\", \"interesting\", \"internet\", \"jasper\", \"job\", \"know\", \"learn\", \"leave\", \"let\", \"let\", \"level\", \"little\", \"llm\", \"llm\", \"logic\", \"look\", \"lot\", \"love\", \"m\", \"machine\", \"machinelearning\", \"make\", \"many\", \"marketing\", \"matter\", \"meet\", \"mine\", \"model\", \"much\", \"need\", \"need\", \"never\", \"new\", \"new\", \"next\", \"next\", \"opinion\", \"optimistic\", \"output\", \"paper\", \"pay\", \"people\", \"play\", \"poem\", \"pose\", \"potential\", \"prompt\", \"question\", \"really\", \"really\", \"refer\", \"replace\", \"research\", \"response\", \"result\", \"result\", \"right\", \"robot\", \"s\", \"say\", \"scary\", \"search\", \"see\", \"service\", \"show\", \"silly\", \"software\", \"solve\", \"soon\", \"sound\", \"speak\", \"stablediffusion\", \"stackoverflow\", \"startup\", \"still\", \"still\", \"story\", \"style\", \"take\", \"talk\", \"tech\", \"technology\", \"tedious\", \"tedious\", \"tell\", \"text\", \"thing\", \"think\", \"thread\", \"time\", \"time\", \"today\", \"tool\", \"topic\", \"true\", \"try\", \"tweet\", \"type\", \"use\", \"ve\", \"wait\", \"want\", \"want\", \"way\", \"web\", \"website\", \"well\", \"well\", \"whole\", \"work\", \"world\", \"write\", \"writer\", \"year\", \"yet\"]}, \"R\": 30, \"lambda.step\": 0.01, \"plot.opts\": {\"xlab\": \"PC1\", \"ylab\": \"PC2\"}, \"topic.order\": [5, 1, 4, 2, 3]};\n",
              "\n",
              "function LDAvis_load_lib(url, callback){\n",
              "  var s = document.createElement('script');\n",
              "  s.src = url;\n",
              "  s.async = true;\n",
              "  s.onreadystatechange = s.onload = callback;\n",
              "  s.onerror = function(){console.warn(\"failed to load library \" + url);};\n",
              "  document.getElementsByTagName(\"head\")[0].appendChild(s);\n",
              "}\n",
              "\n",
              "if(typeof(LDAvis) !== \"undefined\"){\n",
              "   // already loaded: just create the visualization\n",
              "   !function(LDAvis){\n",
              "       new LDAvis(\"#\" + \"ldavis_el1141396325551010885003172829\", ldavis_el1141396325551010885003172829_data);\n",
              "   }(LDAvis);\n",
              "}else if(typeof define === \"function\" && define.amd){\n",
              "   // require.js is available: use it to load d3/LDAvis\n",
              "   require.config({paths: {d3: \"https://d3js.org/d3.v5\"}});\n",
              "   require([\"d3\"], function(d3){\n",
              "      window.d3 = d3;\n",
              "      LDAvis_load_lib(\"https://cdn.jsdelivr.net/gh/bmabey/pyLDAvis@3.4.0/pyLDAvis/js/ldavis.v3.0.0.js\", function(){\n",
              "        new LDAvis(\"#\" + \"ldavis_el1141396325551010885003172829\", ldavis_el1141396325551010885003172829_data);\n",
              "      });\n",
              "    });\n",
              "}else{\n",
              "    // require.js not available: dynamically load d3 & LDAvis\n",
              "    LDAvis_load_lib(\"https://d3js.org/d3.v5.js\", function(){\n",
              "         LDAvis_load_lib(\"https://cdn.jsdelivr.net/gh/bmabey/pyLDAvis@3.4.0/pyLDAvis/js/ldavis.v3.0.0.js\", function(){\n",
              "                 new LDAvis(\"#\" + \"ldavis_el1141396325551010885003172829\", ldavis_el1141396325551010885003172829_data);\n",
              "            })\n",
              "         });\n",
              "}\n",
              "</script>"
            ]
          },
          "metadata": {},
          "execution_count": 38
        }
      ]
    }
  ]
}